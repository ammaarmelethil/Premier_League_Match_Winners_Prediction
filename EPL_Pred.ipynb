{
 "cells": [
  {
   "cell_type": "markdown",
   "source": [
    "# 1. Webscraping Soccer Matches from the EPL"
   ],
   "metadata": {
    "collapsed": false
   },
   "id": "3eb4cd43a33e0513"
  },
  {
   "cell_type": "code",
   "execution_count": 1,
   "outputs": [],
   "source": [
    "import requests\n",
    "from bs4 import BeautifulSoup"
   ],
   "metadata": {
    "collapsed": false,
    "ExecuteTime": {
     "end_time": "2024-01-25T19:16:36.131087Z",
     "start_time": "2024-01-25T19:16:36.002359Z"
    }
   },
   "id": "2db64e28bbbc98c"
  },
  {
   "cell_type": "code",
   "execution_count": 2,
   "outputs": [],
   "source": [
    "standings_url = 'https://fbref.com/en/comps/9/Premier-League-Stats'"
   ],
   "metadata": {
    "collapsed": false,
    "ExecuteTime": {
     "end_time": "2024-01-25T19:16:36.136554Z",
     "start_time": "2024-01-25T19:16:36.132188Z"
    }
   },
   "id": "b1f916d972280dfa"
  },
  {
   "cell_type": "code",
   "execution_count": 3,
   "outputs": [],
   "source": [
    "data = requests.get(standings_url)"
   ],
   "metadata": {
    "collapsed": false,
    "ExecuteTime": {
     "end_time": "2024-01-25T19:16:36.432052Z",
     "start_time": "2024-01-25T19:16:36.135643Z"
    }
   },
   "id": "b97ee83ef44a2ba6"
  },
  {
   "cell_type": "code",
   "execution_count": 4,
   "outputs": [
    {
     "data": {
      "text/plain": "['/en/squads/822bd0ba/Liverpool-Stats',\n '/en/squads/b8fd03ef/Manchester-City-Stats',\n '/en/squads/18bb7c10/Arsenal-Stats',\n '/en/squads/8602292d/Aston-Villa-Stats',\n '/en/squads/361ca564/Tottenham-Hotspur-Stats',\n '/en/squads/7c21e445/West-Ham-United-Stats',\n '/en/squads/d07537b9/Brighton-and-Hove-Albion-Stats',\n '/en/squads/19538871/Manchester-United-Stats',\n '/en/squads/cff3d9bb/Chelsea-Stats',\n '/en/squads/b2b47a98/Newcastle-United-Stats',\n '/en/squads/8cec06e1/Wolverhampton-Wanderers-Stats',\n '/en/squads/4ba7cbea/Bournemouth-Stats',\n '/en/squads/fd962109/Fulham-Stats',\n '/en/squads/cd051869/Brentford-Stats',\n '/en/squads/47c64c55/Crystal-Palace-Stats',\n '/en/squads/e4a775cb/Nottingham-Forest-Stats',\n '/en/squads/d3fd31cc/Everton-Stats',\n '/en/squads/e297cd13/Luton-Town-Stats',\n '/en/squads/943e8050/Burnley-Stats',\n '/en/squads/1df6b87e/Sheffield-United-Stats']"
     },
     "execution_count": 4,
     "metadata": {},
     "output_type": "execute_result"
    }
   ],
   "source": [
    "soup = BeautifulSoup(data.text)\n",
    "standings_table = soup.select('table.stats_table')[0]\n",
    "\n",
    "# Getting href links for all squads in the table\n",
    "links = standings_table.find_all('a')\n",
    "links = [l.get('href') for l in links]\n",
    "links = [l for l in links if '/squads/' in l]\n",
    "links"
   ],
   "metadata": {
    "collapsed": false,
    "ExecuteTime": {
     "end_time": "2024-01-25T19:16:36.732957Z",
     "start_time": "2024-01-25T19:16:36.440600Z"
    }
   },
   "id": "c42a1c1dfcd02432"
  },
  {
   "cell_type": "code",
   "execution_count": 5,
   "outputs": [
    {
     "data": {
      "text/plain": "['https://fbref.com/en/squads/822bd0ba/Liverpool-Stats',\n 'https://fbref.com/en/squads/b8fd03ef/Manchester-City-Stats',\n 'https://fbref.com/en/squads/18bb7c10/Arsenal-Stats',\n 'https://fbref.com/en/squads/8602292d/Aston-Villa-Stats',\n 'https://fbref.com/en/squads/361ca564/Tottenham-Hotspur-Stats',\n 'https://fbref.com/en/squads/7c21e445/West-Ham-United-Stats',\n 'https://fbref.com/en/squads/d07537b9/Brighton-and-Hove-Albion-Stats',\n 'https://fbref.com/en/squads/19538871/Manchester-United-Stats',\n 'https://fbref.com/en/squads/cff3d9bb/Chelsea-Stats',\n 'https://fbref.com/en/squads/b2b47a98/Newcastle-United-Stats',\n 'https://fbref.com/en/squads/8cec06e1/Wolverhampton-Wanderers-Stats',\n 'https://fbref.com/en/squads/4ba7cbea/Bournemouth-Stats',\n 'https://fbref.com/en/squads/fd962109/Fulham-Stats',\n 'https://fbref.com/en/squads/cd051869/Brentford-Stats',\n 'https://fbref.com/en/squads/47c64c55/Crystal-Palace-Stats',\n 'https://fbref.com/en/squads/e4a775cb/Nottingham-Forest-Stats',\n 'https://fbref.com/en/squads/d3fd31cc/Everton-Stats',\n 'https://fbref.com/en/squads/e297cd13/Luton-Town-Stats',\n 'https://fbref.com/en/squads/943e8050/Burnley-Stats',\n 'https://fbref.com/en/squads/1df6b87e/Sheffield-United-Stats']"
     },
     "execution_count": 5,
     "metadata": {},
     "output_type": "execute_result"
    }
   ],
   "source": [
    "teams_urls = [f\"https://fbref.com{l}\" for l in links]\n",
    "teams_urls"
   ],
   "metadata": {
    "collapsed": false,
    "ExecuteTime": {
     "end_time": "2024-01-25T19:16:36.735993Z",
     "start_time": "2024-01-25T19:16:36.733015Z"
    }
   },
   "id": "ab989896f90e4541"
  },
  {
   "cell_type": "markdown",
   "source": [
    "### 1.1 Extracting Match Stats using Pandas and Requests"
   ],
   "metadata": {
    "collapsed": false
   },
   "id": "adf5a9c0eb83d9a5"
  },
  {
   "cell_type": "code",
   "execution_count": 6,
   "outputs": [],
   "source": [
    "import pandas as pd"
   ],
   "metadata": {
    "collapsed": false,
    "ExecuteTime": {
     "end_time": "2024-01-25T19:16:37.026354Z",
     "start_time": "2024-01-25T19:16:36.736618Z"
    }
   },
   "id": "7e01b8ec82ed68b3"
  },
  {
   "cell_type": "code",
   "execution_count": 12,
   "outputs": [
    {
     "data": {
      "text/plain": "          Date   Time            Comp                Round  Day Venue Result  \\\n0   2023-08-13  16:30  Premier League          Matchweek 1  Sun  Away      D   \n1   2023-08-19  15:00  Premier League          Matchweek 2  Sat  Home      W   \n2   2023-08-27  16:30  Premier League          Matchweek 3  Sun  Away      W   \n3   2023-09-03  14:00  Premier League          Matchweek 4  Sun  Home      W   \n4   2023-09-16  12:30  Premier League          Matchweek 5  Sat  Away      W   \n5   2023-09-21  18:45       Europa Lg          Group stage  Thu  Away      W   \n6   2023-09-24  14:00  Premier League          Matchweek 6  Sun  Home      W   \n7   2023-09-27  19:45         EFL Cup          Third round  Wed  Home      W   \n8   2023-09-30  17:30  Premier League          Matchweek 7  Sat  Away      L   \n9   2023-10-05  20:00       Europa Lg          Group stage  Thu  Home      W   \n10  2023-10-08  14:00  Premier League          Matchweek 8  Sun  Away      D   \n11  2023-10-21  12:30  Premier League          Matchweek 9  Sat  Home      W   \n12  2023-10-26  20:00       Europa Lg          Group stage  Thu  Home      W   \n13  2023-10-29  14:00  Premier League         Matchweek 10  Sun  Home      W   \n14  2023-11-01  19:45         EFL Cup         Fourth round  Wed  Away      W   \n15  2023-11-05  16:30  Premier League         Matchweek 11  Sun  Away      D   \n16  2023-11-09  18:45       Europa Lg          Group stage  Thu  Away      L   \n17  2023-11-12  14:00  Premier League         Matchweek 12  Sun  Home      W   \n18  2023-11-25  12:30  Premier League         Matchweek 13  Sat  Away      D   \n19  2023-11-30  20:00       Europa Lg          Group stage  Thu  Home      W   \n20  2023-12-03  14:00  Premier League         Matchweek 14  Sun  Home      W   \n21  2023-12-06  19:30  Premier League         Matchweek 15  Wed  Away      W   \n22  2023-12-09  12:30  Premier League         Matchweek 16  Sat  Away      W   \n23  2023-12-14  18:45       Europa Lg          Group stage  Thu  Away      L   \n24  2023-12-17  16:30  Premier League         Matchweek 17  Sun  Home      D   \n25  2023-12-20  20:00         EFL Cup       Quarter-finals  Wed  Home      W   \n26  2023-12-23  17:30  Premier League         Matchweek 18  Sat  Home      D   \n27  2023-12-26  17:30  Premier League         Matchweek 19  Tue  Away      W   \n28  2024-01-01  20:00  Premier League         Matchweek 20  Mon  Home      W   \n29  2024-01-07  16:30          FA Cup   Third round proper  Sun  Away      W   \n30  2024-01-10  20:00         EFL Cup          Semi-finals  Wed  Home      W   \n31  2024-01-21  16:30  Premier League         Matchweek 21  Sun  Away      W   \n32  2024-01-24  20:00         EFL Cup          Semi-finals  Wed  Away      D   \n33  2024-01-28  14:30          FA Cup  Fourth round proper  Sun  Home    NaN   \n34  2024-01-31  20:15  Premier League         Matchweek 22  Wed  Home    NaN   \n35  2024-02-04  16:30  Premier League         Matchweek 23  Sun  Away    NaN   \n36  2024-02-10  15:00  Premier League         Matchweek 24  Sat  Home    NaN   \n37  2024-02-17  12:30  Premier League         Matchweek 25  Sat  Away    NaN   \n38  2024-02-24  15:00  Premier League         Matchweek 26  Sat  Home    NaN   \n39  2024-03-02  15:00  Premier League         Matchweek 27  Sat  Away    NaN   \n40  2024-03-09    NaN  Premier League         Matchweek 28  Sat  Home    NaN   \n41  2024-03-16    NaN  Premier League         Matchweek 29  Sat  Away    NaN   \n42  2024-03-30    NaN  Premier League         Matchweek 30  Sat  Home    NaN   \n43  2024-04-03    NaN  Premier League         Matchweek 31  Wed  Home    NaN   \n44  2024-04-06    NaN  Premier League         Matchweek 32  Sat  Away    NaN   \n45  2024-04-13    NaN  Premier League         Matchweek 33  Sat  Home    NaN   \n46  2024-04-20    NaN  Premier League         Matchweek 34  Sat  Away    NaN   \n47  2024-04-27    NaN  Premier League         Matchweek 35  Sat  Away    NaN   \n48  2024-05-04    NaN  Premier League         Matchweek 36  Sat  Home    NaN   \n49  2024-05-11    NaN  Premier League         Matchweek 37  Sat  Away    NaN   \n50  2024-05-19    NaN  Premier League         Matchweek 38  Sun  Home    NaN   \n\n     GF   GA         Opponent   xG  xGA  Poss  Attendance  \\\n0   1.0  1.0          Chelsea  1.3  1.4  35.0     40096.0   \n1   3.0  1.0      Bournemouth  3.0  1.3  64.0     53145.0   \n2   2.0  1.0    Newcastle Utd  0.9  2.0  41.0     52214.0   \n3   3.0  0.0      Aston Villa  2.5  0.7  63.0     50109.0   \n4   3.0  1.0           Wolves  2.5  0.6  65.0     31257.0   \n5   3.0  1.0          at LASK  2.2  0.3  66.0     18091.0   \n6   3.0  1.0         West Ham  3.0  1.1  63.0     50136.0   \n7   3.0  1.0   Leicester City  NaN  NaN  57.0     49732.0   \n8   1.0  2.0        Tottenham  1.3  2.2  36.0     62001.0   \n9   2.0  0.0      be Union SG  2.9  1.1  72.0     49513.0   \n10  2.0  2.0         Brighton  2.3  2.3  54.0     31752.0   \n11  2.0  0.0          Everton  2.2  0.1  77.0     50201.0   \n12  5.0  1.0      fr Toulouse  2.9  1.1  62.0     49338.0   \n13  3.0  0.0  Nott'ham Forest  3.2  0.4  72.0     50143.0   \n14  2.0  1.0      Bournemouth  NaN  NaN  67.0     11116.0   \n15  1.0  1.0       Luton Town  2.6  0.8  73.0     11049.0   \n16  2.0  3.0      fr Toulouse  1.1  1.0  71.0     32026.0   \n17  3.0  0.0        Brentford  1.7  1.6  59.0     50151.0   \n18  1.0  1.0  Manchester City  0.6  1.3  41.0     53289.0   \n19  4.0  0.0          at LASK  3.3  0.7  65.0     49666.0   \n20  4.0  3.0           Fulham  2.1  1.2  61.0     50124.0   \n21  2.0  0.0    Sheffield Utd  1.7  1.0  75.0     31406.0   \n22  2.0  1.0   Crystal Palace  1.2  1.7  76.0     25103.0   \n23  1.0  2.0      be Union SG  0.3  2.3  68.0     16959.0   \n24  0.0  0.0   Manchester Utd  2.3  0.8  68.0     57158.0   \n25  5.0  1.0         West Ham  NaN  NaN  67.0     57332.0   \n26  1.0  1.0          Arsenal  1.0  0.7  52.0     57548.0   \n27  2.0  0.0          Burnley  1.8  0.8  68.0     21624.0   \n28  4.0  2.0    Newcastle Utd  7.0  0.6  61.0     57471.0   \n29  2.0  0.0          Arsenal  NaN  NaN  46.0     58538.0   \n30  2.0  1.0           Fulham  NaN  NaN  67.0     56724.0   \n31  4.0  0.0      Bournemouth  1.5  1.4  60.0     11228.0   \n32  1.0  1.0           Fulham  NaN  NaN  51.0     24320.0   \n33  NaN  NaN     Norwich City  NaN  NaN   NaN         NaN   \n34  NaN  NaN          Chelsea  NaN  NaN   NaN         NaN   \n35  NaN  NaN          Arsenal  NaN  NaN   NaN         NaN   \n36  NaN  NaN          Burnley  NaN  NaN   NaN         NaN   \n37  NaN  NaN        Brentford  NaN  NaN   NaN         NaN   \n38  NaN  NaN       Luton Town  NaN  NaN   NaN         NaN   \n39  NaN  NaN  Nott'ham Forest  NaN  NaN   NaN         NaN   \n40  NaN  NaN  Manchester City  NaN  NaN   NaN         NaN   \n41  NaN  NaN          Everton  NaN  NaN   NaN         NaN   \n42  NaN  NaN         Brighton  NaN  NaN   NaN         NaN   \n43  NaN  NaN    Sheffield Utd  NaN  NaN   NaN         NaN   \n44  NaN  NaN   Manchester Utd  NaN  NaN   NaN         NaN   \n45  NaN  NaN   Crystal Palace  NaN  NaN   NaN         NaN   \n46  NaN  NaN           Fulham  NaN  NaN   NaN         NaN   \n47  NaN  NaN         West Ham  NaN  NaN   NaN         NaN   \n48  NaN  NaN        Tottenham  NaN  NaN   NaN         NaN   \n49  NaN  NaN      Aston Villa  NaN  NaN   NaN         NaN   \n50  NaN  NaN           Wolves  NaN  NaN   NaN         NaN   \n\n                   Captain Formation         Referee  Match Report  \\\n0          Virgil van Dijk     4-3-3  Anthony Taylor  Match Report   \n1          Virgil van Dijk     4-3-3  Thomas Bramall  Match Report   \n2          Virgil van Dijk     4-3-3     John Brooks  Match Report   \n3   Trent Alexander-Arnold     4-3-3    Simon Hooper  Match Report   \n4         Andrew Robertson     4-3-3  Michael Oliver  Match Report   \n5          Virgil van Dijk     4-3-3  Marco Di Bello  Match Report   \n6          Virgil van Dijk     4-3-3  Chris Kavanagh  Match Report   \n7             Curtis Jones     4-3-3    Tim Robinson  Match Report   \n8          Virgil van Dijk     4-3-3    Simon Hooper  Match Report   \n9   Trent Alexander-Arnold     4-3-3    Morten Krogh  Match Report   \n10         Virgil van Dijk     4-3-3  Anthony Taylor  Match Report   \n11         Virgil van Dijk     4-3-3    Craig Pawson  Match Report   \n12  Trent Alexander-Arnold     4-3-3  Rade Obrenović  Match Report   \n13         Virgil van Dijk     4-3-3  Chris Kavanagh  Match Report   \n14           Mohamed Salah     4-3-3     John Brooks  Match Report   \n15         Virgil van Dijk     4-3-3     Andy Madley  Match Report   \n16               Joe Gomez     4-3-3  Georgi Kabakov  Match Report   \n17         Virgil van Dijk     4-3-3    Paul Tierney  Match Report   \n18         Virgil van Dijk     4-3-3  Chris Kavanagh  Match Report   \n19           Mohamed Salah     4-3-3    Urs Schnyder  Match Report   \n20         Virgil van Dijk     4-3-3  Stuart Attwell  Match Report   \n21         Virgil van Dijk     4-3-3    Simon Hooper  Match Report   \n22         Virgil van Dijk     4-3-3     Andy Madley  Match Report   \n23            Curtis Jones     4-3-3  Orel Grinfeeld  Match Report   \n24         Virgil van Dijk     4-3-3  Michael Oliver  Match Report   \n25         Virgil van Dijk     4-3-3    Tim Robinson  Match Report   \n26         Virgil van Dijk     4-3-3  Chris Kavanagh  Match Report   \n27         Virgil van Dijk     4-3-3    Paul Tierney  Match Report   \n28         Virgil van Dijk     4-3-3  Anthony Taylor  Match Report   \n29  Trent Alexander-Arnold     4-3-3     John Brooks  Match Report   \n30         Virgil van Dijk     4-3-3     David Coote  Match Report   \n31         Virgil van Dijk     4-3-3     Andy Madley  Match Report   \n32         Virgil van Dijk     4-3-3    Simon Hooper  Match Report   \n33                     NaN       NaN             NaN  Head-to-Head   \n34                     NaN       NaN             NaN  Head-to-Head   \n35                     NaN       NaN             NaN  Head-to-Head   \n36                     NaN       NaN             NaN  Head-to-Head   \n37                     NaN       NaN             NaN  Head-to-Head   \n38                     NaN       NaN             NaN  Head-to-Head   \n39                     NaN       NaN             NaN  Head-to-Head   \n40                     NaN       NaN             NaN  Head-to-Head   \n41                     NaN       NaN             NaN  Head-to-Head   \n42                     NaN       NaN             NaN  Head-to-Head   \n43                     NaN       NaN             NaN  Head-to-Head   \n44                     NaN       NaN             NaN  Head-to-Head   \n45                     NaN       NaN             NaN  Head-to-Head   \n46                     NaN       NaN             NaN  Head-to-Head   \n47                     NaN       NaN             NaN  Head-to-Head   \n48                     NaN       NaN             NaN  Head-to-Head   \n49                     NaN       NaN             NaN  Head-to-Head   \n50                     NaN       NaN             NaN  Head-to-Head   \n\n                        Notes  \n0                         NaN  \n1                         NaN  \n2                         NaN  \n3                         NaN  \n4                         NaN  \n5                         NaN  \n6                         NaN  \n7                         NaN  \n8                         NaN  \n9                         NaN  \n10                        NaN  \n11                        NaN  \n12                        NaN  \n13                        NaN  \n14                        NaN  \n15                        NaN  \n16                        NaN  \n17                        NaN  \n18                        NaN  \n19                        NaN  \n20                        NaN  \n21                        NaN  \n22                        NaN  \n23                        NaN  \n24                        NaN  \n25                        NaN  \n26                        NaN  \n27                        NaN  \n28                        NaN  \n29                        NaN  \n30                 Leg 1 of 2  \n31                        NaN  \n32  Leg 2 of 2; Liverpool won  \n33                        NaN  \n34                        NaN  \n35                        NaN  \n36                        NaN  \n37                        NaN  \n38                        NaN  \n39                        NaN  \n40                        NaN  \n41                        NaN  \n42                        NaN  \n43                        NaN  \n44                        NaN  \n45                        NaN  \n46                        NaN  \n47                        NaN  \n48                        NaN  \n49                        NaN  \n50                        NaN  ",
      "text/html": "<div>\n<style scoped>\n    .dataframe tbody tr th:only-of-type {\n        vertical-align: middle;\n    }\n\n    .dataframe tbody tr th {\n        vertical-align: top;\n    }\n\n    .dataframe thead th {\n        text-align: right;\n    }\n</style>\n<table border=\"1\" class=\"dataframe\">\n  <thead>\n    <tr style=\"text-align: right;\">\n      <th></th>\n      <th>Date</th>\n      <th>Time</th>\n      <th>Comp</th>\n      <th>Round</th>\n      <th>Day</th>\n      <th>Venue</th>\n      <th>Result</th>\n      <th>GF</th>\n      <th>GA</th>\n      <th>Opponent</th>\n      <th>xG</th>\n      <th>xGA</th>\n      <th>Poss</th>\n      <th>Attendance</th>\n      <th>Captain</th>\n      <th>Formation</th>\n      <th>Referee</th>\n      <th>Match Report</th>\n      <th>Notes</th>\n    </tr>\n  </thead>\n  <tbody>\n    <tr>\n      <th>0</th>\n      <td>2023-08-13</td>\n      <td>16:30</td>\n      <td>Premier League</td>\n      <td>Matchweek 1</td>\n      <td>Sun</td>\n      <td>Away</td>\n      <td>D</td>\n      <td>1.0</td>\n      <td>1.0</td>\n      <td>Chelsea</td>\n      <td>1.3</td>\n      <td>1.4</td>\n      <td>35.0</td>\n      <td>40096.0</td>\n      <td>Virgil van Dijk</td>\n      <td>4-3-3</td>\n      <td>Anthony Taylor</td>\n      <td>Match Report</td>\n      <td>NaN</td>\n    </tr>\n    <tr>\n      <th>1</th>\n      <td>2023-08-19</td>\n      <td>15:00</td>\n      <td>Premier League</td>\n      <td>Matchweek 2</td>\n      <td>Sat</td>\n      <td>Home</td>\n      <td>W</td>\n      <td>3.0</td>\n      <td>1.0</td>\n      <td>Bournemouth</td>\n      <td>3.0</td>\n      <td>1.3</td>\n      <td>64.0</td>\n      <td>53145.0</td>\n      <td>Virgil van Dijk</td>\n      <td>4-3-3</td>\n      <td>Thomas Bramall</td>\n      <td>Match Report</td>\n      <td>NaN</td>\n    </tr>\n    <tr>\n      <th>2</th>\n      <td>2023-08-27</td>\n      <td>16:30</td>\n      <td>Premier League</td>\n      <td>Matchweek 3</td>\n      <td>Sun</td>\n      <td>Away</td>\n      <td>W</td>\n      <td>2.0</td>\n      <td>1.0</td>\n      <td>Newcastle Utd</td>\n      <td>0.9</td>\n      <td>2.0</td>\n      <td>41.0</td>\n      <td>52214.0</td>\n      <td>Virgil van Dijk</td>\n      <td>4-3-3</td>\n      <td>John Brooks</td>\n      <td>Match Report</td>\n      <td>NaN</td>\n    </tr>\n    <tr>\n      <th>3</th>\n      <td>2023-09-03</td>\n      <td>14:00</td>\n      <td>Premier League</td>\n      <td>Matchweek 4</td>\n      <td>Sun</td>\n      <td>Home</td>\n      <td>W</td>\n      <td>3.0</td>\n      <td>0.0</td>\n      <td>Aston Villa</td>\n      <td>2.5</td>\n      <td>0.7</td>\n      <td>63.0</td>\n      <td>50109.0</td>\n      <td>Trent Alexander-Arnold</td>\n      <td>4-3-3</td>\n      <td>Simon Hooper</td>\n      <td>Match Report</td>\n      <td>NaN</td>\n    </tr>\n    <tr>\n      <th>4</th>\n      <td>2023-09-16</td>\n      <td>12:30</td>\n      <td>Premier League</td>\n      <td>Matchweek 5</td>\n      <td>Sat</td>\n      <td>Away</td>\n      <td>W</td>\n      <td>3.0</td>\n      <td>1.0</td>\n      <td>Wolves</td>\n      <td>2.5</td>\n      <td>0.6</td>\n      <td>65.0</td>\n      <td>31257.0</td>\n      <td>Andrew Robertson</td>\n      <td>4-3-3</td>\n      <td>Michael Oliver</td>\n      <td>Match Report</td>\n      <td>NaN</td>\n    </tr>\n    <tr>\n      <th>5</th>\n      <td>2023-09-21</td>\n      <td>18:45</td>\n      <td>Europa Lg</td>\n      <td>Group stage</td>\n      <td>Thu</td>\n      <td>Away</td>\n      <td>W</td>\n      <td>3.0</td>\n      <td>1.0</td>\n      <td>at LASK</td>\n      <td>2.2</td>\n      <td>0.3</td>\n      <td>66.0</td>\n      <td>18091.0</td>\n      <td>Virgil van Dijk</td>\n      <td>4-3-3</td>\n      <td>Marco Di Bello</td>\n      <td>Match Report</td>\n      <td>NaN</td>\n    </tr>\n    <tr>\n      <th>6</th>\n      <td>2023-09-24</td>\n      <td>14:00</td>\n      <td>Premier League</td>\n      <td>Matchweek 6</td>\n      <td>Sun</td>\n      <td>Home</td>\n      <td>W</td>\n      <td>3.0</td>\n      <td>1.0</td>\n      <td>West Ham</td>\n      <td>3.0</td>\n      <td>1.1</td>\n      <td>63.0</td>\n      <td>50136.0</td>\n      <td>Virgil van Dijk</td>\n      <td>4-3-3</td>\n      <td>Chris Kavanagh</td>\n      <td>Match Report</td>\n      <td>NaN</td>\n    </tr>\n    <tr>\n      <th>7</th>\n      <td>2023-09-27</td>\n      <td>19:45</td>\n      <td>EFL Cup</td>\n      <td>Third round</td>\n      <td>Wed</td>\n      <td>Home</td>\n      <td>W</td>\n      <td>3.0</td>\n      <td>1.0</td>\n      <td>Leicester City</td>\n      <td>NaN</td>\n      <td>NaN</td>\n      <td>57.0</td>\n      <td>49732.0</td>\n      <td>Curtis Jones</td>\n      <td>4-3-3</td>\n      <td>Tim Robinson</td>\n      <td>Match Report</td>\n      <td>NaN</td>\n    </tr>\n    <tr>\n      <th>8</th>\n      <td>2023-09-30</td>\n      <td>17:30</td>\n      <td>Premier League</td>\n      <td>Matchweek 7</td>\n      <td>Sat</td>\n      <td>Away</td>\n      <td>L</td>\n      <td>1.0</td>\n      <td>2.0</td>\n      <td>Tottenham</td>\n      <td>1.3</td>\n      <td>2.2</td>\n      <td>36.0</td>\n      <td>62001.0</td>\n      <td>Virgil van Dijk</td>\n      <td>4-3-3</td>\n      <td>Simon Hooper</td>\n      <td>Match Report</td>\n      <td>NaN</td>\n    </tr>\n    <tr>\n      <th>9</th>\n      <td>2023-10-05</td>\n      <td>20:00</td>\n      <td>Europa Lg</td>\n      <td>Group stage</td>\n      <td>Thu</td>\n      <td>Home</td>\n      <td>W</td>\n      <td>2.0</td>\n      <td>0.0</td>\n      <td>be Union SG</td>\n      <td>2.9</td>\n      <td>1.1</td>\n      <td>72.0</td>\n      <td>49513.0</td>\n      <td>Trent Alexander-Arnold</td>\n      <td>4-3-3</td>\n      <td>Morten Krogh</td>\n      <td>Match Report</td>\n      <td>NaN</td>\n    </tr>\n    <tr>\n      <th>10</th>\n      <td>2023-10-08</td>\n      <td>14:00</td>\n      <td>Premier League</td>\n      <td>Matchweek 8</td>\n      <td>Sun</td>\n      <td>Away</td>\n      <td>D</td>\n      <td>2.0</td>\n      <td>2.0</td>\n      <td>Brighton</td>\n      <td>2.3</td>\n      <td>2.3</td>\n      <td>54.0</td>\n      <td>31752.0</td>\n      <td>Virgil van Dijk</td>\n      <td>4-3-3</td>\n      <td>Anthony Taylor</td>\n      <td>Match Report</td>\n      <td>NaN</td>\n    </tr>\n    <tr>\n      <th>11</th>\n      <td>2023-10-21</td>\n      <td>12:30</td>\n      <td>Premier League</td>\n      <td>Matchweek 9</td>\n      <td>Sat</td>\n      <td>Home</td>\n      <td>W</td>\n      <td>2.0</td>\n      <td>0.0</td>\n      <td>Everton</td>\n      <td>2.2</td>\n      <td>0.1</td>\n      <td>77.0</td>\n      <td>50201.0</td>\n      <td>Virgil van Dijk</td>\n      <td>4-3-3</td>\n      <td>Craig Pawson</td>\n      <td>Match Report</td>\n      <td>NaN</td>\n    </tr>\n    <tr>\n      <th>12</th>\n      <td>2023-10-26</td>\n      <td>20:00</td>\n      <td>Europa Lg</td>\n      <td>Group stage</td>\n      <td>Thu</td>\n      <td>Home</td>\n      <td>W</td>\n      <td>5.0</td>\n      <td>1.0</td>\n      <td>fr Toulouse</td>\n      <td>2.9</td>\n      <td>1.1</td>\n      <td>62.0</td>\n      <td>49338.0</td>\n      <td>Trent Alexander-Arnold</td>\n      <td>4-3-3</td>\n      <td>Rade Obrenović</td>\n      <td>Match Report</td>\n      <td>NaN</td>\n    </tr>\n    <tr>\n      <th>13</th>\n      <td>2023-10-29</td>\n      <td>14:00</td>\n      <td>Premier League</td>\n      <td>Matchweek 10</td>\n      <td>Sun</td>\n      <td>Home</td>\n      <td>W</td>\n      <td>3.0</td>\n      <td>0.0</td>\n      <td>Nott'ham Forest</td>\n      <td>3.2</td>\n      <td>0.4</td>\n      <td>72.0</td>\n      <td>50143.0</td>\n      <td>Virgil van Dijk</td>\n      <td>4-3-3</td>\n      <td>Chris Kavanagh</td>\n      <td>Match Report</td>\n      <td>NaN</td>\n    </tr>\n    <tr>\n      <th>14</th>\n      <td>2023-11-01</td>\n      <td>19:45</td>\n      <td>EFL Cup</td>\n      <td>Fourth round</td>\n      <td>Wed</td>\n      <td>Away</td>\n      <td>W</td>\n      <td>2.0</td>\n      <td>1.0</td>\n      <td>Bournemouth</td>\n      <td>NaN</td>\n      <td>NaN</td>\n      <td>67.0</td>\n      <td>11116.0</td>\n      <td>Mohamed Salah</td>\n      <td>4-3-3</td>\n      <td>John Brooks</td>\n      <td>Match Report</td>\n      <td>NaN</td>\n    </tr>\n    <tr>\n      <th>15</th>\n      <td>2023-11-05</td>\n      <td>16:30</td>\n      <td>Premier League</td>\n      <td>Matchweek 11</td>\n      <td>Sun</td>\n      <td>Away</td>\n      <td>D</td>\n      <td>1.0</td>\n      <td>1.0</td>\n      <td>Luton Town</td>\n      <td>2.6</td>\n      <td>0.8</td>\n      <td>73.0</td>\n      <td>11049.0</td>\n      <td>Virgil van Dijk</td>\n      <td>4-3-3</td>\n      <td>Andy Madley</td>\n      <td>Match Report</td>\n      <td>NaN</td>\n    </tr>\n    <tr>\n      <th>16</th>\n      <td>2023-11-09</td>\n      <td>18:45</td>\n      <td>Europa Lg</td>\n      <td>Group stage</td>\n      <td>Thu</td>\n      <td>Away</td>\n      <td>L</td>\n      <td>2.0</td>\n      <td>3.0</td>\n      <td>fr Toulouse</td>\n      <td>1.1</td>\n      <td>1.0</td>\n      <td>71.0</td>\n      <td>32026.0</td>\n      <td>Joe Gomez</td>\n      <td>4-3-3</td>\n      <td>Georgi Kabakov</td>\n      <td>Match Report</td>\n      <td>NaN</td>\n    </tr>\n    <tr>\n      <th>17</th>\n      <td>2023-11-12</td>\n      <td>14:00</td>\n      <td>Premier League</td>\n      <td>Matchweek 12</td>\n      <td>Sun</td>\n      <td>Home</td>\n      <td>W</td>\n      <td>3.0</td>\n      <td>0.0</td>\n      <td>Brentford</td>\n      <td>1.7</td>\n      <td>1.6</td>\n      <td>59.0</td>\n      <td>50151.0</td>\n      <td>Virgil van Dijk</td>\n      <td>4-3-3</td>\n      <td>Paul Tierney</td>\n      <td>Match Report</td>\n      <td>NaN</td>\n    </tr>\n    <tr>\n      <th>18</th>\n      <td>2023-11-25</td>\n      <td>12:30</td>\n      <td>Premier League</td>\n      <td>Matchweek 13</td>\n      <td>Sat</td>\n      <td>Away</td>\n      <td>D</td>\n      <td>1.0</td>\n      <td>1.0</td>\n      <td>Manchester City</td>\n      <td>0.6</td>\n      <td>1.3</td>\n      <td>41.0</td>\n      <td>53289.0</td>\n      <td>Virgil van Dijk</td>\n      <td>4-3-3</td>\n      <td>Chris Kavanagh</td>\n      <td>Match Report</td>\n      <td>NaN</td>\n    </tr>\n    <tr>\n      <th>19</th>\n      <td>2023-11-30</td>\n      <td>20:00</td>\n      <td>Europa Lg</td>\n      <td>Group stage</td>\n      <td>Thu</td>\n      <td>Home</td>\n      <td>W</td>\n      <td>4.0</td>\n      <td>0.0</td>\n      <td>at LASK</td>\n      <td>3.3</td>\n      <td>0.7</td>\n      <td>65.0</td>\n      <td>49666.0</td>\n      <td>Mohamed Salah</td>\n      <td>4-3-3</td>\n      <td>Urs Schnyder</td>\n      <td>Match Report</td>\n      <td>NaN</td>\n    </tr>\n    <tr>\n      <th>20</th>\n      <td>2023-12-03</td>\n      <td>14:00</td>\n      <td>Premier League</td>\n      <td>Matchweek 14</td>\n      <td>Sun</td>\n      <td>Home</td>\n      <td>W</td>\n      <td>4.0</td>\n      <td>3.0</td>\n      <td>Fulham</td>\n      <td>2.1</td>\n      <td>1.2</td>\n      <td>61.0</td>\n      <td>50124.0</td>\n      <td>Virgil van Dijk</td>\n      <td>4-3-3</td>\n      <td>Stuart Attwell</td>\n      <td>Match Report</td>\n      <td>NaN</td>\n    </tr>\n    <tr>\n      <th>21</th>\n      <td>2023-12-06</td>\n      <td>19:30</td>\n      <td>Premier League</td>\n      <td>Matchweek 15</td>\n      <td>Wed</td>\n      <td>Away</td>\n      <td>W</td>\n      <td>2.0</td>\n      <td>0.0</td>\n      <td>Sheffield Utd</td>\n      <td>1.7</td>\n      <td>1.0</td>\n      <td>75.0</td>\n      <td>31406.0</td>\n      <td>Virgil van Dijk</td>\n      <td>4-3-3</td>\n      <td>Simon Hooper</td>\n      <td>Match Report</td>\n      <td>NaN</td>\n    </tr>\n    <tr>\n      <th>22</th>\n      <td>2023-12-09</td>\n      <td>12:30</td>\n      <td>Premier League</td>\n      <td>Matchweek 16</td>\n      <td>Sat</td>\n      <td>Away</td>\n      <td>W</td>\n      <td>2.0</td>\n      <td>1.0</td>\n      <td>Crystal Palace</td>\n      <td>1.2</td>\n      <td>1.7</td>\n      <td>76.0</td>\n      <td>25103.0</td>\n      <td>Virgil van Dijk</td>\n      <td>4-3-3</td>\n      <td>Andy Madley</td>\n      <td>Match Report</td>\n      <td>NaN</td>\n    </tr>\n    <tr>\n      <th>23</th>\n      <td>2023-12-14</td>\n      <td>18:45</td>\n      <td>Europa Lg</td>\n      <td>Group stage</td>\n      <td>Thu</td>\n      <td>Away</td>\n      <td>L</td>\n      <td>1.0</td>\n      <td>2.0</td>\n      <td>be Union SG</td>\n      <td>0.3</td>\n      <td>2.3</td>\n      <td>68.0</td>\n      <td>16959.0</td>\n      <td>Curtis Jones</td>\n      <td>4-3-3</td>\n      <td>Orel Grinfeeld</td>\n      <td>Match Report</td>\n      <td>NaN</td>\n    </tr>\n    <tr>\n      <th>24</th>\n      <td>2023-12-17</td>\n      <td>16:30</td>\n      <td>Premier League</td>\n      <td>Matchweek 17</td>\n      <td>Sun</td>\n      <td>Home</td>\n      <td>D</td>\n      <td>0.0</td>\n      <td>0.0</td>\n      <td>Manchester Utd</td>\n      <td>2.3</td>\n      <td>0.8</td>\n      <td>68.0</td>\n      <td>57158.0</td>\n      <td>Virgil van Dijk</td>\n      <td>4-3-3</td>\n      <td>Michael Oliver</td>\n      <td>Match Report</td>\n      <td>NaN</td>\n    </tr>\n    <tr>\n      <th>25</th>\n      <td>2023-12-20</td>\n      <td>20:00</td>\n      <td>EFL Cup</td>\n      <td>Quarter-finals</td>\n      <td>Wed</td>\n      <td>Home</td>\n      <td>W</td>\n      <td>5.0</td>\n      <td>1.0</td>\n      <td>West Ham</td>\n      <td>NaN</td>\n      <td>NaN</td>\n      <td>67.0</td>\n      <td>57332.0</td>\n      <td>Virgil van Dijk</td>\n      <td>4-3-3</td>\n      <td>Tim Robinson</td>\n      <td>Match Report</td>\n      <td>NaN</td>\n    </tr>\n    <tr>\n      <th>26</th>\n      <td>2023-12-23</td>\n      <td>17:30</td>\n      <td>Premier League</td>\n      <td>Matchweek 18</td>\n      <td>Sat</td>\n      <td>Home</td>\n      <td>D</td>\n      <td>1.0</td>\n      <td>1.0</td>\n      <td>Arsenal</td>\n      <td>1.0</td>\n      <td>0.7</td>\n      <td>52.0</td>\n      <td>57548.0</td>\n      <td>Virgil van Dijk</td>\n      <td>4-3-3</td>\n      <td>Chris Kavanagh</td>\n      <td>Match Report</td>\n      <td>NaN</td>\n    </tr>\n    <tr>\n      <th>27</th>\n      <td>2023-12-26</td>\n      <td>17:30</td>\n      <td>Premier League</td>\n      <td>Matchweek 19</td>\n      <td>Tue</td>\n      <td>Away</td>\n      <td>W</td>\n      <td>2.0</td>\n      <td>0.0</td>\n      <td>Burnley</td>\n      <td>1.8</td>\n      <td>0.8</td>\n      <td>68.0</td>\n      <td>21624.0</td>\n      <td>Virgil van Dijk</td>\n      <td>4-3-3</td>\n      <td>Paul Tierney</td>\n      <td>Match Report</td>\n      <td>NaN</td>\n    </tr>\n    <tr>\n      <th>28</th>\n      <td>2024-01-01</td>\n      <td>20:00</td>\n      <td>Premier League</td>\n      <td>Matchweek 20</td>\n      <td>Mon</td>\n      <td>Home</td>\n      <td>W</td>\n      <td>4.0</td>\n      <td>2.0</td>\n      <td>Newcastle Utd</td>\n      <td>7.0</td>\n      <td>0.6</td>\n      <td>61.0</td>\n      <td>57471.0</td>\n      <td>Virgil van Dijk</td>\n      <td>4-3-3</td>\n      <td>Anthony Taylor</td>\n      <td>Match Report</td>\n      <td>NaN</td>\n    </tr>\n    <tr>\n      <th>29</th>\n      <td>2024-01-07</td>\n      <td>16:30</td>\n      <td>FA Cup</td>\n      <td>Third round proper</td>\n      <td>Sun</td>\n      <td>Away</td>\n      <td>W</td>\n      <td>2.0</td>\n      <td>0.0</td>\n      <td>Arsenal</td>\n      <td>NaN</td>\n      <td>NaN</td>\n      <td>46.0</td>\n      <td>58538.0</td>\n      <td>Trent Alexander-Arnold</td>\n      <td>4-3-3</td>\n      <td>John Brooks</td>\n      <td>Match Report</td>\n      <td>NaN</td>\n    </tr>\n    <tr>\n      <th>30</th>\n      <td>2024-01-10</td>\n      <td>20:00</td>\n      <td>EFL Cup</td>\n      <td>Semi-finals</td>\n      <td>Wed</td>\n      <td>Home</td>\n      <td>W</td>\n      <td>2.0</td>\n      <td>1.0</td>\n      <td>Fulham</td>\n      <td>NaN</td>\n      <td>NaN</td>\n      <td>67.0</td>\n      <td>56724.0</td>\n      <td>Virgil van Dijk</td>\n      <td>4-3-3</td>\n      <td>David Coote</td>\n      <td>Match Report</td>\n      <td>Leg 1 of 2</td>\n    </tr>\n    <tr>\n      <th>31</th>\n      <td>2024-01-21</td>\n      <td>16:30</td>\n      <td>Premier League</td>\n      <td>Matchweek 21</td>\n      <td>Sun</td>\n      <td>Away</td>\n      <td>W</td>\n      <td>4.0</td>\n      <td>0.0</td>\n      <td>Bournemouth</td>\n      <td>1.5</td>\n      <td>1.4</td>\n      <td>60.0</td>\n      <td>11228.0</td>\n      <td>Virgil van Dijk</td>\n      <td>4-3-3</td>\n      <td>Andy Madley</td>\n      <td>Match Report</td>\n      <td>NaN</td>\n    </tr>\n    <tr>\n      <th>32</th>\n      <td>2024-01-24</td>\n      <td>20:00</td>\n      <td>EFL Cup</td>\n      <td>Semi-finals</td>\n      <td>Wed</td>\n      <td>Away</td>\n      <td>D</td>\n      <td>1.0</td>\n      <td>1.0</td>\n      <td>Fulham</td>\n      <td>NaN</td>\n      <td>NaN</td>\n      <td>51.0</td>\n      <td>24320.0</td>\n      <td>Virgil van Dijk</td>\n      <td>4-3-3</td>\n      <td>Simon Hooper</td>\n      <td>Match Report</td>\n      <td>Leg 2 of 2; Liverpool won</td>\n    </tr>\n    <tr>\n      <th>33</th>\n      <td>2024-01-28</td>\n      <td>14:30</td>\n      <td>FA Cup</td>\n      <td>Fourth round proper</td>\n      <td>Sun</td>\n      <td>Home</td>\n      <td>NaN</td>\n      <td>NaN</td>\n      <td>NaN</td>\n      <td>Norwich City</td>\n      <td>NaN</td>\n      <td>NaN</td>\n      <td>NaN</td>\n      <td>NaN</td>\n      <td>NaN</td>\n      <td>NaN</td>\n      <td>NaN</td>\n      <td>Head-to-Head</td>\n      <td>NaN</td>\n    </tr>\n    <tr>\n      <th>34</th>\n      <td>2024-01-31</td>\n      <td>20:15</td>\n      <td>Premier League</td>\n      <td>Matchweek 22</td>\n      <td>Wed</td>\n      <td>Home</td>\n      <td>NaN</td>\n      <td>NaN</td>\n      <td>NaN</td>\n      <td>Chelsea</td>\n      <td>NaN</td>\n      <td>NaN</td>\n      <td>NaN</td>\n      <td>NaN</td>\n      <td>NaN</td>\n      <td>NaN</td>\n      <td>NaN</td>\n      <td>Head-to-Head</td>\n      <td>NaN</td>\n    </tr>\n    <tr>\n      <th>35</th>\n      <td>2024-02-04</td>\n      <td>16:30</td>\n      <td>Premier League</td>\n      <td>Matchweek 23</td>\n      <td>Sun</td>\n      <td>Away</td>\n      <td>NaN</td>\n      <td>NaN</td>\n      <td>NaN</td>\n      <td>Arsenal</td>\n      <td>NaN</td>\n      <td>NaN</td>\n      <td>NaN</td>\n      <td>NaN</td>\n      <td>NaN</td>\n      <td>NaN</td>\n      <td>NaN</td>\n      <td>Head-to-Head</td>\n      <td>NaN</td>\n    </tr>\n    <tr>\n      <th>36</th>\n      <td>2024-02-10</td>\n      <td>15:00</td>\n      <td>Premier League</td>\n      <td>Matchweek 24</td>\n      <td>Sat</td>\n      <td>Home</td>\n      <td>NaN</td>\n      <td>NaN</td>\n      <td>NaN</td>\n      <td>Burnley</td>\n      <td>NaN</td>\n      <td>NaN</td>\n      <td>NaN</td>\n      <td>NaN</td>\n      <td>NaN</td>\n      <td>NaN</td>\n      <td>NaN</td>\n      <td>Head-to-Head</td>\n      <td>NaN</td>\n    </tr>\n    <tr>\n      <th>37</th>\n      <td>2024-02-17</td>\n      <td>12:30</td>\n      <td>Premier League</td>\n      <td>Matchweek 25</td>\n      <td>Sat</td>\n      <td>Away</td>\n      <td>NaN</td>\n      <td>NaN</td>\n      <td>NaN</td>\n      <td>Brentford</td>\n      <td>NaN</td>\n      <td>NaN</td>\n      <td>NaN</td>\n      <td>NaN</td>\n      <td>NaN</td>\n      <td>NaN</td>\n      <td>NaN</td>\n      <td>Head-to-Head</td>\n      <td>NaN</td>\n    </tr>\n    <tr>\n      <th>38</th>\n      <td>2024-02-24</td>\n      <td>15:00</td>\n      <td>Premier League</td>\n      <td>Matchweek 26</td>\n      <td>Sat</td>\n      <td>Home</td>\n      <td>NaN</td>\n      <td>NaN</td>\n      <td>NaN</td>\n      <td>Luton Town</td>\n      <td>NaN</td>\n      <td>NaN</td>\n      <td>NaN</td>\n      <td>NaN</td>\n      <td>NaN</td>\n      <td>NaN</td>\n      <td>NaN</td>\n      <td>Head-to-Head</td>\n      <td>NaN</td>\n    </tr>\n    <tr>\n      <th>39</th>\n      <td>2024-03-02</td>\n      <td>15:00</td>\n      <td>Premier League</td>\n      <td>Matchweek 27</td>\n      <td>Sat</td>\n      <td>Away</td>\n      <td>NaN</td>\n      <td>NaN</td>\n      <td>NaN</td>\n      <td>Nott'ham Forest</td>\n      <td>NaN</td>\n      <td>NaN</td>\n      <td>NaN</td>\n      <td>NaN</td>\n      <td>NaN</td>\n      <td>NaN</td>\n      <td>NaN</td>\n      <td>Head-to-Head</td>\n      <td>NaN</td>\n    </tr>\n    <tr>\n      <th>40</th>\n      <td>2024-03-09</td>\n      <td>NaN</td>\n      <td>Premier League</td>\n      <td>Matchweek 28</td>\n      <td>Sat</td>\n      <td>Home</td>\n      <td>NaN</td>\n      <td>NaN</td>\n      <td>NaN</td>\n      <td>Manchester City</td>\n      <td>NaN</td>\n      <td>NaN</td>\n      <td>NaN</td>\n      <td>NaN</td>\n      <td>NaN</td>\n      <td>NaN</td>\n      <td>NaN</td>\n      <td>Head-to-Head</td>\n      <td>NaN</td>\n    </tr>\n    <tr>\n      <th>41</th>\n      <td>2024-03-16</td>\n      <td>NaN</td>\n      <td>Premier League</td>\n      <td>Matchweek 29</td>\n      <td>Sat</td>\n      <td>Away</td>\n      <td>NaN</td>\n      <td>NaN</td>\n      <td>NaN</td>\n      <td>Everton</td>\n      <td>NaN</td>\n      <td>NaN</td>\n      <td>NaN</td>\n      <td>NaN</td>\n      <td>NaN</td>\n      <td>NaN</td>\n      <td>NaN</td>\n      <td>Head-to-Head</td>\n      <td>NaN</td>\n    </tr>\n    <tr>\n      <th>42</th>\n      <td>2024-03-30</td>\n      <td>NaN</td>\n      <td>Premier League</td>\n      <td>Matchweek 30</td>\n      <td>Sat</td>\n      <td>Home</td>\n      <td>NaN</td>\n      <td>NaN</td>\n      <td>NaN</td>\n      <td>Brighton</td>\n      <td>NaN</td>\n      <td>NaN</td>\n      <td>NaN</td>\n      <td>NaN</td>\n      <td>NaN</td>\n      <td>NaN</td>\n      <td>NaN</td>\n      <td>Head-to-Head</td>\n      <td>NaN</td>\n    </tr>\n    <tr>\n      <th>43</th>\n      <td>2024-04-03</td>\n      <td>NaN</td>\n      <td>Premier League</td>\n      <td>Matchweek 31</td>\n      <td>Wed</td>\n      <td>Home</td>\n      <td>NaN</td>\n      <td>NaN</td>\n      <td>NaN</td>\n      <td>Sheffield Utd</td>\n      <td>NaN</td>\n      <td>NaN</td>\n      <td>NaN</td>\n      <td>NaN</td>\n      <td>NaN</td>\n      <td>NaN</td>\n      <td>NaN</td>\n      <td>Head-to-Head</td>\n      <td>NaN</td>\n    </tr>\n    <tr>\n      <th>44</th>\n      <td>2024-04-06</td>\n      <td>NaN</td>\n      <td>Premier League</td>\n      <td>Matchweek 32</td>\n      <td>Sat</td>\n      <td>Away</td>\n      <td>NaN</td>\n      <td>NaN</td>\n      <td>NaN</td>\n      <td>Manchester Utd</td>\n      <td>NaN</td>\n      <td>NaN</td>\n      <td>NaN</td>\n      <td>NaN</td>\n      <td>NaN</td>\n      <td>NaN</td>\n      <td>NaN</td>\n      <td>Head-to-Head</td>\n      <td>NaN</td>\n    </tr>\n    <tr>\n      <th>45</th>\n      <td>2024-04-13</td>\n      <td>NaN</td>\n      <td>Premier League</td>\n      <td>Matchweek 33</td>\n      <td>Sat</td>\n      <td>Home</td>\n      <td>NaN</td>\n      <td>NaN</td>\n      <td>NaN</td>\n      <td>Crystal Palace</td>\n      <td>NaN</td>\n      <td>NaN</td>\n      <td>NaN</td>\n      <td>NaN</td>\n      <td>NaN</td>\n      <td>NaN</td>\n      <td>NaN</td>\n      <td>Head-to-Head</td>\n      <td>NaN</td>\n    </tr>\n    <tr>\n      <th>46</th>\n      <td>2024-04-20</td>\n      <td>NaN</td>\n      <td>Premier League</td>\n      <td>Matchweek 34</td>\n      <td>Sat</td>\n      <td>Away</td>\n      <td>NaN</td>\n      <td>NaN</td>\n      <td>NaN</td>\n      <td>Fulham</td>\n      <td>NaN</td>\n      <td>NaN</td>\n      <td>NaN</td>\n      <td>NaN</td>\n      <td>NaN</td>\n      <td>NaN</td>\n      <td>NaN</td>\n      <td>Head-to-Head</td>\n      <td>NaN</td>\n    </tr>\n    <tr>\n      <th>47</th>\n      <td>2024-04-27</td>\n      <td>NaN</td>\n      <td>Premier League</td>\n      <td>Matchweek 35</td>\n      <td>Sat</td>\n      <td>Away</td>\n      <td>NaN</td>\n      <td>NaN</td>\n      <td>NaN</td>\n      <td>West Ham</td>\n      <td>NaN</td>\n      <td>NaN</td>\n      <td>NaN</td>\n      <td>NaN</td>\n      <td>NaN</td>\n      <td>NaN</td>\n      <td>NaN</td>\n      <td>Head-to-Head</td>\n      <td>NaN</td>\n    </tr>\n    <tr>\n      <th>48</th>\n      <td>2024-05-04</td>\n      <td>NaN</td>\n      <td>Premier League</td>\n      <td>Matchweek 36</td>\n      <td>Sat</td>\n      <td>Home</td>\n      <td>NaN</td>\n      <td>NaN</td>\n      <td>NaN</td>\n      <td>Tottenham</td>\n      <td>NaN</td>\n      <td>NaN</td>\n      <td>NaN</td>\n      <td>NaN</td>\n      <td>NaN</td>\n      <td>NaN</td>\n      <td>NaN</td>\n      <td>Head-to-Head</td>\n      <td>NaN</td>\n    </tr>\n    <tr>\n      <th>49</th>\n      <td>2024-05-11</td>\n      <td>NaN</td>\n      <td>Premier League</td>\n      <td>Matchweek 37</td>\n      <td>Sat</td>\n      <td>Away</td>\n      <td>NaN</td>\n      <td>NaN</td>\n      <td>NaN</td>\n      <td>Aston Villa</td>\n      <td>NaN</td>\n      <td>NaN</td>\n      <td>NaN</td>\n      <td>NaN</td>\n      <td>NaN</td>\n      <td>NaN</td>\n      <td>NaN</td>\n      <td>Head-to-Head</td>\n      <td>NaN</td>\n    </tr>\n    <tr>\n      <th>50</th>\n      <td>2024-05-19</td>\n      <td>NaN</td>\n      <td>Premier League</td>\n      <td>Matchweek 38</td>\n      <td>Sun</td>\n      <td>Home</td>\n      <td>NaN</td>\n      <td>NaN</td>\n      <td>NaN</td>\n      <td>Wolves</td>\n      <td>NaN</td>\n      <td>NaN</td>\n      <td>NaN</td>\n      <td>NaN</td>\n      <td>NaN</td>\n      <td>NaN</td>\n      <td>NaN</td>\n      <td>Head-to-Head</td>\n      <td>NaN</td>\n    </tr>\n  </tbody>\n</table>\n</div>"
     },
     "execution_count": 12,
     "metadata": {},
     "output_type": "execute_result"
    }
   ],
   "source": [
    "team_url = teams_urls[0]\n",
    "data1 = requests.get(team_url)\n",
    "\n",
    "matches = pd.read_html(data1.text, match='Scores & Fixtures')\n",
    "matches[0]"
   ],
   "metadata": {
    "collapsed": false,
    "ExecuteTime": {
     "end_time": "2024-01-25T19:27:37.459649Z",
     "start_time": "2024-01-25T19:27:36.945355Z"
    }
   },
   "id": "1ed8b8cd45a58b52"
  },
  {
   "cell_type": "markdown",
   "source": [
    "### 1.2 Extracting Match Shooting Stats with Requests and Pandas"
   ],
   "metadata": {
    "collapsed": false
   },
   "id": "d69299c1e1380641"
  },
  {
   "cell_type": "code",
   "execution_count": 15,
   "outputs": [],
   "source": [
    "soup1 = BeautifulSoup(data1.text)\n",
    "links = soup1.select('a')\n",
    "links = [l.get('href') for l in links]\n",
    "links = [l for l in links if l and 'all_comps/shooting/' in l]"
   ],
   "metadata": {
    "collapsed": false,
    "ExecuteTime": {
     "end_time": "2024-01-25T19:31:33.487517Z",
     "start_time": "2024-01-25T19:31:33.141443Z"
    }
   },
   "id": "92d61f4972f649ff"
  },
  {
   "cell_type": "code",
   "execution_count": 18,
   "outputs": [],
   "source": [
    "data2 = requests.get(f\"https://fbref.com{links[0]}\")\n",
    "shooting = pd.read_html(data2.text, match='Shooting')[0]"
   ],
   "metadata": {
    "collapsed": false,
    "ExecuteTime": {
     "end_time": "2024-01-25T19:32:58.277138Z",
     "start_time": "2024-01-25T19:32:58.058647Z"
    }
   },
   "id": "eb6ea2c1cbdcedc7"
  },
  {
   "cell_type": "markdown",
   "source": [
    "### 1.3 Cleaning and Merging Scraped Data with Pandas"
   ],
   "metadata": {
    "collapsed": false
   },
   "id": "7d7fe641a2a6b725"
  },
  {
   "cell_type": "code",
   "execution_count": null,
   "outputs": [],
   "source": [],
   "metadata": {
    "collapsed": false
   },
   "id": "b6178cf7b5028992"
  }
 ],
 "metadata": {
  "kernelspec": {
   "display_name": "Python 3",
   "language": "python",
   "name": "python3"
  },
  "language_info": {
   "codemirror_mode": {
    "name": "ipython",
    "version": 2
   },
   "file_extension": ".py",
   "mimetype": "text/x-python",
   "name": "python",
   "nbconvert_exporter": "python",
   "pygments_lexer": "ipython2",
   "version": "2.7.6"
  }
 },
 "nbformat": 4,
 "nbformat_minor": 5
}
