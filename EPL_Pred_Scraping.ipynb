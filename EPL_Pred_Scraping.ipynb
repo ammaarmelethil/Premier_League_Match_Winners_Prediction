{
 "cells": [
  {
   "cell_type": "markdown",
   "source": [
    "# 1. Webscraping Soccer Matches from the EPL"
   ],
   "metadata": {
    "collapsed": false
   },
   "id": "3eb4cd43a33e0513"
  },
  {
   "cell_type": "code",
   "execution_count": 82,
   "outputs": [],
   "source": [
    "import time\n",
    "\n",
    "import requests\n",
    "from bs4 import BeautifulSoup"
   ],
   "metadata": {
    "collapsed": false,
    "ExecuteTime": {
     "end_time": "2024-01-25T20:30:18.753195Z",
     "start_time": "2024-01-25T20:30:18.747660Z"
    }
   },
   "id": "2db64e28bbbc98c"
  },
  {
   "cell_type": "code",
   "execution_count": 83,
   "outputs": [],
   "source": [
    "standings_url = 'https://fbref.com/en/comps/9/Premier-League-Stats'"
   ],
   "metadata": {
    "collapsed": false,
    "ExecuteTime": {
     "end_time": "2024-01-25T20:30:18.765372Z",
     "start_time": "2024-01-25T20:30:18.757815Z"
    }
   },
   "id": "b1f916d972280dfa"
  },
  {
   "cell_type": "code",
   "execution_count": 84,
   "outputs": [],
   "source": [
    "data = requests.get(standings_url)"
   ],
   "metadata": {
    "collapsed": false,
    "ExecuteTime": {
     "end_time": "2024-01-25T20:30:18.932562Z",
     "start_time": "2024-01-25T20:30:18.762265Z"
    }
   },
   "id": "b97ee83ef44a2ba6"
  },
  {
   "cell_type": "code",
   "execution_count": 102,
   "outputs": [
    {
     "data": {
      "text/plain": "['/en/squads/cff3d9bb/Chelsea-Stats',\n '/en/squads/4ba7cbea/Bournemouth-Stats',\n '/en/squads/b2b47a98/Newcastle-United-Stats',\n '/en/squads/8602292d/Aston-Villa-Stats',\n '/en/squads/8cec06e1/Wolverhampton-Wanderers-Stats',\n '/en/squads/d20821dd/LASK-Stats',\n '/en/squads/7c21e445/West-Ham-United-Stats',\n '/en/squads/a2d435b3/Leicester-City-Stats',\n '/en/squads/361ca564/Tottenham-Hotspur-Stats',\n '/en/squads/e14f61a5/Union-SG-Stats',\n '/en/squads/d07537b9/Brighton-and-Hove-Albion-Stats',\n '/en/squads/d3fd31cc/Everton-Stats',\n '/en/squads/3f8c4b5f/Toulouse-Stats',\n '/en/squads/e4a775cb/Nottingham-Forest-Stats',\n '/en/squads/4ba7cbea/Bournemouth-Stats',\n '/en/squads/e297cd13/Luton-Town-Stats',\n '/en/squads/3f8c4b5f/Toulouse-Stats',\n '/en/squads/cd051869/Brentford-Stats',\n '/en/squads/b8fd03ef/Manchester-City-Stats',\n '/en/squads/d20821dd/LASK-Stats',\n '/en/squads/fd962109/Fulham-Stats',\n '/en/squads/1df6b87e/Sheffield-United-Stats',\n '/en/squads/47c64c55/Crystal-Palace-Stats',\n '/en/squads/e14f61a5/Union-SG-Stats',\n '/en/squads/19538871/Manchester-United-Stats',\n '/en/squads/7c21e445/West-Ham-United-Stats',\n '/en/squads/18bb7c10/Arsenal-Stats',\n '/en/squads/943e8050/Burnley-Stats',\n '/en/squads/b2b47a98/Newcastle-United-Stats',\n '/en/squads/18bb7c10/Arsenal-Stats',\n '/en/squads/fd962109/Fulham-Stats',\n '/en/squads/4ba7cbea/Bournemouth-Stats',\n '/en/squads/fd962109/Fulham-Stats']"
     },
     "execution_count": 102,
     "metadata": {},
     "output_type": "execute_result"
    }
   ],
   "source": [
    "soup = BeautifulSoup(data.text)\n",
    "standings_table = soup.select('table.stats_table')[0]\n",
    "\n",
    "# Getting href links for all squads in the table\n",
    "links = standings_table.find_all('a')\n",
    "links = [l.get('href') for l in links]\n",
    "links = [l for l in links if '/squads/' in l]\n",
    "links"
   ],
   "metadata": {
    "collapsed": false,
    "ExecuteTime": {
     "end_time": "2024-01-25T21:24:42.813591Z",
     "start_time": "2024-01-25T21:24:42.725561Z"
    }
   },
   "id": "c42a1c1dfcd02432"
  },
  {
   "cell_type": "code",
   "execution_count": null,
   "outputs": [],
   "source": [
    "teams_urls = [f\"https://fbref.com{l}\" for l in links]\n",
    "teams_urls"
   ],
   "metadata": {
    "collapsed": false,
    "ExecuteTime": {
     "end_time": "2024-01-25T20:30:18.972502Z",
     "start_time": "2024-01-25T20:30:18.966635Z"
    }
   },
   "id": "ab989896f90e4541"
  },
  {
   "cell_type": "markdown",
   "source": [
    "### 1.1 Extracting Match Stats using Pandas and Requests"
   ],
   "metadata": {
    "collapsed": false
   },
   "id": "adf5a9c0eb83d9a5"
  },
  {
   "cell_type": "code",
   "execution_count": null,
   "outputs": [],
   "source": [
    "import pandas as pd"
   ],
   "metadata": {
    "collapsed": false,
    "ExecuteTime": {
     "start_time": "2024-01-25T20:30:18.968759Z"
    }
   },
   "id": "7e01b8ec82ed68b3"
  },
  {
   "cell_type": "code",
   "execution_count": null,
   "outputs": [],
   "source": [
    "team_url = teams_urls[0]\n",
    "data1 = requests.get(team_url)\n",
    "\n",
    "matches = pd.read_html(data1.text, match='Scores & Fixtures')\n",
    "matches[0]"
   ],
   "metadata": {
    "collapsed": false,
    "ExecuteTime": {
     "start_time": "2024-01-25T20:30:18.970665Z"
    }
   },
   "id": "1ed8b8cd45a58b52"
  },
  {
   "cell_type": "markdown",
   "source": [
    "### 1.2 Extracting Match Shooting Stats with Requests and Pandas"
   ],
   "metadata": {
    "collapsed": false
   },
   "id": "d69299c1e1380641"
  },
  {
   "cell_type": "code",
   "execution_count": null,
   "outputs": [],
   "source": [
    "soup1 = BeautifulSoup(data1.text)\n",
    "links = soup1.select('a')\n",
    "links = [l.get('href') for l in links]\n",
    "links = [l for l in links if l and 'all_comps/shooting/' in l]"
   ],
   "metadata": {
    "collapsed": false,
    "ExecuteTime": {
     "start_time": "2024-01-25T20:30:18.973417Z"
    }
   },
   "id": "92d61f4972f649ff"
  },
  {
   "cell_type": "code",
   "execution_count": null,
   "outputs": [],
   "source": [
    "data2 = requests.get(f\"https://fbref.com{links[0]}\")\n",
    "shooting = pd.read_html(data2.text, match='Shooting')[0]\n",
    "shooting.head()"
   ],
   "metadata": {
    "collapsed": false,
    "ExecuteTime": {
     "start_time": "2024-01-25T20:30:18.996703Z"
    }
   },
   "id": "eb6ea2c1cbdcedc7"
  },
  {
   "cell_type": "markdown",
   "source": [
    "### 1.3 Cleaning and Merging Scraped Data with Pandas"
   ],
   "metadata": {
    "collapsed": false
   },
   "id": "7d7fe641a2a6b725"
  },
  {
   "cell_type": "code",
   "execution_count": null,
   "outputs": [],
   "source": [
    "# Cleaning the headers\n",
    "shooting.columns = shooting.columns.droplevel()\n",
    "shooting.head()"
   ],
   "metadata": {
    "collapsed": false,
    "ExecuteTime": {
     "start_time": "2024-01-25T20:30:18.997236Z"
    }
   },
   "id": "b6178cf7b5028992"
  },
  {
   "cell_type": "code",
   "execution_count": null,
   "outputs": [],
   "source": [
    "# Combining Matches and Shooting Dataframes\n",
    "team_data = matches[0].merge(shooting[['Date', 'Sh', 'SoT', 'Dist', 'FK', 'PK', 'PKatt']], on='Date')\n",
    "team_data.shape"
   ],
   "metadata": {
    "collapsed": false,
    "ExecuteTime": {
     "start_time": "2024-01-25T20:30:18.997507Z"
    }
   },
   "id": "955bc8915d1847b0"
  },
  {
   "cell_type": "code",
   "execution_count": 103,
   "outputs": [
    {
     "data": {
      "text/plain": "[2020, 2021, 2022, 2023, 2024]"
     },
     "execution_count": 103,
     "metadata": {},
     "output_type": "execute_result"
    }
   ],
   "source": [
    "# For multiple teams and multiple years\n",
    "years = list(range(2020, 2025))\n",
    "years"
   ],
   "metadata": {
    "collapsed": false,
    "ExecuteTime": {
     "end_time": "2024-01-25T21:25:34.323525Z",
     "start_time": "2024-01-25T21:25:34.317528Z"
    }
   },
   "id": "90780463e8e74616"
  },
  {
   "cell_type": "code",
   "execution_count": 104,
   "outputs": [],
   "source": [
    "all_matches = []\n",
    "standings_url = 'https://fbref.com/en/comps/9/Premier-League-Stats'\n",
    "\n",
    "for year in years:\n",
    "    # headers = {\n",
    "    #     'User-Agent': 'Mozilla/5.0 (Windows NT 10.0; Win64; x64) AppleWebKit/537.36 (KHTML, like Gecko) Chrome/58.0.3029.110 Safari/537.3'\n",
    "    # }\n",
    "    \n",
    "    # data = requests.get(standings_url, headers=headers)\n",
    "    data = requests.get(standings_url)\n",
    "\n",
    "\n",
    "    # if data.status_code != 200:\n",
    "    #     print(f\"Request failed with status code {data.status_code}\")\n",
    "    #     continue\n",
    "    \n",
    "    \n",
    "    if data.status_code == 429:\n",
    "        retry_after = int(data.headers.get(\"Retry-After\", 60)) # Default to 60 seconds if header is not present\n",
    "        print(f\"Rate limit hit. Retrying after {retry_after} seconds\")\n",
    "        time.sleep(retry_after)\n",
    "        continue\n",
    "    \n",
    "    soup = BeautifulSoup(data.text)\n",
    "    standings_table = soup.select('table.stats_table')[0]\n",
    "\n",
    "    links = [l.get(\"href\") for l in standings_table.find_all('a')]\n",
    "    links = [l for l in links if '/squads/' in l]\n",
    "    team_urls = [f\"https://fbref.com{l}\" for l in links]\n",
    "\n",
    "    previous_season = soup.select(\"a.prev\")[0].get(\"href\")\n",
    "    standings_url = f\"https://fbref.com{previous_season}\"\n",
    "\n",
    "    for team_url in team_urls:\n",
    "        team_name = team_url.split(\"/\")[-1].replace(\"-Stats\", \"\").replace(\"-\", \" \")\n",
    "        data = requests.get(team_url)\n",
    "        matches = pd.read_html(data.text, match=\"Scores & Fixtures\")[0]\n",
    "        soup = BeautifulSoup(data.text)\n",
    "        links = [l.get(\"href\") for l in soup.find_all('a')]\n",
    "        links = [l for l in links if l and 'all_comps/shooting/' in l]\n",
    "        data = requests.get(f\"https://fbref.com{links[0]}\")\n",
    "        shooting = pd.read_html(data.text, match=\"Shooting\")[0]\n",
    "        shooting.columns = shooting.columns.droplevel()\n",
    "        try:\n",
    "            team_data = matches.merge(shooting[[\"Date\", \"Sh\", \"SoT\", \"Dist\", \"FK\", \"PK\", \"PKatt\"]], on=\"Date\")\n",
    "        except ValueError:\n",
    "            continue\n",
    "        team_data = team_data[team_data[\"Comp\"] == \"Premier League\"]\n",
    "\n",
    "        team_data[\"Season\"] = year\n",
    "        team_data[\"Team\"] = team_name\n",
    "        all_matches.append(team_data)\n",
    "        time.sleep(5)\n",
    "        \n",
    "        \n"
   ],
   "metadata": {
    "collapsed": false,
    "ExecuteTime": {
     "end_time": "2024-01-25T21:42:50.054166Z",
     "start_time": "2024-01-25T21:25:48.486443Z"
    }
   },
   "id": "4b8274cf8bca984"
  },
  {
   "cell_type": "code",
   "execution_count": 106,
   "outputs": [],
   "source": [
    "match_df = pd.concat(all_matches)\n",
    "match_df.columns = [c.lower() for c in match_df.columns]\n",
    "match_df.to_csv('matches.csv')"
   ],
   "metadata": {
    "collapsed": false,
    "ExecuteTime": {
     "end_time": "2024-01-25T21:58:38.215880Z",
     "start_time": "2024-01-25T21:58:38.125091Z"
    }
   },
   "id": "e5a2dd4ef0d88a2"
  }
 ],
 "metadata": {
  "kernelspec": {
   "display_name": "Python 3",
   "language": "python",
   "name": "python3"
  },
  "language_info": {
   "codemirror_mode": {
    "name": "ipython",
    "version": 2
   },
   "file_extension": ".py",
   "mimetype": "text/x-python",
   "name": "python",
   "nbconvert_exporter": "python",
   "pygments_lexer": "ipython2",
   "version": "2.7.6"
  }
 },
 "nbformat": 4,
 "nbformat_minor": 5
}
