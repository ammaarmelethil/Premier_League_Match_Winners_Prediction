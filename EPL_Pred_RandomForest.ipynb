{
 "cells": [
  {
   "cell_type": "markdown",
   "source": [
    "# 2. Predicting Soccer Match Winners using ML"
   ],
   "metadata": {
    "collapsed": false
   },
   "id": "ebdcc3b68d3ccef5"
  },
  {
   "cell_type": "code",
   "execution_count": 2,
   "outputs": [],
   "source": [
    "import pandas as pd"
   ],
   "metadata": {
    "collapsed": true,
    "ExecuteTime": {
     "end_time": "2024-01-25T22:38:40.361832Z",
     "start_time": "2024-01-25T22:38:39.593051Z"
    }
   },
   "id": "initial_id"
  },
  {
   "cell_type": "code",
   "execution_count": 3,
   "outputs": [
    {
     "data": {
      "text/plain": "         date   time            comp        round  day venue result   gf   ga  \\\n0  2023-08-13  16:30  Premier League  Matchweek 1  Sun  Away      D  1.0  1.0   \n1  2023-08-19  15:00  Premier League  Matchweek 2  Sat  Home      W  3.0  1.0   \n2  2023-08-27  16:30  Premier League  Matchweek 3  Sun  Away      W  2.0  1.0   \n3  2023-09-03  14:00  Premier League  Matchweek 4  Sun  Home      W  3.0  0.0   \n4  2023-09-16  12:30  Premier League  Matchweek 5  Sat  Away      W  3.0  1.0   \n\n        opponent  ...  match report  notes    sh  sot  dist   fk pk pkatt  \\\n0        Chelsea  ...  Match Report    NaN  13.0  1.0  17.8  0.0  0     0   \n1    Bournemouth  ...  Match Report    NaN  25.0  9.0  16.8  1.0  0     1   \n2  Newcastle Utd  ...  Match Report    NaN   9.0  4.0  17.2  1.0  0     0   \n3    Aston Villa  ...  Match Report    NaN  17.0  4.0  14.7  0.0  0     0   \n4         Wolves  ...  Match Report    NaN  16.0  5.0  15.8  0.0  0     0   \n\n   season       team  \n0    2020  Liverpool  \n1    2020  Liverpool  \n2    2020  Liverpool  \n3    2020  Liverpool  \n4    2020  Liverpool  \n\n[5 rows x 27 columns]",
      "text/html": "<div>\n<style scoped>\n    .dataframe tbody tr th:only-of-type {\n        vertical-align: middle;\n    }\n\n    .dataframe tbody tr th {\n        vertical-align: top;\n    }\n\n    .dataframe thead th {\n        text-align: right;\n    }\n</style>\n<table border=\"1\" class=\"dataframe\">\n  <thead>\n    <tr style=\"text-align: right;\">\n      <th></th>\n      <th>date</th>\n      <th>time</th>\n      <th>comp</th>\n      <th>round</th>\n      <th>day</th>\n      <th>venue</th>\n      <th>result</th>\n      <th>gf</th>\n      <th>ga</th>\n      <th>opponent</th>\n      <th>...</th>\n      <th>match report</th>\n      <th>notes</th>\n      <th>sh</th>\n      <th>sot</th>\n      <th>dist</th>\n      <th>fk</th>\n      <th>pk</th>\n      <th>pkatt</th>\n      <th>season</th>\n      <th>team</th>\n    </tr>\n  </thead>\n  <tbody>\n    <tr>\n      <th>0</th>\n      <td>2023-08-13</td>\n      <td>16:30</td>\n      <td>Premier League</td>\n      <td>Matchweek 1</td>\n      <td>Sun</td>\n      <td>Away</td>\n      <td>D</td>\n      <td>1.0</td>\n      <td>1.0</td>\n      <td>Chelsea</td>\n      <td>...</td>\n      <td>Match Report</td>\n      <td>NaN</td>\n      <td>13.0</td>\n      <td>1.0</td>\n      <td>17.8</td>\n      <td>0.0</td>\n      <td>0</td>\n      <td>0</td>\n      <td>2020</td>\n      <td>Liverpool</td>\n    </tr>\n    <tr>\n      <th>1</th>\n      <td>2023-08-19</td>\n      <td>15:00</td>\n      <td>Premier League</td>\n      <td>Matchweek 2</td>\n      <td>Sat</td>\n      <td>Home</td>\n      <td>W</td>\n      <td>3.0</td>\n      <td>1.0</td>\n      <td>Bournemouth</td>\n      <td>...</td>\n      <td>Match Report</td>\n      <td>NaN</td>\n      <td>25.0</td>\n      <td>9.0</td>\n      <td>16.8</td>\n      <td>1.0</td>\n      <td>0</td>\n      <td>1</td>\n      <td>2020</td>\n      <td>Liverpool</td>\n    </tr>\n    <tr>\n      <th>2</th>\n      <td>2023-08-27</td>\n      <td>16:30</td>\n      <td>Premier League</td>\n      <td>Matchweek 3</td>\n      <td>Sun</td>\n      <td>Away</td>\n      <td>W</td>\n      <td>2.0</td>\n      <td>1.0</td>\n      <td>Newcastle Utd</td>\n      <td>...</td>\n      <td>Match Report</td>\n      <td>NaN</td>\n      <td>9.0</td>\n      <td>4.0</td>\n      <td>17.2</td>\n      <td>1.0</td>\n      <td>0</td>\n      <td>0</td>\n      <td>2020</td>\n      <td>Liverpool</td>\n    </tr>\n    <tr>\n      <th>3</th>\n      <td>2023-09-03</td>\n      <td>14:00</td>\n      <td>Premier League</td>\n      <td>Matchweek 4</td>\n      <td>Sun</td>\n      <td>Home</td>\n      <td>W</td>\n      <td>3.0</td>\n      <td>0.0</td>\n      <td>Aston Villa</td>\n      <td>...</td>\n      <td>Match Report</td>\n      <td>NaN</td>\n      <td>17.0</td>\n      <td>4.0</td>\n      <td>14.7</td>\n      <td>0.0</td>\n      <td>0</td>\n      <td>0</td>\n      <td>2020</td>\n      <td>Liverpool</td>\n    </tr>\n    <tr>\n      <th>4</th>\n      <td>2023-09-16</td>\n      <td>12:30</td>\n      <td>Premier League</td>\n      <td>Matchweek 5</td>\n      <td>Sat</td>\n      <td>Away</td>\n      <td>W</td>\n      <td>3.0</td>\n      <td>1.0</td>\n      <td>Wolves</td>\n      <td>...</td>\n      <td>Match Report</td>\n      <td>NaN</td>\n      <td>16.0</td>\n      <td>5.0</td>\n      <td>15.8</td>\n      <td>0.0</td>\n      <td>0</td>\n      <td>0</td>\n      <td>2020</td>\n      <td>Liverpool</td>\n    </tr>\n  </tbody>\n</table>\n<p>5 rows × 27 columns</p>\n</div>"
     },
     "execution_count": 3,
     "metadata": {},
     "output_type": "execute_result"
    }
   ],
   "source": [
    "matches = pd.read_csv('matches.csv')\n",
    "matches.head()"
   ],
   "metadata": {
    "collapsed": false,
    "ExecuteTime": {
     "end_time": "2024-01-25T22:38:40.416723Z",
     "start_time": "2024-01-25T22:38:40.362041Z"
    }
   },
   "id": "df4e6ff5fde57809"
  },
  {
   "cell_type": "code",
   "execution_count": 4,
   "outputs": [
    {
     "data": {
      "text/plain": "(3456, 27)"
     },
     "execution_count": 4,
     "metadata": {},
     "output_type": "execute_result"
    }
   ],
   "source": [
    "matches.shape"
   ],
   "metadata": {
    "collapsed": false,
    "ExecuteTime": {
     "end_time": "2024-01-25T22:39:16.011783Z",
     "start_time": "2024-01-25T22:39:16.010711Z"
    }
   },
   "id": "191f52d60e45e666"
  },
  {
   "cell_type": "markdown",
   "source": [],
   "metadata": {
    "collapsed": false
   },
   "id": "1a3a8c0c008865ea"
  },
  {
   "cell_type": "markdown",
   "source": [
    "### 2.1 Investigating missing data"
   ],
   "metadata": {
    "collapsed": false
   },
   "id": "e152ba1a505b6be8"
  },
  {
   "cell_type": "code",
   "execution_count": 5,
   "outputs": [
    {
     "data": {
      "text/plain": "team\nLiverpool                   173\nManchester United           173\nEverton                     173\nCrystal Palace              173\nWolverhampton Wanderers     173\nChelsea                     173\nNewcastle United            173\nBrighton and Hove Albion    173\nWest Ham United             173\nTottenham Hotspur           173\nAston Villa                 173\nArsenal                     173\nManchester City             172\nSouthampton                 152\nLeicester City              152\nBurnley                     135\nLeeds United                114\nSheffield United             97\nFulham                       97\nBrentford                    96\nBournemouth                  96\nWatford                      76\nNorwich City                 76\nNottingham Forest            59\nWest Bromwich Albion         38\nLuton Town                   20\nName: count, dtype: int64"
     },
     "execution_count": 5,
     "metadata": {},
     "output_type": "execute_result"
    }
   ],
   "source": [
    "matches['team'].value_counts()"
   ],
   "metadata": {
    "collapsed": false,
    "ExecuteTime": {
     "end_time": "2024-01-25T22:43:36.101314Z",
     "start_time": "2024-01-25T22:43:36.091822Z"
    }
   },
   "id": "ddcdf129e24f3134"
  },
  {
   "cell_type": "code",
   "execution_count": 6,
   "outputs": [
    {
     "data": {
      "text/plain": "round\nMatchweek 1     100\nMatchweek 11    100\nMatchweek 21    100\nMatchweek 2     100\nMatchweek 19    100\nMatchweek 16    100\nMatchweek 15    100\nMatchweek 14    100\nMatchweek 13    100\nMatchweek 12    100\nMatchweek 20    100\nMatchweek 10    100\nMatchweek 5     100\nMatchweek 9     100\nMatchweek 4     100\nMatchweek 3     100\nMatchweek 6     100\nMatchweek 7     100\nMatchweek 8     100\nMatchweek 17     98\nMatchweek 18     98\nMatchweek 31     80\nMatchweek 32     80\nMatchweek 37     80\nMatchweek 36     80\nMatchweek 35     80\nMatchweek 28     80\nMatchweek 34     80\nMatchweek 33     80\nMatchweek 25     80\nMatchweek 30     80\nMatchweek 29     80\nMatchweek 27     80\nMatchweek 26     80\nMatchweek 24     80\nMatchweek 23     80\nMatchweek 22     80\nMatchweek 38     80\nName: count, dtype: int64"
     },
     "execution_count": 6,
     "metadata": {},
     "output_type": "execute_result"
    }
   ],
   "source": [
    "matches['round'].value_counts()"
   ],
   "metadata": {
    "collapsed": false,
    "ExecuteTime": {
     "end_time": "2024-01-25T22:46:11.702998Z",
     "start_time": "2024-01-25T22:46:11.698300Z"
    }
   },
   "id": "67582c7c95a1fce4"
  },
  {
   "cell_type": "markdown",
   "source": [
    "### 2.2 Cleaning data for Machine Learning\n",
    "\n",
    "- Converting 'object' date column to 'datetime'\n",
    "- Binary encoding 'venue': very important predictor, home advantage, away disadvantage\n",
    "- Numerically encoding opponents \n",
    "- Converting each hour to int, possible that some teams play better at certain times\n",
    "- Numerically encoding day of week, teams might play better on certain days\n",
    "- Binary encoding 'result' (Target Variable)"
   ],
   "metadata": {
    "collapsed": false
   },
   "id": "df1ea4b4f277777f"
  },
  {
   "cell_type": "code",
   "execution_count": 8,
   "outputs": [
    {
     "data": {
      "text/plain": "date            datetime64[ns]\ntime                    object\ncomp                    object\nround                   object\nday                     object\nvenue                   object\nresult                  object\ngf                     float64\nga                     float64\nopponent                object\nxg                     float64\nxga                    float64\nposs                   float64\nattendance             float64\ncaptain                 object\nformation               object\nreferee                 object\nmatch report            object\nnotes                  float64\nsh                     float64\nsot                    float64\ndist                   float64\nfk                     float64\npk                       int64\npkatt                    int64\nseason                   int64\nteam                    object\ndtype: object"
     },
     "execution_count": 8,
     "metadata": {},
     "output_type": "execute_result"
    }
   ],
   "source": [
    "matches['date'] = pd.to_datetime(matches['date'])\n",
    "matches.dtypes"
   ],
   "metadata": {
    "collapsed": false,
    "ExecuteTime": {
     "end_time": "2024-01-25T22:53:37.135353Z",
     "start_time": "2024-01-25T22:53:37.127503Z"
    }
   },
   "id": "10cfbac0f1ce43da"
  },
  {
   "cell_type": "markdown",
   "source": [
    "Binary Encoding 'venue',  0: Away | 1: Home"
   ],
   "metadata": {
    "collapsed": false
   },
   "id": "754eaabe291575db"
  },
  {
   "cell_type": "code",
   "execution_count": 12,
   "outputs": [],
   "source": [
    "matches['venue_code'] = matches['venue'].astype('category').cat.codes"
   ],
   "metadata": {
    "collapsed": false,
    "ExecuteTime": {
     "end_time": "2024-01-25T23:07:29.076498Z",
     "start_time": "2024-01-25T23:07:29.072073Z"
    }
   },
   "id": "9f0b072a2a1951a8"
  },
  {
   "cell_type": "markdown",
   "source": [
    "Encoding all Opponents"
   ],
   "metadata": {
    "collapsed": false
   },
   "id": "571452844028c091"
  },
  {
   "cell_type": "code",
   "execution_count": 13,
   "outputs": [],
   "source": [
    "matches['opp_code'] = matches['opponent'].astype('category').cat.codes"
   ],
   "metadata": {
    "collapsed": false,
    "ExecuteTime": {
     "end_time": "2024-01-25T23:07:32.841288Z",
     "start_time": "2024-01-25T23:07:32.834870Z"
    }
   },
   "id": "6f7f6eb9e26dd718"
  },
  {
   "cell_type": "markdown",
   "source": [
    "Encoding Hours"
   ],
   "metadata": {
    "collapsed": false
   },
   "id": "71d490b1743ad37b"
  },
  {
   "cell_type": "code",
   "execution_count": 14,
   "outputs": [],
   "source": [
    "matches['hour'] = matches['time'].str.replace(':.+',\"\",regex=True).astype('int')"
   ],
   "metadata": {
    "collapsed": false,
    "ExecuteTime": {
     "end_time": "2024-01-25T23:07:39.201224Z",
     "start_time": "2024-01-25T23:07:39.198178Z"
    }
   },
   "id": "e956d3ced0d551d1"
  },
  {
   "cell_type": "markdown",
   "source": [
    "Encoding Day of Week"
   ],
   "metadata": {
    "collapsed": false
   },
   "id": "7098a84f44452749"
  },
  {
   "cell_type": "code",
   "execution_count": 16,
   "outputs": [],
   "source": [
    "matches['day_code'] = matches['date'].dt.dayofweek"
   ],
   "metadata": {
    "collapsed": false,
    "ExecuteTime": {
     "end_time": "2024-01-25T23:09:47.062054Z",
     "start_time": "2024-01-25T23:09:47.041952Z"
    }
   },
   "id": "5f79af01ca478071"
  },
  {
   "cell_type": "markdown",
   "source": [
    "**Encoding Target Variable 'result',  0: Loss, Draw | 1: Win**"
   ],
   "metadata": {
    "collapsed": false
   },
   "id": "10489564cd77c3f"
  },
  {
   "cell_type": "code",
   "execution_count": 18,
   "outputs": [],
   "source": [
    "matches['target'] = (matches['result'] == 'W').astype('int')"
   ],
   "metadata": {
    "collapsed": false,
    "ExecuteTime": {
     "end_time": "2024-01-25T23:17:03.337447Z",
     "start_time": "2024-01-25T23:17:03.308641Z"
    }
   },
   "id": "7443dc7d7020b032"
  },
  {
   "cell_type": "markdown",
   "source": [
    "### 2.3 Creating Initial Machine Learning Model\n",
    "- Random Forest Classifier to predict W/D/L\n",
    "- Training set: All EPL matches from 2020-01-01 to 2023-12-31\n",
    "- Test set: All completed EPL matches as of 2024-01-25"
   ],
   "metadata": {
    "collapsed": false
   },
   "id": "fc2cd6c758e29d23"
  },
  {
   "cell_type": "code",
   "execution_count": 31,
   "outputs": [],
   "source": [
    "from sklearn.ensemble import RandomForestClassifier\n",
    "from sklearn.metrics import accuracy_score\n",
    "from sklearn.metrics import precision_score"
   ],
   "metadata": {
    "collapsed": false,
    "ExecuteTime": {
     "end_time": "2024-01-25T23:53:59.806316Z",
     "start_time": "2024-01-25T23:53:59.801903Z"
    }
   },
   "id": "a165e6d3008f92ff"
  },
  {
   "cell_type": "code",
   "execution_count": 21,
   "outputs": [],
   "source": [
    "# Experiment with different values for min_samples_leaf to decrease overfitting\n",
    "rf = RandomForestClassifier(n_estimators=50, min_samples_leaf=10, random_state=7)"
   ],
   "metadata": {
    "collapsed": false,
    "ExecuteTime": {
     "end_time": "2024-01-25T23:31:37.335027Z",
     "start_time": "2024-01-25T23:31:37.328613Z"
    }
   },
   "id": "f11b68c344505f5f"
  },
  {
   "cell_type": "markdown",
   "source": [
    "Test and Training Sets: Since this is time-series data, data in train set must precede test set"
   ],
   "metadata": {
    "collapsed": false
   },
   "id": "c567a0d50437e618"
  },
  {
   "cell_type": "code",
   "execution_count": 52,
   "outputs": [],
   "source": [
    "# Train data on every match between start of 2020 to end of 2023\n",
    "train = matches[matches['date'] < '2024-01-01']"
   ],
   "metadata": {
    "collapsed": false,
    "ExecuteTime": {
     "end_time": "2024-01-26T00:30:45.206780Z",
     "start_time": "2024-01-26T00:30:45.186467Z"
    }
   },
   "id": "9f1f1c1912e7745b"
  },
  {
   "cell_type": "code",
   "execution_count": 54,
   "outputs": [],
   "source": [
    "# Test data on all 2024 matches\n",
    "test = matches[matches['date'] >= '2024-01-01']"
   ],
   "metadata": {
    "collapsed": false,
    "ExecuteTime": {
     "end_time": "2024-01-26T00:30:48.128943Z",
     "start_time": "2024-01-26T00:30:48.123147Z"
    }
   },
   "id": "f7e57291afdfe0f5"
  },
  {
   "cell_type": "code",
   "execution_count": 55,
   "outputs": [
    {
     "data": {
      "text/plain": "RandomForestClassifier(min_samples_leaf=10, n_estimators=50, random_state=7)",
      "text/html": "<style>#sk-container-id-2 {color: black;}#sk-container-id-2 pre{padding: 0;}#sk-container-id-2 div.sk-toggleable {background-color: white;}#sk-container-id-2 label.sk-toggleable__label {cursor: pointer;display: block;width: 100%;margin-bottom: 0;padding: 0.3em;box-sizing: border-box;text-align: center;}#sk-container-id-2 label.sk-toggleable__label-arrow:before {content: \"▸\";float: left;margin-right: 0.25em;color: #696969;}#sk-container-id-2 label.sk-toggleable__label-arrow:hover:before {color: black;}#sk-container-id-2 div.sk-estimator:hover label.sk-toggleable__label-arrow:before {color: black;}#sk-container-id-2 div.sk-toggleable__content {max-height: 0;max-width: 0;overflow: hidden;text-align: left;background-color: #f0f8ff;}#sk-container-id-2 div.sk-toggleable__content pre {margin: 0.2em;color: black;border-radius: 0.25em;background-color: #f0f8ff;}#sk-container-id-2 input.sk-toggleable__control:checked~div.sk-toggleable__content {max-height: 200px;max-width: 100%;overflow: auto;}#sk-container-id-2 input.sk-toggleable__control:checked~label.sk-toggleable__label-arrow:before {content: \"▾\";}#sk-container-id-2 div.sk-estimator input.sk-toggleable__control:checked~label.sk-toggleable__label {background-color: #d4ebff;}#sk-container-id-2 div.sk-label input.sk-toggleable__control:checked~label.sk-toggleable__label {background-color: #d4ebff;}#sk-container-id-2 input.sk-hidden--visually {border: 0;clip: rect(1px 1px 1px 1px);clip: rect(1px, 1px, 1px, 1px);height: 1px;margin: -1px;overflow: hidden;padding: 0;position: absolute;width: 1px;}#sk-container-id-2 div.sk-estimator {font-family: monospace;background-color: #f0f8ff;border: 1px dotted black;border-radius: 0.25em;box-sizing: border-box;margin-bottom: 0.5em;}#sk-container-id-2 div.sk-estimator:hover {background-color: #d4ebff;}#sk-container-id-2 div.sk-parallel-item::after {content: \"\";width: 100%;border-bottom: 1px solid gray;flex-grow: 1;}#sk-container-id-2 div.sk-label:hover label.sk-toggleable__label {background-color: #d4ebff;}#sk-container-id-2 div.sk-serial::before {content: \"\";position: absolute;border-left: 1px solid gray;box-sizing: border-box;top: 0;bottom: 0;left: 50%;z-index: 0;}#sk-container-id-2 div.sk-serial {display: flex;flex-direction: column;align-items: center;background-color: white;padding-right: 0.2em;padding-left: 0.2em;position: relative;}#sk-container-id-2 div.sk-item {position: relative;z-index: 1;}#sk-container-id-2 div.sk-parallel {display: flex;align-items: stretch;justify-content: center;background-color: white;position: relative;}#sk-container-id-2 div.sk-item::before, #sk-container-id-2 div.sk-parallel-item::before {content: \"\";position: absolute;border-left: 1px solid gray;box-sizing: border-box;top: 0;bottom: 0;left: 50%;z-index: -1;}#sk-container-id-2 div.sk-parallel-item {display: flex;flex-direction: column;z-index: 1;position: relative;background-color: white;}#sk-container-id-2 div.sk-parallel-item:first-child::after {align-self: flex-end;width: 50%;}#sk-container-id-2 div.sk-parallel-item:last-child::after {align-self: flex-start;width: 50%;}#sk-container-id-2 div.sk-parallel-item:only-child::after {width: 0;}#sk-container-id-2 div.sk-dashed-wrapped {border: 1px dashed gray;margin: 0 0.4em 0.5em 0.4em;box-sizing: border-box;padding-bottom: 0.4em;background-color: white;}#sk-container-id-2 div.sk-label label {font-family: monospace;font-weight: bold;display: inline-block;line-height: 1.2em;}#sk-container-id-2 div.sk-label-container {text-align: center;}#sk-container-id-2 div.sk-container {/* jupyter's `normalize.less` sets `[hidden] { display: none; }` but bootstrap.min.css set `[hidden] { display: none !important; }` so we also need the `!important` here to be able to override the default hidden behavior on the sphinx rendered scikit-learn.org. See: https://github.com/scikit-learn/scikit-learn/issues/21755 */display: inline-block !important;position: relative;}#sk-container-id-2 div.sk-text-repr-fallback {display: none;}</style><div id=\"sk-container-id-2\" class=\"sk-top-container\"><div class=\"sk-text-repr-fallback\"><pre>RandomForestClassifier(min_samples_leaf=10, n_estimators=50, random_state=7)</pre><b>In a Jupyter environment, please rerun this cell to show the HTML representation or trust the notebook. <br />On GitHub, the HTML representation is unable to render, please try loading this page with nbviewer.org.</b></div><div class=\"sk-container\" hidden><div class=\"sk-item\"><div class=\"sk-estimator sk-toggleable\"><input class=\"sk-toggleable__control sk-hidden--visually\" id=\"sk-estimator-id-2\" type=\"checkbox\" checked><label for=\"sk-estimator-id-2\" class=\"sk-toggleable__label sk-toggleable__label-arrow\">RandomForestClassifier</label><div class=\"sk-toggleable__content\"><pre>RandomForestClassifier(min_samples_leaf=10, n_estimators=50, random_state=7)</pre></div></div></div></div></div>"
     },
     "execution_count": 55,
     "metadata": {},
     "output_type": "execute_result"
    }
   ],
   "source": [
    "predictors = ['venue_code', 'opp_code', 'hour', 'day_code']\n",
    "rf.fit(train[predictors], train['target'])"
   ],
   "metadata": {
    "collapsed": false,
    "ExecuteTime": {
     "end_time": "2024-01-26T00:30:50.566581Z",
     "start_time": "2024-01-26T00:30:50.411986Z"
    }
   },
   "id": "ad2afa57e7ec6d6"
  },
  {
   "cell_type": "code",
   "execution_count": 56,
   "outputs": [],
   "source": [
    "predictions = rf.predict(test[predictors])"
   ],
   "metadata": {
    "collapsed": false,
    "ExecuteTime": {
     "end_time": "2024-01-26T00:30:52.895848Z",
     "start_time": "2024-01-26T00:30:52.875827Z"
    }
   },
   "id": "246778a94c627389"
  },
  {
   "cell_type": "code",
   "execution_count": 57,
   "outputs": [
    {
     "data": {
      "text/plain": "0.75"
     },
     "execution_count": 57,
     "metadata": {},
     "output_type": "execute_result"
    }
   ],
   "source": [
    "acc = accuracy_score(test['target'], predictions)\n",
    "acc "
   ],
   "metadata": {
    "collapsed": false,
    "ExecuteTime": {
     "end_time": "2024-01-26T00:30:54.504920Z",
     "start_time": "2024-01-26T00:30:54.496919Z"
    }
   },
   "id": "d1b5bf12ac0861ab"
  },
  {
   "cell_type": "markdown",
   "source": [
    "**Initial Model Accuracy Score: 75%**"
   ],
   "metadata": {
    "collapsed": false
   },
   "id": "c70a6293558cdf84"
  },
  {
   "cell_type": "code",
   "execution_count": 58,
   "outputs": [
    {
     "data": {
      "text/plain": "prediction   0  1\nactual           \n0           16  2\n1            4  2",
      "text/html": "<div>\n<style scoped>\n    .dataframe tbody tr th:only-of-type {\n        vertical-align: middle;\n    }\n\n    .dataframe tbody tr th {\n        vertical-align: top;\n    }\n\n    .dataframe thead th {\n        text-align: right;\n    }\n</style>\n<table border=\"1\" class=\"dataframe\">\n  <thead>\n    <tr style=\"text-align: right;\">\n      <th>prediction</th>\n      <th>0</th>\n      <th>1</th>\n    </tr>\n    <tr>\n      <th>actual</th>\n      <th></th>\n      <th></th>\n    </tr>\n  </thead>\n  <tbody>\n    <tr>\n      <th>0</th>\n      <td>16</td>\n      <td>2</td>\n    </tr>\n    <tr>\n      <th>1</th>\n      <td>4</td>\n      <td>2</td>\n    </tr>\n  </tbody>\n</table>\n</div>"
     },
     "execution_count": 58,
     "metadata": {},
     "output_type": "execute_result"
    }
   ],
   "source": [
    "combined = pd.DataFrame(dict(actual=test['target'], prediction=predictions))\n",
    "pd.crosstab(index=combined['actual'], columns=combined['prediction'])"
   ],
   "metadata": {
    "collapsed": false,
    "ExecuteTime": {
     "end_time": "2024-01-26T00:31:25.857894Z",
     "start_time": "2024-01-26T00:31:25.823941Z"
    }
   },
   "id": "ea4e4472ed77dd8c"
  },
  {
   "cell_type": "code",
   "execution_count": 59,
   "outputs": [
    {
     "data": {
      "text/plain": "0.5"
     },
     "execution_count": 59,
     "metadata": {},
     "output_type": "execute_result"
    }
   ],
   "source": [
    "precision_score(test['target'], predictions)"
   ],
   "metadata": {
    "collapsed": false,
    "ExecuteTime": {
     "end_time": "2024-01-26T00:31:39.060820Z",
     "start_time": "2024-01-26T00:31:39.039478Z"
    }
   },
   "id": "53e6403d134a0b3a"
  },
  {
   "cell_type": "markdown",
   "source": [
    "**Initial Model Precision Score: 50%**  "
   ],
   "metadata": {
    "collapsed": false
   },
   "id": "903960b8a48825aa"
  },
  {
   "cell_type": "markdown",
   "source": [
    "### 2.4 Improving Model Precision with Rolling Averages"
   ],
   "metadata": {
    "collapsed": false
   },
   "id": "d6aa2056d994553f"
  },
  {
   "cell_type": "code",
   "execution_count": 34,
   "outputs": [],
   "source": [
    "# Creating dataframe for each club\n",
    "grouped_matches = matches.groupby('team')"
   ],
   "metadata": {
    "collapsed": false,
    "ExecuteTime": {
     "end_time": "2024-01-26T00:06:15.146925Z",
     "start_time": "2024-01-26T00:06:15.110502Z"
    }
   },
   "id": "b85482d9a7b5f767"
  },
  {
   "cell_type": "markdown",
   "source": [
    "Creating a function for factoring in performance in last three matches to improve model precision"
   ],
   "metadata": {
    "collapsed": false
   },
   "id": "4d565cce2b80dcd3"
  },
  {
   "cell_type": "code",
   "execution_count": 35,
   "outputs": [],
   "source": [
    "def rolling_averages(group, cols, new_cols):\n",
    "    group = group.sort_values('date')\n",
    "    rolling_stats = group[cols].rolling(3, closed='left').mean() # closed='left' ensures only previous not current/future data is used\n",
    "    group[new_cols] = rolling_stats\n",
    "    group = group.dropna(subset=new_cols) # remove rows with missing values\n",
    "    return group"
   ],
   "metadata": {
    "collapsed": false,
    "ExecuteTime": {
     "end_time": "2024-01-26T00:12:42.332474Z",
     "start_time": "2024-01-26T00:12:42.330994Z"
    }
   },
   "id": "4abcf630cfc263ad"
  },
  {
   "cell_type": "markdown",
   "source": [
    "Creating new columns for rolling averages"
   ],
   "metadata": {
    "collapsed": false
   },
   "id": "f006c89dc2fca053"
  },
  {
   "cell_type": "code",
   "execution_count": 38,
   "outputs": [],
   "source": [
    "# Goals for, Goals against, Shots taken, Shots on target, Shot distance, Free kicks, Penalty kicks, Penalty kicks attempts\n",
    "cols = ['gf', 'ga', 'sh', 'sot', 'dist', 'fk', 'pk', 'pkatt']\n",
    "new_cols = [f\"{c}_rolling\" for c in cols]"
   ],
   "metadata": {
    "collapsed": false,
    "ExecuteTime": {
     "end_time": "2024-01-26T00:19:05.625413Z",
     "start_time": "2024-01-26T00:19:05.609785Z"
    }
   },
   "id": "de5437891fe93fb8"
  },
  {
   "cell_type": "code",
   "execution_count": 37,
   "outputs": [
    {
     "data": {
      "text/plain": "           date   time            comp         round  day venue result   gf  \\\n2965 2019-09-01  16:30  Premier League   Matchweek 4  Sun  Home      D  2.0   \n2966 2019-09-15  16:30  Premier League   Matchweek 5  Sun  Away      D  2.0   \n2967 2019-09-22  16:30  Premier League   Matchweek 6  Sun  Home      W  3.0   \n2968 2019-09-30  20:00  Premier League   Matchweek 7  Mon  Away      D  1.0   \n2969 2019-10-06  14:00  Premier League   Matchweek 8  Sun  Home      W  1.0   \n...         ...    ...             ...           ...  ...   ...    ...  ...   \n57   2023-12-17  14:00  Premier League  Matchweek 17  Sun  Home      W  2.0   \n58   2023-12-23  17:30  Premier League  Matchweek 18  Sat  Away      D  1.0   \n59   2023-12-28  20:15  Premier League  Matchweek 19  Thu  Home      L  0.0   \n60   2023-12-31  14:00  Premier League  Matchweek 20  Sun  Away      L  1.0   \n61   2024-01-20  12:30  Premier League  Matchweek 21  Sat  Home      W  5.0   \n\n       ga        opponent  ...  day_code  target  gf_rolling  ga_rolling  \\\n2965  2.0       Tottenham  ...         6       0    1.333333    1.333333   \n2966  2.0         Watford  ...         6       0    1.666667    2.000000   \n2967  2.0     Aston Villa  ...         6       1    1.666667    2.333333   \n2968  1.0  Manchester Utd  ...         0       0    2.333333    2.000000   \n2969  0.0     Bournemouth  ...         6       1    2.000000    1.666667   \n...   ...             ...  ...       ...     ...         ...         ...   \n57    0.0        Brighton  ...         6       1    2.000000    1.666667   \n58    1.0       Liverpool  ...         5       0    2.000000    1.333333   \n59    2.0        West Ham  ...         3       0    1.000000    0.666667   \n60    2.0          Fulham  ...         6       0    1.000000    1.000000   \n61    0.0  Crystal Palace  ...         5       1    0.666667    1.666667   \n\n     sh_rolling sot_rolling dist_rolling fk_rolling  pk_rolling  pkatt_rolling  \n2965  10.666667    4.666667    17.200000   0.333333    0.000000       0.000000  \n2966  16.666667    6.666667    18.600000   1.000000    0.000000       0.000000  \n2967  14.000000    5.000000    19.300000   1.000000    0.000000       0.000000  \n2968  17.666667    5.666667    18.600000   1.333333    0.333333       0.333333  \n2969  12.333333    4.666667    18.100000   1.000000    0.333333       0.333333  \n...         ...         ...          ...        ...         ...            ...  \n57    18.000000    6.000000    15.300000   0.333333    0.000000       0.000000  \n58    20.333333    6.666667    14.833333   0.333333    0.000000       0.000000  \n59    17.000000    4.333333    15.400000   0.333333    0.000000       0.000000  \n60    23.000000    6.000000    16.066667   0.000000    0.000000       0.000000  \n61    18.666667    4.333333    16.466667   0.333333    0.000000       0.000000  \n\n[170 rows x 40 columns]",
      "text/html": "<div>\n<style scoped>\n    .dataframe tbody tr th:only-of-type {\n        vertical-align: middle;\n    }\n\n    .dataframe tbody tr th {\n        vertical-align: top;\n    }\n\n    .dataframe thead th {\n        text-align: right;\n    }\n</style>\n<table border=\"1\" class=\"dataframe\">\n  <thead>\n    <tr style=\"text-align: right;\">\n      <th></th>\n      <th>date</th>\n      <th>time</th>\n      <th>comp</th>\n      <th>round</th>\n      <th>day</th>\n      <th>venue</th>\n      <th>result</th>\n      <th>gf</th>\n      <th>ga</th>\n      <th>opponent</th>\n      <th>...</th>\n      <th>day_code</th>\n      <th>target</th>\n      <th>gf_rolling</th>\n      <th>ga_rolling</th>\n      <th>sh_rolling</th>\n      <th>sot_rolling</th>\n      <th>dist_rolling</th>\n      <th>fk_rolling</th>\n      <th>pk_rolling</th>\n      <th>pkatt_rolling</th>\n    </tr>\n  </thead>\n  <tbody>\n    <tr>\n      <th>2965</th>\n      <td>2019-09-01</td>\n      <td>16:30</td>\n      <td>Premier League</td>\n      <td>Matchweek 4</td>\n      <td>Sun</td>\n      <td>Home</td>\n      <td>D</td>\n      <td>2.0</td>\n      <td>2.0</td>\n      <td>Tottenham</td>\n      <td>...</td>\n      <td>6</td>\n      <td>0</td>\n      <td>1.333333</td>\n      <td>1.333333</td>\n      <td>10.666667</td>\n      <td>4.666667</td>\n      <td>17.200000</td>\n      <td>0.333333</td>\n      <td>0.000000</td>\n      <td>0.000000</td>\n    </tr>\n    <tr>\n      <th>2966</th>\n      <td>2019-09-15</td>\n      <td>16:30</td>\n      <td>Premier League</td>\n      <td>Matchweek 5</td>\n      <td>Sun</td>\n      <td>Away</td>\n      <td>D</td>\n      <td>2.0</td>\n      <td>2.0</td>\n      <td>Watford</td>\n      <td>...</td>\n      <td>6</td>\n      <td>0</td>\n      <td>1.666667</td>\n      <td>2.000000</td>\n      <td>16.666667</td>\n      <td>6.666667</td>\n      <td>18.600000</td>\n      <td>1.000000</td>\n      <td>0.000000</td>\n      <td>0.000000</td>\n    </tr>\n    <tr>\n      <th>2967</th>\n      <td>2019-09-22</td>\n      <td>16:30</td>\n      <td>Premier League</td>\n      <td>Matchweek 6</td>\n      <td>Sun</td>\n      <td>Home</td>\n      <td>W</td>\n      <td>3.0</td>\n      <td>2.0</td>\n      <td>Aston Villa</td>\n      <td>...</td>\n      <td>6</td>\n      <td>1</td>\n      <td>1.666667</td>\n      <td>2.333333</td>\n      <td>14.000000</td>\n      <td>5.000000</td>\n      <td>19.300000</td>\n      <td>1.000000</td>\n      <td>0.000000</td>\n      <td>0.000000</td>\n    </tr>\n    <tr>\n      <th>2968</th>\n      <td>2019-09-30</td>\n      <td>20:00</td>\n      <td>Premier League</td>\n      <td>Matchweek 7</td>\n      <td>Mon</td>\n      <td>Away</td>\n      <td>D</td>\n      <td>1.0</td>\n      <td>1.0</td>\n      <td>Manchester Utd</td>\n      <td>...</td>\n      <td>0</td>\n      <td>0</td>\n      <td>2.333333</td>\n      <td>2.000000</td>\n      <td>17.666667</td>\n      <td>5.666667</td>\n      <td>18.600000</td>\n      <td>1.333333</td>\n      <td>0.333333</td>\n      <td>0.333333</td>\n    </tr>\n    <tr>\n      <th>2969</th>\n      <td>2019-10-06</td>\n      <td>14:00</td>\n      <td>Premier League</td>\n      <td>Matchweek 8</td>\n      <td>Sun</td>\n      <td>Home</td>\n      <td>W</td>\n      <td>1.0</td>\n      <td>0.0</td>\n      <td>Bournemouth</td>\n      <td>...</td>\n      <td>6</td>\n      <td>1</td>\n      <td>2.000000</td>\n      <td>1.666667</td>\n      <td>12.333333</td>\n      <td>4.666667</td>\n      <td>18.100000</td>\n      <td>1.000000</td>\n      <td>0.333333</td>\n      <td>0.333333</td>\n    </tr>\n    <tr>\n      <th>...</th>\n      <td>...</td>\n      <td>...</td>\n      <td>...</td>\n      <td>...</td>\n      <td>...</td>\n      <td>...</td>\n      <td>...</td>\n      <td>...</td>\n      <td>...</td>\n      <td>...</td>\n      <td>...</td>\n      <td>...</td>\n      <td>...</td>\n      <td>...</td>\n      <td>...</td>\n      <td>...</td>\n      <td>...</td>\n      <td>...</td>\n      <td>...</td>\n      <td>...</td>\n      <td>...</td>\n    </tr>\n    <tr>\n      <th>57</th>\n      <td>2023-12-17</td>\n      <td>14:00</td>\n      <td>Premier League</td>\n      <td>Matchweek 17</td>\n      <td>Sun</td>\n      <td>Home</td>\n      <td>W</td>\n      <td>2.0</td>\n      <td>0.0</td>\n      <td>Brighton</td>\n      <td>...</td>\n      <td>6</td>\n      <td>1</td>\n      <td>2.000000</td>\n      <td>1.666667</td>\n      <td>18.000000</td>\n      <td>6.000000</td>\n      <td>15.300000</td>\n      <td>0.333333</td>\n      <td>0.000000</td>\n      <td>0.000000</td>\n    </tr>\n    <tr>\n      <th>58</th>\n      <td>2023-12-23</td>\n      <td>17:30</td>\n      <td>Premier League</td>\n      <td>Matchweek 18</td>\n      <td>Sat</td>\n      <td>Away</td>\n      <td>D</td>\n      <td>1.0</td>\n      <td>1.0</td>\n      <td>Liverpool</td>\n      <td>...</td>\n      <td>5</td>\n      <td>0</td>\n      <td>2.000000</td>\n      <td>1.333333</td>\n      <td>20.333333</td>\n      <td>6.666667</td>\n      <td>14.833333</td>\n      <td>0.333333</td>\n      <td>0.000000</td>\n      <td>0.000000</td>\n    </tr>\n    <tr>\n      <th>59</th>\n      <td>2023-12-28</td>\n      <td>20:15</td>\n      <td>Premier League</td>\n      <td>Matchweek 19</td>\n      <td>Thu</td>\n      <td>Home</td>\n      <td>L</td>\n      <td>0.0</td>\n      <td>2.0</td>\n      <td>West Ham</td>\n      <td>...</td>\n      <td>3</td>\n      <td>0</td>\n      <td>1.000000</td>\n      <td>0.666667</td>\n      <td>17.000000</td>\n      <td>4.333333</td>\n      <td>15.400000</td>\n      <td>0.333333</td>\n      <td>0.000000</td>\n      <td>0.000000</td>\n    </tr>\n    <tr>\n      <th>60</th>\n      <td>2023-12-31</td>\n      <td>14:00</td>\n      <td>Premier League</td>\n      <td>Matchweek 20</td>\n      <td>Sun</td>\n      <td>Away</td>\n      <td>L</td>\n      <td>1.0</td>\n      <td>2.0</td>\n      <td>Fulham</td>\n      <td>...</td>\n      <td>6</td>\n      <td>0</td>\n      <td>1.000000</td>\n      <td>1.000000</td>\n      <td>23.000000</td>\n      <td>6.000000</td>\n      <td>16.066667</td>\n      <td>0.000000</td>\n      <td>0.000000</td>\n      <td>0.000000</td>\n    </tr>\n    <tr>\n      <th>61</th>\n      <td>2024-01-20</td>\n      <td>12:30</td>\n      <td>Premier League</td>\n      <td>Matchweek 21</td>\n      <td>Sat</td>\n      <td>Home</td>\n      <td>W</td>\n      <td>5.0</td>\n      <td>0.0</td>\n      <td>Crystal Palace</td>\n      <td>...</td>\n      <td>5</td>\n      <td>1</td>\n      <td>0.666667</td>\n      <td>1.666667</td>\n      <td>18.666667</td>\n      <td>4.333333</td>\n      <td>16.466667</td>\n      <td>0.333333</td>\n      <td>0.000000</td>\n      <td>0.000000</td>\n    </tr>\n  </tbody>\n</table>\n<p>170 rows × 40 columns</p>\n</div>"
     },
     "execution_count": 37,
     "metadata": {},
     "output_type": "execute_result"
    }
   ],
   "source": [
    "rolling_averages(group, cols, new_cols)"
   ],
   "metadata": {
    "collapsed": false,
    "ExecuteTime": {
     "end_time": "2024-01-26T00:18:34.039656Z",
     "start_time": "2024-01-26T00:18:33.974509Z"
    }
   },
   "id": "215cac51d5a61f7d"
  },
  {
   "cell_type": "code",
   "execution_count": 49,
   "outputs": [],
   "source": [
    "matches_rolling = matches.groupby('team').apply(lambda x: rolling_averages(x, cols, new_cols))"
   ],
   "metadata": {
    "collapsed": false,
    "ExecuteTime": {
     "end_time": "2024-01-26T00:26:45.923099Z",
     "start_time": "2024-01-26T00:26:45.764156Z"
    }
   },
   "id": "3adb0aa0c53a9d9f"
  },
  {
   "cell_type": "code",
   "execution_count": 50,
   "outputs": [],
   "source": [
    "matches_rolling = matches_rolling.droplevel('team') # Dropping redundant team labels to facilitate analysis"
   ],
   "metadata": {
    "collapsed": false,
    "ExecuteTime": {
     "end_time": "2024-01-26T00:26:49.215015Z",
     "start_time": "2024-01-26T00:26:49.206795Z"
    }
   },
   "id": "2287c1ed10a7d3d8"
  },
  {
   "cell_type": "code",
   "execution_count": 51,
   "outputs": [
    {
     "data": {
      "text/plain": "           date   time            comp         round  day venue result   gf  \\\n0    2019-09-01  16:30  Premier League   Matchweek 4  Sun  Home      D  2.0   \n1    2019-09-15  16:30  Premier League   Matchweek 5  Sun  Away      D  2.0   \n2    2019-09-22  16:30  Premier League   Matchweek 6  Sun  Home      W  3.0   \n3    2019-09-30  20:00  Premier League   Matchweek 7  Mon  Away      D  1.0   \n4    2019-10-06  14:00  Premier League   Matchweek 8  Sun  Home      W  1.0   \n...         ...    ...             ...           ...  ...   ...    ...  ...   \n3370 2023-12-17  14:00  Premier League  Matchweek 17  Sun  Away      L  0.0   \n3371 2023-12-24  13:00  Premier League  Matchweek 18  Sun  Home      W  2.0   \n3372 2023-12-27  19:30  Premier League  Matchweek 19  Wed  Away      W  4.0   \n3373 2023-12-30  15:00  Premier League  Matchweek 20  Sat  Home      W  3.0   \n3374 2024-01-22  19:45  Premier League  Matchweek 21  Mon  Away      D  0.0   \n\n       ga        opponent  ...  day_code  target  gf_rolling  ga_rolling  \\\n0     2.0       Tottenham  ...         6       0    1.333333    1.333333   \n1     2.0         Watford  ...         6       0    1.666667    2.000000   \n2     2.0     Aston Villa  ...         6       1    1.666667    2.333333   \n3     1.0  Manchester Utd  ...         0       0    2.333333    2.000000   \n4     0.0     Bournemouth  ...         6       1    2.000000    1.666667   \n...   ...             ...  ...       ...     ...         ...         ...   \n3370  3.0        West Ham  ...         6       0    1.000000    1.000000   \n3371  1.0         Chelsea  ...         6       1    0.666667    1.333333   \n3372  1.0       Brentford  ...         2       1    1.000000    1.666667   \n3373  0.0         Everton  ...         5       1    2.000000    1.666667   \n3374  0.0        Brighton  ...         0       0    3.000000    0.666667   \n\n     sh_rolling sot_rolling dist_rolling fk_rolling  pk_rolling  pkatt_rolling  \n0     10.666667    4.666667    17.200000   0.333333    0.000000       0.000000  \n1     16.666667    6.666667    18.600000   1.000000    0.000000       0.000000  \n2     14.000000    5.000000    19.300000   1.000000    0.000000       0.000000  \n3     17.666667    5.666667    18.600000   1.333333    0.333333       0.333333  \n4     12.333333    4.666667    18.100000   1.000000    0.333333       0.333333  \n...         ...         ...          ...        ...         ...            ...  \n3370   7.666667    3.666667    13.933333   0.333333    0.000000       0.000000  \n3371  10.333333    3.666667    17.166667   0.333333    0.000000       0.000000  \n3372  12.666667    4.333333    17.466667   0.333333    0.000000       0.000000  \n3373  13.000000    4.666667    18.333333   0.333333    0.000000       0.000000  \n3374  12.333333    5.666667    15.966667   0.333333    0.000000       0.000000  \n\n[3375 rows x 40 columns]",
      "text/html": "<div>\n<style scoped>\n    .dataframe tbody tr th:only-of-type {\n        vertical-align: middle;\n    }\n\n    .dataframe tbody tr th {\n        vertical-align: top;\n    }\n\n    .dataframe thead th {\n        text-align: right;\n    }\n</style>\n<table border=\"1\" class=\"dataframe\">\n  <thead>\n    <tr style=\"text-align: right;\">\n      <th></th>\n      <th>date</th>\n      <th>time</th>\n      <th>comp</th>\n      <th>round</th>\n      <th>day</th>\n      <th>venue</th>\n      <th>result</th>\n      <th>gf</th>\n      <th>ga</th>\n      <th>opponent</th>\n      <th>...</th>\n      <th>day_code</th>\n      <th>target</th>\n      <th>gf_rolling</th>\n      <th>ga_rolling</th>\n      <th>sh_rolling</th>\n      <th>sot_rolling</th>\n      <th>dist_rolling</th>\n      <th>fk_rolling</th>\n      <th>pk_rolling</th>\n      <th>pkatt_rolling</th>\n    </tr>\n  </thead>\n  <tbody>\n    <tr>\n      <th>0</th>\n      <td>2019-09-01</td>\n      <td>16:30</td>\n      <td>Premier League</td>\n      <td>Matchweek 4</td>\n      <td>Sun</td>\n      <td>Home</td>\n      <td>D</td>\n      <td>2.0</td>\n      <td>2.0</td>\n      <td>Tottenham</td>\n      <td>...</td>\n      <td>6</td>\n      <td>0</td>\n      <td>1.333333</td>\n      <td>1.333333</td>\n      <td>10.666667</td>\n      <td>4.666667</td>\n      <td>17.200000</td>\n      <td>0.333333</td>\n      <td>0.000000</td>\n      <td>0.000000</td>\n    </tr>\n    <tr>\n      <th>1</th>\n      <td>2019-09-15</td>\n      <td>16:30</td>\n      <td>Premier League</td>\n      <td>Matchweek 5</td>\n      <td>Sun</td>\n      <td>Away</td>\n      <td>D</td>\n      <td>2.0</td>\n      <td>2.0</td>\n      <td>Watford</td>\n      <td>...</td>\n      <td>6</td>\n      <td>0</td>\n      <td>1.666667</td>\n      <td>2.000000</td>\n      <td>16.666667</td>\n      <td>6.666667</td>\n      <td>18.600000</td>\n      <td>1.000000</td>\n      <td>0.000000</td>\n      <td>0.000000</td>\n    </tr>\n    <tr>\n      <th>2</th>\n      <td>2019-09-22</td>\n      <td>16:30</td>\n      <td>Premier League</td>\n      <td>Matchweek 6</td>\n      <td>Sun</td>\n      <td>Home</td>\n      <td>W</td>\n      <td>3.0</td>\n      <td>2.0</td>\n      <td>Aston Villa</td>\n      <td>...</td>\n      <td>6</td>\n      <td>1</td>\n      <td>1.666667</td>\n      <td>2.333333</td>\n      <td>14.000000</td>\n      <td>5.000000</td>\n      <td>19.300000</td>\n      <td>1.000000</td>\n      <td>0.000000</td>\n      <td>0.000000</td>\n    </tr>\n    <tr>\n      <th>3</th>\n      <td>2019-09-30</td>\n      <td>20:00</td>\n      <td>Premier League</td>\n      <td>Matchweek 7</td>\n      <td>Mon</td>\n      <td>Away</td>\n      <td>D</td>\n      <td>1.0</td>\n      <td>1.0</td>\n      <td>Manchester Utd</td>\n      <td>...</td>\n      <td>0</td>\n      <td>0</td>\n      <td>2.333333</td>\n      <td>2.000000</td>\n      <td>17.666667</td>\n      <td>5.666667</td>\n      <td>18.600000</td>\n      <td>1.333333</td>\n      <td>0.333333</td>\n      <td>0.333333</td>\n    </tr>\n    <tr>\n      <th>4</th>\n      <td>2019-10-06</td>\n      <td>14:00</td>\n      <td>Premier League</td>\n      <td>Matchweek 8</td>\n      <td>Sun</td>\n      <td>Home</td>\n      <td>W</td>\n      <td>1.0</td>\n      <td>0.0</td>\n      <td>Bournemouth</td>\n      <td>...</td>\n      <td>6</td>\n      <td>1</td>\n      <td>2.000000</td>\n      <td>1.666667</td>\n      <td>12.333333</td>\n      <td>4.666667</td>\n      <td>18.100000</td>\n      <td>1.000000</td>\n      <td>0.333333</td>\n      <td>0.333333</td>\n    </tr>\n    <tr>\n      <th>...</th>\n      <td>...</td>\n      <td>...</td>\n      <td>...</td>\n      <td>...</td>\n      <td>...</td>\n      <td>...</td>\n      <td>...</td>\n      <td>...</td>\n      <td>...</td>\n      <td>...</td>\n      <td>...</td>\n      <td>...</td>\n      <td>...</td>\n      <td>...</td>\n      <td>...</td>\n      <td>...</td>\n      <td>...</td>\n      <td>...</td>\n      <td>...</td>\n      <td>...</td>\n      <td>...</td>\n    </tr>\n    <tr>\n      <th>3370</th>\n      <td>2023-12-17</td>\n      <td>14:00</td>\n      <td>Premier League</td>\n      <td>Matchweek 17</td>\n      <td>Sun</td>\n      <td>Away</td>\n      <td>L</td>\n      <td>0.0</td>\n      <td>3.0</td>\n      <td>West Ham</td>\n      <td>...</td>\n      <td>6</td>\n      <td>0</td>\n      <td>1.000000</td>\n      <td>1.000000</td>\n      <td>7.666667</td>\n      <td>3.666667</td>\n      <td>13.933333</td>\n      <td>0.333333</td>\n      <td>0.000000</td>\n      <td>0.000000</td>\n    </tr>\n    <tr>\n      <th>3371</th>\n      <td>2023-12-24</td>\n      <td>13:00</td>\n      <td>Premier League</td>\n      <td>Matchweek 18</td>\n      <td>Sun</td>\n      <td>Home</td>\n      <td>W</td>\n      <td>2.0</td>\n      <td>1.0</td>\n      <td>Chelsea</td>\n      <td>...</td>\n      <td>6</td>\n      <td>1</td>\n      <td>0.666667</td>\n      <td>1.333333</td>\n      <td>10.333333</td>\n      <td>3.666667</td>\n      <td>17.166667</td>\n      <td>0.333333</td>\n      <td>0.000000</td>\n      <td>0.000000</td>\n    </tr>\n    <tr>\n      <th>3372</th>\n      <td>2023-12-27</td>\n      <td>19:30</td>\n      <td>Premier League</td>\n      <td>Matchweek 19</td>\n      <td>Wed</td>\n      <td>Away</td>\n      <td>W</td>\n      <td>4.0</td>\n      <td>1.0</td>\n      <td>Brentford</td>\n      <td>...</td>\n      <td>2</td>\n      <td>1</td>\n      <td>1.000000</td>\n      <td>1.666667</td>\n      <td>12.666667</td>\n      <td>4.333333</td>\n      <td>17.466667</td>\n      <td>0.333333</td>\n      <td>0.000000</td>\n      <td>0.000000</td>\n    </tr>\n    <tr>\n      <th>3373</th>\n      <td>2023-12-30</td>\n      <td>15:00</td>\n      <td>Premier League</td>\n      <td>Matchweek 20</td>\n      <td>Sat</td>\n      <td>Home</td>\n      <td>W</td>\n      <td>3.0</td>\n      <td>0.0</td>\n      <td>Everton</td>\n      <td>...</td>\n      <td>5</td>\n      <td>1</td>\n      <td>2.000000</td>\n      <td>1.666667</td>\n      <td>13.000000</td>\n      <td>4.666667</td>\n      <td>18.333333</td>\n      <td>0.333333</td>\n      <td>0.000000</td>\n      <td>0.000000</td>\n    </tr>\n    <tr>\n      <th>3374</th>\n      <td>2024-01-22</td>\n      <td>19:45</td>\n      <td>Premier League</td>\n      <td>Matchweek 21</td>\n      <td>Mon</td>\n      <td>Away</td>\n      <td>D</td>\n      <td>0.0</td>\n      <td>0.0</td>\n      <td>Brighton</td>\n      <td>...</td>\n      <td>0</td>\n      <td>0</td>\n      <td>3.000000</td>\n      <td>0.666667</td>\n      <td>12.333333</td>\n      <td>5.666667</td>\n      <td>15.966667</td>\n      <td>0.333333</td>\n      <td>0.000000</td>\n      <td>0.000000</td>\n    </tr>\n  </tbody>\n</table>\n<p>3375 rows × 40 columns</p>\n</div>"
     },
     "execution_count": 51,
     "metadata": {},
     "output_type": "execute_result"
    }
   ],
   "source": [
    "matches_rolling.index = range(matches_rolling.shape[0]) # Assigning unique indexes\n",
    "matches_rolling"
   ],
   "metadata": {
    "collapsed": false,
    "ExecuteTime": {
     "end_time": "2024-01-26T00:27:05.694680Z",
     "start_time": "2024-01-26T00:27:05.638001Z"
    }
   },
   "id": "7741c4e2a45fd24c"
  },
  {
   "cell_type": "markdown",
   "source": [
    "### 2.5 Retraining our Machine Learning Model\n",
    "- Making a function for retraining model\n",
    "- Retraining model with rolling averages data as well"
   ],
   "metadata": {
    "collapsed": false
   },
   "id": "2e1df1353ad1f0d6"
  },
  {
   "cell_type": "code",
   "execution_count": 65,
   "outputs": [],
   "source": [
    "def make_predictions(data, predictors):\n",
    "    train = data[data[\"date\"] < '2024-01-01']\n",
    "    test = data[data[\"date\"] > '2024-01-01']\n",
    "    rf.fit(train[predictors], train[\"target\"])\n",
    "    preds = rf.predict(test[predictors])\n",
    "    combined = pd.DataFrame(dict(actual=test[\"target\"], predicted=preds), index=test.index)\n",
    "    precision = precision_score(test[\"target\"], preds)\n",
    "    acc = accuracy_score(test['target'], preds)\n",
    "    return combined, precision, acc"
   ],
   "metadata": {
    "collapsed": false,
    "ExecuteTime": {
     "end_time": "2024-01-26T00:42:50.924755Z",
     "start_time": "2024-01-26T00:42:50.922235Z"
    }
   },
   "id": "4420f32cca10a889"
  },
  {
   "cell_type": "code",
   "execution_count": 68,
   "outputs": [
    {
     "name": "stdout",
     "output_type": "stream",
     "text": [
      "0.6666666666666666 0.8181818181818182\n"
     ]
    }
   ],
   "source": [
    "combined, precision, acc = make_predictions(matches_rolling, predictors + new_cols)\n",
    "print(precision, acc)"
   ],
   "metadata": {
    "collapsed": false,
    "ExecuteTime": {
     "end_time": "2024-01-26T00:44:38.560369Z",
     "start_time": "2024-01-26T00:44:38.215030Z"
    }
   },
   "id": "44254df7b52fa801"
  },
  {
   "cell_type": "markdown",
   "source": [
    "**New Model Precision Score: 66.66%**\n",
    "\n",
    "**New Model Accuracy Score: 81.81%**"
   ],
   "metadata": {
    "collapsed": false
   },
   "id": "5d66501a91c748c4"
  },
  {
   "cell_type": "markdown",
   "source": [
    "### 2.6 Combining Home and Away Predictions"
   ],
   "metadata": {
    "collapsed": false
   },
   "id": "520bc20d253b959b"
  },
  {
   "cell_type": "code",
   "execution_count": 73,
   "outputs": [
    {
     "data": {
      "text/plain": "      actual  predicted     date_x                    team_x       opponent_x  \\\n169        1          1 2024-01-20                   Arsenal   Crystal Palace   \n339        0          0 2024-01-14               Aston Villa          Everton   \n432        0          0 2024-01-21               Bournemouth        Liverpool   \n525        1          0 2024-01-20                 Brentford  Nott'ham Forest   \n694        0          0 2024-01-02  Brighton and Hove Albion         West Ham   \n695        0          1 2024-01-22  Brighton and Hove Albion           Wolves   \n827        0          0 2024-01-12                   Burnley       Luton Town   \n997        1          0 2024-01-13                   Chelsea           Fulham   \n1164       0          0 2024-01-20            Crystal Palace          Arsenal   \n1334       0          0 2024-01-14                   Everton      Aston Villa   \n\n     result_x     date_y                    team_y       opponent_y result_y  \\\n169         W 2024-01-20                   Arsenal   Crystal Palace        W   \n339         D 2024-01-14               Aston Villa          Everton        D   \n432         L 2024-01-21               Bournemouth        Liverpool        L   \n525         W 2024-01-20                 Brentford  Nott'ham Forest        W   \n694         D 2024-01-02  Brighton and Hove Albion         West Ham        D   \n695         D 2024-01-22  Brighton and Hove Albion           Wolves        D   \n827         D 2024-01-12                   Burnley       Luton Town        D   \n997         W 2024-01-13                   Chelsea           Fulham        W   \n1164        L 2024-01-20            Crystal Palace          Arsenal        L   \n1334        D 2024-01-14                   Everton      Aston Villa        D   \n\n           date                      team         opponent result  \n169  2024-01-20                   Arsenal   Crystal Palace      W  \n339  2024-01-14               Aston Villa          Everton      D  \n432  2024-01-21               Bournemouth        Liverpool      L  \n525  2024-01-20                 Brentford  Nott'ham Forest      W  \n694  2024-01-02  Brighton and Hove Albion         West Ham      D  \n695  2024-01-22  Brighton and Hove Albion           Wolves      D  \n827  2024-01-12                   Burnley       Luton Town      D  \n997  2024-01-13                   Chelsea           Fulham      W  \n1164 2024-01-20            Crystal Palace          Arsenal      L  \n1334 2024-01-14                   Everton      Aston Villa      D  ",
      "text/html": "<div>\n<style scoped>\n    .dataframe tbody tr th:only-of-type {\n        vertical-align: middle;\n    }\n\n    .dataframe tbody tr th {\n        vertical-align: top;\n    }\n\n    .dataframe thead th {\n        text-align: right;\n    }\n</style>\n<table border=\"1\" class=\"dataframe\">\n  <thead>\n    <tr style=\"text-align: right;\">\n      <th></th>\n      <th>actual</th>\n      <th>predicted</th>\n      <th>date_x</th>\n      <th>team_x</th>\n      <th>opponent_x</th>\n      <th>result_x</th>\n      <th>date_y</th>\n      <th>team_y</th>\n      <th>opponent_y</th>\n      <th>result_y</th>\n      <th>date</th>\n      <th>team</th>\n      <th>opponent</th>\n      <th>result</th>\n    </tr>\n  </thead>\n  <tbody>\n    <tr>\n      <th>169</th>\n      <td>1</td>\n      <td>1</td>\n      <td>2024-01-20</td>\n      <td>Arsenal</td>\n      <td>Crystal Palace</td>\n      <td>W</td>\n      <td>2024-01-20</td>\n      <td>Arsenal</td>\n      <td>Crystal Palace</td>\n      <td>W</td>\n      <td>2024-01-20</td>\n      <td>Arsenal</td>\n      <td>Crystal Palace</td>\n      <td>W</td>\n    </tr>\n    <tr>\n      <th>339</th>\n      <td>0</td>\n      <td>0</td>\n      <td>2024-01-14</td>\n      <td>Aston Villa</td>\n      <td>Everton</td>\n      <td>D</td>\n      <td>2024-01-14</td>\n      <td>Aston Villa</td>\n      <td>Everton</td>\n      <td>D</td>\n      <td>2024-01-14</td>\n      <td>Aston Villa</td>\n      <td>Everton</td>\n      <td>D</td>\n    </tr>\n    <tr>\n      <th>432</th>\n      <td>0</td>\n      <td>0</td>\n      <td>2024-01-21</td>\n      <td>Bournemouth</td>\n      <td>Liverpool</td>\n      <td>L</td>\n      <td>2024-01-21</td>\n      <td>Bournemouth</td>\n      <td>Liverpool</td>\n      <td>L</td>\n      <td>2024-01-21</td>\n      <td>Bournemouth</td>\n      <td>Liverpool</td>\n      <td>L</td>\n    </tr>\n    <tr>\n      <th>525</th>\n      <td>1</td>\n      <td>0</td>\n      <td>2024-01-20</td>\n      <td>Brentford</td>\n      <td>Nott'ham Forest</td>\n      <td>W</td>\n      <td>2024-01-20</td>\n      <td>Brentford</td>\n      <td>Nott'ham Forest</td>\n      <td>W</td>\n      <td>2024-01-20</td>\n      <td>Brentford</td>\n      <td>Nott'ham Forest</td>\n      <td>W</td>\n    </tr>\n    <tr>\n      <th>694</th>\n      <td>0</td>\n      <td>0</td>\n      <td>2024-01-02</td>\n      <td>Brighton and Hove Albion</td>\n      <td>West Ham</td>\n      <td>D</td>\n      <td>2024-01-02</td>\n      <td>Brighton and Hove Albion</td>\n      <td>West Ham</td>\n      <td>D</td>\n      <td>2024-01-02</td>\n      <td>Brighton and Hove Albion</td>\n      <td>West Ham</td>\n      <td>D</td>\n    </tr>\n    <tr>\n      <th>695</th>\n      <td>0</td>\n      <td>1</td>\n      <td>2024-01-22</td>\n      <td>Brighton and Hove Albion</td>\n      <td>Wolves</td>\n      <td>D</td>\n      <td>2024-01-22</td>\n      <td>Brighton and Hove Albion</td>\n      <td>Wolves</td>\n      <td>D</td>\n      <td>2024-01-22</td>\n      <td>Brighton and Hove Albion</td>\n      <td>Wolves</td>\n      <td>D</td>\n    </tr>\n    <tr>\n      <th>827</th>\n      <td>0</td>\n      <td>0</td>\n      <td>2024-01-12</td>\n      <td>Burnley</td>\n      <td>Luton Town</td>\n      <td>D</td>\n      <td>2024-01-12</td>\n      <td>Burnley</td>\n      <td>Luton Town</td>\n      <td>D</td>\n      <td>2024-01-12</td>\n      <td>Burnley</td>\n      <td>Luton Town</td>\n      <td>D</td>\n    </tr>\n    <tr>\n      <th>997</th>\n      <td>1</td>\n      <td>0</td>\n      <td>2024-01-13</td>\n      <td>Chelsea</td>\n      <td>Fulham</td>\n      <td>W</td>\n      <td>2024-01-13</td>\n      <td>Chelsea</td>\n      <td>Fulham</td>\n      <td>W</td>\n      <td>2024-01-13</td>\n      <td>Chelsea</td>\n      <td>Fulham</td>\n      <td>W</td>\n    </tr>\n    <tr>\n      <th>1164</th>\n      <td>0</td>\n      <td>0</td>\n      <td>2024-01-20</td>\n      <td>Crystal Palace</td>\n      <td>Arsenal</td>\n      <td>L</td>\n      <td>2024-01-20</td>\n      <td>Crystal Palace</td>\n      <td>Arsenal</td>\n      <td>L</td>\n      <td>2024-01-20</td>\n      <td>Crystal Palace</td>\n      <td>Arsenal</td>\n      <td>L</td>\n    </tr>\n    <tr>\n      <th>1334</th>\n      <td>0</td>\n      <td>0</td>\n      <td>2024-01-14</td>\n      <td>Everton</td>\n      <td>Aston Villa</td>\n      <td>D</td>\n      <td>2024-01-14</td>\n      <td>Everton</td>\n      <td>Aston Villa</td>\n      <td>D</td>\n      <td>2024-01-14</td>\n      <td>Everton</td>\n      <td>Aston Villa</td>\n      <td>D</td>\n    </tr>\n  </tbody>\n</table>\n</div>"
     },
     "execution_count": 73,
     "metadata": {},
     "output_type": "execute_result"
    }
   ],
   "source": [
    "combined = combined.merge(matches_rolling[[\"date\", \"team\", \"opponent\", \"result\"]], left_index=True, right_index=True)\n",
    "combined.head(10) "
   ],
   "metadata": {
    "collapsed": false,
    "ExecuteTime": {
     "end_time": "2024-01-26T01:34:44.643372Z",
     "start_time": "2024-01-26T01:34:44.636212Z"
    }
   },
   "id": "303807cbb676b9c3"
  },
  {
   "cell_type": "code",
   "execution_count": 71,
   "outputs": [],
   "source": [
    "class MissingDict(dict):\n",
    "    __missing__ = lambda self, key: key\n",
    "\n",
    "\n",
    "map_values = {\n",
    "    \"Brighton and Hove Albion\": \"Brighton\", \n",
    "    \"Manchester United\": \"Manchester Utd\", \n",
    "    \"Newcastle United\": \"Newcastle Utd\", \n",
    "    \"Tottenham Hotspur\": \"Tottenham\", \n",
    "    \"West Ham United\": \"West Ham\", \n",
    "    \"Wolverhampton Wanderers\": \"Wolves\"\n",
    "}\n",
    "\n",
    "mapping = MissingDict(**map_values)"
   ],
   "metadata": {
    "collapsed": false,
    "ExecuteTime": {
     "end_time": "2024-01-26T01:30:20.075057Z",
     "start_time": "2024-01-26T01:30:20.069379Z"
    }
   },
   "id": "98174141dd3827"
  },
  {
   "cell_type": "code",
   "execution_count": 74,
   "outputs": [
    {
     "data": {
      "text/plain": "    actual_x  predicted_x   date_x_x                  team_x_x  \\\n0          1            1 2024-01-20                   Arsenal   \n1          0            0 2024-01-14               Aston Villa   \n2          0            0 2024-01-21               Bournemouth   \n3          1            0 2024-01-20                 Brentford   \n4          0            0 2024-01-02  Brighton and Hove Albion   \n5          0            1 2024-01-22  Brighton and Hove Albion   \n6          0            0 2024-01-12                   Burnley   \n7          1            0 2024-01-13                   Chelsea   \n8          0            0 2024-01-20            Crystal Palace   \n9          0            0 2024-01-14                   Everton   \n10         0            0 2024-01-13                    Fulham   \n11         1            1 2024-01-21                 Liverpool   \n12         0            0 2024-01-12                Luton Town   \n13         1            0 2024-01-13           Manchester City   \n14         0            0 2024-01-14         Manchester United   \n15         0            0 2024-01-13          Newcastle United   \n16         0            0 2024-01-14         Tottenham Hotspur   \n17         0            0 2024-01-02           West Ham United   \n18         0            0 2024-01-21           West Ham United   \n19         0            0 2024-01-22   Wolverhampton Wanderers   \n\n       opponent_x_x result_x_x   date_y_x                  team_y_x  \\\n0    Crystal Palace          W 2024-01-20                   Arsenal   \n1           Everton          D 2024-01-14               Aston Villa   \n2         Liverpool          L 2024-01-21               Bournemouth   \n3   Nott'ham Forest          W 2024-01-20                 Brentford   \n4          West Ham          D 2024-01-02  Brighton and Hove Albion   \n5            Wolves          D 2024-01-22  Brighton and Hove Albion   \n6        Luton Town          D 2024-01-12                   Burnley   \n7            Fulham          W 2024-01-13                   Chelsea   \n8           Arsenal          L 2024-01-20            Crystal Palace   \n9       Aston Villa          D 2024-01-14                   Everton   \n10          Chelsea          L 2024-01-13                    Fulham   \n11      Bournemouth          W 2024-01-21                 Liverpool   \n12          Burnley          D 2024-01-12                Luton Town   \n13    Newcastle Utd          W 2024-01-13           Manchester City   \n14        Tottenham          D 2024-01-14         Manchester United   \n15  Manchester City          L 2024-01-13          Newcastle United   \n16   Manchester Utd          D 2024-01-14         Tottenham Hotspur   \n17         Brighton          D 2024-01-02           West Ham United   \n18    Sheffield Utd          D 2024-01-21           West Ham United   \n19         Brighton          D 2024-01-22   Wolverhampton Wanderers   \n\n       opponent_y_x result_y_x  ...     opponent_x_y result_x_y   date_y_y  \\\n0    Crystal Palace          W  ...          Arsenal          L 2024-01-20   \n1           Everton          D  ...      Aston Villa          D 2024-01-14   \n2         Liverpool          L  ...      Bournemouth          W 2024-01-21   \n3   Nott'ham Forest          W  ...        Brentford          L 2024-01-20   \n4          West Ham          D  ...         Brighton          D 2024-01-02   \n5            Wolves          D  ...         Brighton          D 2024-01-22   \n6        Luton Town          D  ...          Burnley          D 2024-01-12   \n7            Fulham          W  ...          Chelsea          L 2024-01-13   \n8           Arsenal          L  ...   Crystal Palace          W 2024-01-20   \n9       Aston Villa          D  ...          Everton          D 2024-01-14   \n10          Chelsea          L  ...           Fulham          W 2024-01-13   \n11      Bournemouth          W  ...        Liverpool          L 2024-01-21   \n12          Burnley          D  ...       Luton Town          D 2024-01-12   \n13    Newcastle Utd          W  ...  Manchester City          L 2024-01-13   \n14        Tottenham          D  ...   Manchester Utd          D 2024-01-14   \n15  Manchester City          L  ...    Newcastle Utd          W 2024-01-13   \n16   Manchester Utd          D  ...        Tottenham          D 2024-01-14   \n17         Brighton          D  ...         West Ham          D 2024-01-02   \n18    Sheffield Utd          D  ...         West Ham          D 2024-01-21   \n19         Brighton          D  ...           Wolves          D 2024-01-22   \n\n                    team_y_y     opponent_y_y  result_y_y  \\\n0             Crystal Palace          Arsenal           L   \n1                    Everton      Aston Villa           D   \n2                  Liverpool      Bournemouth           W   \n3          Nottingham Forest        Brentford           L   \n4            West Ham United         Brighton           D   \n5    Wolverhampton Wanderers         Brighton           D   \n6                 Luton Town          Burnley           D   \n7                     Fulham          Chelsea           L   \n8                    Arsenal   Crystal Palace           W   \n9                Aston Villa          Everton           D   \n10                   Chelsea           Fulham           W   \n11               Bournemouth        Liverpool           L   \n12                   Burnley       Luton Town           D   \n13          Newcastle United  Manchester City           L   \n14         Tottenham Hotspur   Manchester Utd           D   \n15           Manchester City    Newcastle Utd           W   \n16         Manchester United        Tottenham           D   \n17  Brighton and Hove Albion         West Ham           D   \n18          Sheffield United         West Ham           D   \n19  Brighton and Hove Albion           Wolves           D   \n\n                      team_y       opponent_y result_y         new_team_y  \n0             Crystal Palace          Arsenal        L     Crystal Palace  \n1                    Everton      Aston Villa        D            Everton  \n2                  Liverpool      Bournemouth        W          Liverpool  \n3          Nottingham Forest        Brentford        L  Nottingham Forest  \n4            West Ham United         Brighton        D           West Ham  \n5    Wolverhampton Wanderers         Brighton        D             Wolves  \n6                 Luton Town          Burnley        D         Luton Town  \n7                     Fulham          Chelsea        L             Fulham  \n8                    Arsenal   Crystal Palace        W            Arsenal  \n9                Aston Villa          Everton        D        Aston Villa  \n10                   Chelsea           Fulham        W            Chelsea  \n11               Bournemouth        Liverpool        L        Bournemouth  \n12                   Burnley       Luton Town        D            Burnley  \n13          Newcastle United  Manchester City        L      Newcastle Utd  \n14         Tottenham Hotspur   Manchester Utd        D          Tottenham  \n15           Manchester City    Newcastle Utd        W    Manchester City  \n16         Manchester United        Tottenham        D     Manchester Utd  \n17  Brighton and Hove Albion         West Ham        D           Brighton  \n18          Sheffield United         West Ham        D   Sheffield United  \n19  Brighton and Hove Albion           Wolves        D           Brighton  \n\n[20 rows x 29 columns]",
      "text/html": "<div>\n<style scoped>\n    .dataframe tbody tr th:only-of-type {\n        vertical-align: middle;\n    }\n\n    .dataframe tbody tr th {\n        vertical-align: top;\n    }\n\n    .dataframe thead th {\n        text-align: right;\n    }\n</style>\n<table border=\"1\" class=\"dataframe\">\n  <thead>\n    <tr style=\"text-align: right;\">\n      <th></th>\n      <th>actual_x</th>\n      <th>predicted_x</th>\n      <th>date_x_x</th>\n      <th>team_x_x</th>\n      <th>opponent_x_x</th>\n      <th>result_x_x</th>\n      <th>date_y_x</th>\n      <th>team_y_x</th>\n      <th>opponent_y_x</th>\n      <th>result_y_x</th>\n      <th>...</th>\n      <th>opponent_x_y</th>\n      <th>result_x_y</th>\n      <th>date_y_y</th>\n      <th>team_y_y</th>\n      <th>opponent_y_y</th>\n      <th>result_y_y</th>\n      <th>team_y</th>\n      <th>opponent_y</th>\n      <th>result_y</th>\n      <th>new_team_y</th>\n    </tr>\n  </thead>\n  <tbody>\n    <tr>\n      <th>0</th>\n      <td>1</td>\n      <td>1</td>\n      <td>2024-01-20</td>\n      <td>Arsenal</td>\n      <td>Crystal Palace</td>\n      <td>W</td>\n      <td>2024-01-20</td>\n      <td>Arsenal</td>\n      <td>Crystal Palace</td>\n      <td>W</td>\n      <td>...</td>\n      <td>Arsenal</td>\n      <td>L</td>\n      <td>2024-01-20</td>\n      <td>Crystal Palace</td>\n      <td>Arsenal</td>\n      <td>L</td>\n      <td>Crystal Palace</td>\n      <td>Arsenal</td>\n      <td>L</td>\n      <td>Crystal Palace</td>\n    </tr>\n    <tr>\n      <th>1</th>\n      <td>0</td>\n      <td>0</td>\n      <td>2024-01-14</td>\n      <td>Aston Villa</td>\n      <td>Everton</td>\n      <td>D</td>\n      <td>2024-01-14</td>\n      <td>Aston Villa</td>\n      <td>Everton</td>\n      <td>D</td>\n      <td>...</td>\n      <td>Aston Villa</td>\n      <td>D</td>\n      <td>2024-01-14</td>\n      <td>Everton</td>\n      <td>Aston Villa</td>\n      <td>D</td>\n      <td>Everton</td>\n      <td>Aston Villa</td>\n      <td>D</td>\n      <td>Everton</td>\n    </tr>\n    <tr>\n      <th>2</th>\n      <td>0</td>\n      <td>0</td>\n      <td>2024-01-21</td>\n      <td>Bournemouth</td>\n      <td>Liverpool</td>\n      <td>L</td>\n      <td>2024-01-21</td>\n      <td>Bournemouth</td>\n      <td>Liverpool</td>\n      <td>L</td>\n      <td>...</td>\n      <td>Bournemouth</td>\n      <td>W</td>\n      <td>2024-01-21</td>\n      <td>Liverpool</td>\n      <td>Bournemouth</td>\n      <td>W</td>\n      <td>Liverpool</td>\n      <td>Bournemouth</td>\n      <td>W</td>\n      <td>Liverpool</td>\n    </tr>\n    <tr>\n      <th>3</th>\n      <td>1</td>\n      <td>0</td>\n      <td>2024-01-20</td>\n      <td>Brentford</td>\n      <td>Nott'ham Forest</td>\n      <td>W</td>\n      <td>2024-01-20</td>\n      <td>Brentford</td>\n      <td>Nott'ham Forest</td>\n      <td>W</td>\n      <td>...</td>\n      <td>Brentford</td>\n      <td>L</td>\n      <td>2024-01-20</td>\n      <td>Nottingham Forest</td>\n      <td>Brentford</td>\n      <td>L</td>\n      <td>Nottingham Forest</td>\n      <td>Brentford</td>\n      <td>L</td>\n      <td>Nottingham Forest</td>\n    </tr>\n    <tr>\n      <th>4</th>\n      <td>0</td>\n      <td>0</td>\n      <td>2024-01-02</td>\n      <td>Brighton and Hove Albion</td>\n      <td>West Ham</td>\n      <td>D</td>\n      <td>2024-01-02</td>\n      <td>Brighton and Hove Albion</td>\n      <td>West Ham</td>\n      <td>D</td>\n      <td>...</td>\n      <td>Brighton</td>\n      <td>D</td>\n      <td>2024-01-02</td>\n      <td>West Ham United</td>\n      <td>Brighton</td>\n      <td>D</td>\n      <td>West Ham United</td>\n      <td>Brighton</td>\n      <td>D</td>\n      <td>West Ham</td>\n    </tr>\n    <tr>\n      <th>5</th>\n      <td>0</td>\n      <td>1</td>\n      <td>2024-01-22</td>\n      <td>Brighton and Hove Albion</td>\n      <td>Wolves</td>\n      <td>D</td>\n      <td>2024-01-22</td>\n      <td>Brighton and Hove Albion</td>\n      <td>Wolves</td>\n      <td>D</td>\n      <td>...</td>\n      <td>Brighton</td>\n      <td>D</td>\n      <td>2024-01-22</td>\n      <td>Wolverhampton Wanderers</td>\n      <td>Brighton</td>\n      <td>D</td>\n      <td>Wolverhampton Wanderers</td>\n      <td>Brighton</td>\n      <td>D</td>\n      <td>Wolves</td>\n    </tr>\n    <tr>\n      <th>6</th>\n      <td>0</td>\n      <td>0</td>\n      <td>2024-01-12</td>\n      <td>Burnley</td>\n      <td>Luton Town</td>\n      <td>D</td>\n      <td>2024-01-12</td>\n      <td>Burnley</td>\n      <td>Luton Town</td>\n      <td>D</td>\n      <td>...</td>\n      <td>Burnley</td>\n      <td>D</td>\n      <td>2024-01-12</td>\n      <td>Luton Town</td>\n      <td>Burnley</td>\n      <td>D</td>\n      <td>Luton Town</td>\n      <td>Burnley</td>\n      <td>D</td>\n      <td>Luton Town</td>\n    </tr>\n    <tr>\n      <th>7</th>\n      <td>1</td>\n      <td>0</td>\n      <td>2024-01-13</td>\n      <td>Chelsea</td>\n      <td>Fulham</td>\n      <td>W</td>\n      <td>2024-01-13</td>\n      <td>Chelsea</td>\n      <td>Fulham</td>\n      <td>W</td>\n      <td>...</td>\n      <td>Chelsea</td>\n      <td>L</td>\n      <td>2024-01-13</td>\n      <td>Fulham</td>\n      <td>Chelsea</td>\n      <td>L</td>\n      <td>Fulham</td>\n      <td>Chelsea</td>\n      <td>L</td>\n      <td>Fulham</td>\n    </tr>\n    <tr>\n      <th>8</th>\n      <td>0</td>\n      <td>0</td>\n      <td>2024-01-20</td>\n      <td>Crystal Palace</td>\n      <td>Arsenal</td>\n      <td>L</td>\n      <td>2024-01-20</td>\n      <td>Crystal Palace</td>\n      <td>Arsenal</td>\n      <td>L</td>\n      <td>...</td>\n      <td>Crystal Palace</td>\n      <td>W</td>\n      <td>2024-01-20</td>\n      <td>Arsenal</td>\n      <td>Crystal Palace</td>\n      <td>W</td>\n      <td>Arsenal</td>\n      <td>Crystal Palace</td>\n      <td>W</td>\n      <td>Arsenal</td>\n    </tr>\n    <tr>\n      <th>9</th>\n      <td>0</td>\n      <td>0</td>\n      <td>2024-01-14</td>\n      <td>Everton</td>\n      <td>Aston Villa</td>\n      <td>D</td>\n      <td>2024-01-14</td>\n      <td>Everton</td>\n      <td>Aston Villa</td>\n      <td>D</td>\n      <td>...</td>\n      <td>Everton</td>\n      <td>D</td>\n      <td>2024-01-14</td>\n      <td>Aston Villa</td>\n      <td>Everton</td>\n      <td>D</td>\n      <td>Aston Villa</td>\n      <td>Everton</td>\n      <td>D</td>\n      <td>Aston Villa</td>\n    </tr>\n    <tr>\n      <th>10</th>\n      <td>0</td>\n      <td>0</td>\n      <td>2024-01-13</td>\n      <td>Fulham</td>\n      <td>Chelsea</td>\n      <td>L</td>\n      <td>2024-01-13</td>\n      <td>Fulham</td>\n      <td>Chelsea</td>\n      <td>L</td>\n      <td>...</td>\n      <td>Fulham</td>\n      <td>W</td>\n      <td>2024-01-13</td>\n      <td>Chelsea</td>\n      <td>Fulham</td>\n      <td>W</td>\n      <td>Chelsea</td>\n      <td>Fulham</td>\n      <td>W</td>\n      <td>Chelsea</td>\n    </tr>\n    <tr>\n      <th>11</th>\n      <td>1</td>\n      <td>1</td>\n      <td>2024-01-21</td>\n      <td>Liverpool</td>\n      <td>Bournemouth</td>\n      <td>W</td>\n      <td>2024-01-21</td>\n      <td>Liverpool</td>\n      <td>Bournemouth</td>\n      <td>W</td>\n      <td>...</td>\n      <td>Liverpool</td>\n      <td>L</td>\n      <td>2024-01-21</td>\n      <td>Bournemouth</td>\n      <td>Liverpool</td>\n      <td>L</td>\n      <td>Bournemouth</td>\n      <td>Liverpool</td>\n      <td>L</td>\n      <td>Bournemouth</td>\n    </tr>\n    <tr>\n      <th>12</th>\n      <td>0</td>\n      <td>0</td>\n      <td>2024-01-12</td>\n      <td>Luton Town</td>\n      <td>Burnley</td>\n      <td>D</td>\n      <td>2024-01-12</td>\n      <td>Luton Town</td>\n      <td>Burnley</td>\n      <td>D</td>\n      <td>...</td>\n      <td>Luton Town</td>\n      <td>D</td>\n      <td>2024-01-12</td>\n      <td>Burnley</td>\n      <td>Luton Town</td>\n      <td>D</td>\n      <td>Burnley</td>\n      <td>Luton Town</td>\n      <td>D</td>\n      <td>Burnley</td>\n    </tr>\n    <tr>\n      <th>13</th>\n      <td>1</td>\n      <td>0</td>\n      <td>2024-01-13</td>\n      <td>Manchester City</td>\n      <td>Newcastle Utd</td>\n      <td>W</td>\n      <td>2024-01-13</td>\n      <td>Manchester City</td>\n      <td>Newcastle Utd</td>\n      <td>W</td>\n      <td>...</td>\n      <td>Manchester City</td>\n      <td>L</td>\n      <td>2024-01-13</td>\n      <td>Newcastle United</td>\n      <td>Manchester City</td>\n      <td>L</td>\n      <td>Newcastle United</td>\n      <td>Manchester City</td>\n      <td>L</td>\n      <td>Newcastle Utd</td>\n    </tr>\n    <tr>\n      <th>14</th>\n      <td>0</td>\n      <td>0</td>\n      <td>2024-01-14</td>\n      <td>Manchester United</td>\n      <td>Tottenham</td>\n      <td>D</td>\n      <td>2024-01-14</td>\n      <td>Manchester United</td>\n      <td>Tottenham</td>\n      <td>D</td>\n      <td>...</td>\n      <td>Manchester Utd</td>\n      <td>D</td>\n      <td>2024-01-14</td>\n      <td>Tottenham Hotspur</td>\n      <td>Manchester Utd</td>\n      <td>D</td>\n      <td>Tottenham Hotspur</td>\n      <td>Manchester Utd</td>\n      <td>D</td>\n      <td>Tottenham</td>\n    </tr>\n    <tr>\n      <th>15</th>\n      <td>0</td>\n      <td>0</td>\n      <td>2024-01-13</td>\n      <td>Newcastle United</td>\n      <td>Manchester City</td>\n      <td>L</td>\n      <td>2024-01-13</td>\n      <td>Newcastle United</td>\n      <td>Manchester City</td>\n      <td>L</td>\n      <td>...</td>\n      <td>Newcastle Utd</td>\n      <td>W</td>\n      <td>2024-01-13</td>\n      <td>Manchester City</td>\n      <td>Newcastle Utd</td>\n      <td>W</td>\n      <td>Manchester City</td>\n      <td>Newcastle Utd</td>\n      <td>W</td>\n      <td>Manchester City</td>\n    </tr>\n    <tr>\n      <th>16</th>\n      <td>0</td>\n      <td>0</td>\n      <td>2024-01-14</td>\n      <td>Tottenham Hotspur</td>\n      <td>Manchester Utd</td>\n      <td>D</td>\n      <td>2024-01-14</td>\n      <td>Tottenham Hotspur</td>\n      <td>Manchester Utd</td>\n      <td>D</td>\n      <td>...</td>\n      <td>Tottenham</td>\n      <td>D</td>\n      <td>2024-01-14</td>\n      <td>Manchester United</td>\n      <td>Tottenham</td>\n      <td>D</td>\n      <td>Manchester United</td>\n      <td>Tottenham</td>\n      <td>D</td>\n      <td>Manchester Utd</td>\n    </tr>\n    <tr>\n      <th>17</th>\n      <td>0</td>\n      <td>0</td>\n      <td>2024-01-02</td>\n      <td>West Ham United</td>\n      <td>Brighton</td>\n      <td>D</td>\n      <td>2024-01-02</td>\n      <td>West Ham United</td>\n      <td>Brighton</td>\n      <td>D</td>\n      <td>...</td>\n      <td>West Ham</td>\n      <td>D</td>\n      <td>2024-01-02</td>\n      <td>Brighton and Hove Albion</td>\n      <td>West Ham</td>\n      <td>D</td>\n      <td>Brighton and Hove Albion</td>\n      <td>West Ham</td>\n      <td>D</td>\n      <td>Brighton</td>\n    </tr>\n    <tr>\n      <th>18</th>\n      <td>0</td>\n      <td>0</td>\n      <td>2024-01-21</td>\n      <td>West Ham United</td>\n      <td>Sheffield Utd</td>\n      <td>D</td>\n      <td>2024-01-21</td>\n      <td>West Ham United</td>\n      <td>Sheffield Utd</td>\n      <td>D</td>\n      <td>...</td>\n      <td>West Ham</td>\n      <td>D</td>\n      <td>2024-01-21</td>\n      <td>Sheffield United</td>\n      <td>West Ham</td>\n      <td>D</td>\n      <td>Sheffield United</td>\n      <td>West Ham</td>\n      <td>D</td>\n      <td>Sheffield United</td>\n    </tr>\n    <tr>\n      <th>19</th>\n      <td>0</td>\n      <td>0</td>\n      <td>2024-01-22</td>\n      <td>Wolverhampton Wanderers</td>\n      <td>Brighton</td>\n      <td>D</td>\n      <td>2024-01-22</td>\n      <td>Wolverhampton Wanderers</td>\n      <td>Brighton</td>\n      <td>D</td>\n      <td>...</td>\n      <td>Wolves</td>\n      <td>D</td>\n      <td>2024-01-22</td>\n      <td>Brighton and Hove Albion</td>\n      <td>Wolves</td>\n      <td>D</td>\n      <td>Brighton and Hove Albion</td>\n      <td>Wolves</td>\n      <td>D</td>\n      <td>Brighton</td>\n    </tr>\n  </tbody>\n</table>\n<p>20 rows × 29 columns</p>\n</div>"
     },
     "execution_count": 74,
     "metadata": {},
     "output_type": "execute_result"
    }
   ],
   "source": [
    "combined[\"new_team\"] = combined[\"team\"].map(mapping)\n",
    "merged = combined.merge(combined, left_on=[\"date\", \"new_team\"], right_on=[\"date\", \"opponent\"])\n",
    "merged"
   ],
   "metadata": {
    "collapsed": false,
    "ExecuteTime": {
     "end_time": "2024-01-26T01:35:34.598673Z",
     "start_time": "2024-01-26T01:35:34.550285Z"
    }
   },
   "id": "2d31a55e8678ca1e"
  },
  {
   "cell_type": "code",
   "execution_count": 75,
   "outputs": [
    {
     "data": {
      "text/plain": "actual_x\n1    2\n0    1\nName: count, dtype: int64"
     },
     "execution_count": 75,
     "metadata": {},
     "output_type": "execute_result"
    }
   ],
   "source": [
    "merged[(merged[\"predicted_x\"] == 1) & (merged[\"predicted_y\"] ==0)][\"actual_x\"].value_counts()"
   ],
   "metadata": {
    "collapsed": false,
    "ExecuteTime": {
     "end_time": "2024-01-26T01:36:46.755442Z",
     "start_time": "2024-01-26T01:36:46.748879Z"
    }
   },
   "id": "7469c12be2b112eb"
  },
  {
   "cell_type": "markdown",
   "source": [
    "### 2.7 Visualizing the Results"
   ],
   "metadata": {
    "collapsed": false
   },
   "id": "c284b806b6f1e396"
  },
  {
   "cell_type": "markdown",
   "source": [
    "Feature Importance Plot"
   ],
   "metadata": {
    "collapsed": false
   },
   "id": "e398a659eda1e0fc"
  },
  {
   "cell_type": "code",
   "execution_count": 86,
   "outputs": [
    {
     "data": {
      "text/plain": "<Figure size 1000x800 with 1 Axes>",
      "image/png": "[encoded data removed]"
     },
     "metadata": {},
     "output_type": "display_data"
    }
   ],
   "source": [
    "import matplotlib.pyplot as plt\n",
    "import seaborn as sns\n",
    "import numpy as np\n",
    "\n",
    "# Extracting feature importances\n",
    "feature_importances = rf.feature_importances_\n",
    "\n",
    "try:\n",
    "    feature_names = rf.feature_names_in_\n",
    "except AttributeError:\n",
    "    feature_names = train.columns.drop('target') \n",
    "\n",
    "# Sorting the features by importance\n",
    "sorted_indices = np.argsort(feature_importances)[::-1]\n",
    "\n",
    "# Creating the plot\n",
    "plt.figure(figsize=(10, 8))\n",
    "sns.barplot(x=feature_importances[sorted_indices], y=feature_names[sorted_indices])\n",
    "plt.title('Feature Importances')\n",
    "plt.xlabel('Importance')\n",
    "plt.ylabel('Features')\n",
    "plt.show()\n"
   ],
   "metadata": {
    "collapsed": false,
    "ExecuteTime": {
     "end_time": "2024-01-26T02:05:47.840066Z",
     "start_time": "2024-01-26T02:05:46.908946Z"
    }
   },
   "id": "285842f7deefc49d"
  }
 ],
 "metadata": {
  "kernelspec": {
   "display_name": "Python 3",
   "language": "python",
   "name": "python3"
  },
  "language_info": {
   "codemirror_mode": {
    "name": "ipython",
    "version": 2
   },
   "file_extension": ".py",
   "mimetype": "text/x-python",
   "name": "python",
   "nbconvert_exporter": "python",
   "pygments_lexer": "ipython2",
   "version": "2.7.6"
  }
 },
 "nbformat": 4,
 "nbformat_minor": 5
}
