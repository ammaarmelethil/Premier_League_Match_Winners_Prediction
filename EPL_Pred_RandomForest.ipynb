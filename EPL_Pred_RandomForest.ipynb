{
 "cells": [
  {
   "cell_type": "markdown",
   "source": [
    "# 2. Predicting Soccer Match Winners using ML"
   ],
   "metadata": {
    "collapsed": false
   },
   "id": "ebdcc3b68d3ccef5"
  },
  {
   "cell_type": "code",
   "execution_count": 2,
   "outputs": [],
   "source": [
    "import pandas as pd"
   ],
   "metadata": {
    "collapsed": true,
    "ExecuteTime": {
     "end_time": "2024-01-25T22:38:40.361832Z",
     "start_time": "2024-01-25T22:38:39.593051Z"
    }
   },
   "id": "initial_id"
  },
  {
   "cell_type": "code",
   "execution_count": 3,
   "outputs": [
    {
     "data": {
      "text/plain": "         date   time            comp        round  day venue result   gf   ga  \\\n0  2023-08-13  16:30  Premier League  Matchweek 1  Sun  Away      D  1.0  1.0   \n1  2023-08-19  15:00  Premier League  Matchweek 2  Sat  Home      W  3.0  1.0   \n2  2023-08-27  16:30  Premier League  Matchweek 3  Sun  Away      W  2.0  1.0   \n3  2023-09-03  14:00  Premier League  Matchweek 4  Sun  Home      W  3.0  0.0   \n4  2023-09-16  12:30  Premier League  Matchweek 5  Sat  Away      W  3.0  1.0   \n\n        opponent  ...  match report  notes    sh  sot  dist   fk pk pkatt  \\\n0        Chelsea  ...  Match Report    NaN  13.0  1.0  17.8  0.0  0     0   \n1    Bournemouth  ...  Match Report    NaN  25.0  9.0  16.8  1.0  0     1   \n2  Newcastle Utd  ...  Match Report    NaN   9.0  4.0  17.2  1.0  0     0   \n3    Aston Villa  ...  Match Report    NaN  17.0  4.0  14.7  0.0  0     0   \n4         Wolves  ...  Match Report    NaN  16.0  5.0  15.8  0.0  0     0   \n\n   season       team  \n0    2020  Liverpool  \n1    2020  Liverpool  \n2    2020  Liverpool  \n3    2020  Liverpool  \n4    2020  Liverpool  \n\n[5 rows x 27 columns]",
      "text/html": "<div>\n<style scoped>\n    .dataframe tbody tr th:only-of-type {\n        vertical-align: middle;\n    }\n\n    .dataframe tbody tr th {\n        vertical-align: top;\n    }\n\n    .dataframe thead th {\n        text-align: right;\n    }\n</style>\n<table border=\"1\" class=\"dataframe\">\n  <thead>\n    <tr style=\"text-align: right;\">\n      <th></th>\n      <th>date</th>\n      <th>time</th>\n      <th>comp</th>\n      <th>round</th>\n      <th>day</th>\n      <th>venue</th>\n      <th>result</th>\n      <th>gf</th>\n      <th>ga</th>\n      <th>opponent</th>\n      <th>...</th>\n      <th>match report</th>\n      <th>notes</th>\n      <th>sh</th>\n      <th>sot</th>\n      <th>dist</th>\n      <th>fk</th>\n      <th>pk</th>\n      <th>pkatt</th>\n      <th>season</th>\n      <th>team</th>\n    </tr>\n  </thead>\n  <tbody>\n    <tr>\n      <th>0</th>\n      <td>2023-08-13</td>\n      <td>16:30</td>\n      <td>Premier League</td>\n      <td>Matchweek 1</td>\n      <td>Sun</td>\n      <td>Away</td>\n      <td>D</td>\n      <td>1.0</td>\n      <td>1.0</td>\n      <td>Chelsea</td>\n      <td>...</td>\n      <td>Match Report</td>\n      <td>NaN</td>\n      <td>13.0</td>\n      <td>1.0</td>\n      <td>17.8</td>\n      <td>0.0</td>\n      <td>0</td>\n      <td>0</td>\n      <td>2020</td>\n      <td>Liverpool</td>\n    </tr>\n    <tr>\n      <th>1</th>\n      <td>2023-08-19</td>\n      <td>15:00</td>\n      <td>Premier League</td>\n      <td>Matchweek 2</td>\n      <td>Sat</td>\n      <td>Home</td>\n      <td>W</td>\n      <td>3.0</td>\n      <td>1.0</td>\n      <td>Bournemouth</td>\n      <td>...</td>\n      <td>Match Report</td>\n      <td>NaN</td>\n      <td>25.0</td>\n      <td>9.0</td>\n      <td>16.8</td>\n      <td>1.0</td>\n      <td>0</td>\n      <td>1</td>\n      <td>2020</td>\n      <td>Liverpool</td>\n    </tr>\n    <tr>\n      <th>2</th>\n      <td>2023-08-27</td>\n      <td>16:30</td>\n      <td>Premier League</td>\n      <td>Matchweek 3</td>\n      <td>Sun</td>\n      <td>Away</td>\n      <td>W</td>\n      <td>2.0</td>\n      <td>1.0</td>\n      <td>Newcastle Utd</td>\n      <td>...</td>\n      <td>Match Report</td>\n      <td>NaN</td>\n      <td>9.0</td>\n      <td>4.0</td>\n      <td>17.2</td>\n      <td>1.0</td>\n      <td>0</td>\n      <td>0</td>\n      <td>2020</td>\n      <td>Liverpool</td>\n    </tr>\n    <tr>\n      <th>3</th>\n      <td>2023-09-03</td>\n      <td>14:00</td>\n      <td>Premier League</td>\n      <td>Matchweek 4</td>\n      <td>Sun</td>\n      <td>Home</td>\n      <td>W</td>\n      <td>3.0</td>\n      <td>0.0</td>\n      <td>Aston Villa</td>\n      <td>...</td>\n      <td>Match Report</td>\n      <td>NaN</td>\n      <td>17.0</td>\n      <td>4.0</td>\n      <td>14.7</td>\n      <td>0.0</td>\n      <td>0</td>\n      <td>0</td>\n      <td>2020</td>\n      <td>Liverpool</td>\n    </tr>\n    <tr>\n      <th>4</th>\n      <td>2023-09-16</td>\n      <td>12:30</td>\n      <td>Premier League</td>\n      <td>Matchweek 5</td>\n      <td>Sat</td>\n      <td>Away</td>\n      <td>W</td>\n      <td>3.0</td>\n      <td>1.0</td>\n      <td>Wolves</td>\n      <td>...</td>\n      <td>Match Report</td>\n      <td>NaN</td>\n      <td>16.0</td>\n      <td>5.0</td>\n      <td>15.8</td>\n      <td>0.0</td>\n      <td>0</td>\n      <td>0</td>\n      <td>2020</td>\n      <td>Liverpool</td>\n    </tr>\n  </tbody>\n</table>\n<p>5 rows × 27 columns</p>\n</div>"
     },
     "execution_count": 3,
     "metadata": {},
     "output_type": "execute_result"
    }
   ],
   "source": [
    "matches = pd.read_csv('matches.csv')\n",
    "matches.head()"
   ],
   "metadata": {
    "collapsed": false,
    "ExecuteTime": {
     "end_time": "2024-01-25T22:38:40.416723Z",
     "start_time": "2024-01-25T22:38:40.362041Z"
    }
   },
   "id": "df4e6ff5fde57809"
  },
  {
   "cell_type": "code",
   "execution_count": 4,
   "outputs": [
    {
     "data": {
      "text/plain": "(3456, 27)"
     },
     "execution_count": 4,
     "metadata": {},
     "output_type": "execute_result"
    }
   ],
   "source": [
    "matches.shape"
   ],
   "metadata": {
    "collapsed": false,
    "ExecuteTime": {
     "end_time": "2024-01-25T22:39:16.011783Z",
     "start_time": "2024-01-25T22:39:16.010711Z"
    }
   },
   "id": "191f52d60e45e666"
  },
  {
   "cell_type": "markdown",
   "source": [],
   "metadata": {
    "collapsed": false
   },
   "id": "1a3a8c0c008865ea"
  },
  {
   "cell_type": "markdown",
   "source": [
    "### 2.1 Investigating missing data"
   ],
   "metadata": {
    "collapsed": false
   },
   "id": "e152ba1a505b6be8"
  },
  {
   "cell_type": "code",
   "execution_count": 5,
   "outputs": [
    {
     "data": {
      "text/plain": "team\nLiverpool                   173\nManchester United           173\nEverton                     173\nCrystal Palace              173\nWolverhampton Wanderers     173\nChelsea                     173\nNewcastle United            173\nBrighton and Hove Albion    173\nWest Ham United             173\nTottenham Hotspur           173\nAston Villa                 173\nArsenal                     173\nManchester City             172\nSouthampton                 152\nLeicester City              152\nBurnley                     135\nLeeds United                114\nSheffield United             97\nFulham                       97\nBrentford                    96\nBournemouth                  96\nWatford                      76\nNorwich City                 76\nNottingham Forest            59\nWest Bromwich Albion         38\nLuton Town                   20\nName: count, dtype: int64"
     },
     "execution_count": 5,
     "metadata": {},
     "output_type": "execute_result"
    }
   ],
   "source": [
    "matches['team'].value_counts()"
   ],
   "metadata": {
    "collapsed": false,
    "ExecuteTime": {
     "end_time": "2024-01-25T22:43:36.101314Z",
     "start_time": "2024-01-25T22:43:36.091822Z"
    }
   },
   "id": "ddcdf129e24f3134"
  },
  {
   "cell_type": "code",
   "execution_count": 6,
   "outputs": [
    {
     "data": {
      "text/plain": "round\nMatchweek 1     100\nMatchweek 11    100\nMatchweek 21    100\nMatchweek 2     100\nMatchweek 19    100\nMatchweek 16    100\nMatchweek 15    100\nMatchweek 14    100\nMatchweek 13    100\nMatchweek 12    100\nMatchweek 20    100\nMatchweek 10    100\nMatchweek 5     100\nMatchweek 9     100\nMatchweek 4     100\nMatchweek 3     100\nMatchweek 6     100\nMatchweek 7     100\nMatchweek 8     100\nMatchweek 17     98\nMatchweek 18     98\nMatchweek 31     80\nMatchweek 32     80\nMatchweek 37     80\nMatchweek 36     80\nMatchweek 35     80\nMatchweek 28     80\nMatchweek 34     80\nMatchweek 33     80\nMatchweek 25     80\nMatchweek 30     80\nMatchweek 29     80\nMatchweek 27     80\nMatchweek 26     80\nMatchweek 24     80\nMatchweek 23     80\nMatchweek 22     80\nMatchweek 38     80\nName: count, dtype: int64"
     },
     "execution_count": 6,
     "metadata": {},
     "output_type": "execute_result"
    }
   ],
   "source": [
    "matches['round'].value_counts()"
   ],
   "metadata": {
    "collapsed": false,
    "ExecuteTime": {
     "end_time": "2024-01-25T22:46:11.702998Z",
     "start_time": "2024-01-25T22:46:11.698300Z"
    }
   },
   "id": "67582c7c95a1fce4"
  },
  {
   "cell_type": "markdown",
   "source": [
    "### 2.2 Cleaning data for Machine Learning\n",
    "\n",
    "- Converting 'object' date column to 'datetime'\n",
    "- Binary encoding 'venue': very important predictor, home advantage, away disadvantage\n",
    "- Numerically encoding opponents \n",
    "- Converting each hour to int, possible that some teams play better at certain times\n",
    "- Numerically encoding day of week, teams might play better on certain days\n",
    "- Binary encoding 'result' (Target Variable)"
   ],
   "metadata": {
    "collapsed": false
   },
   "id": "df1ea4b4f277777f"
  },
  {
   "cell_type": "code",
   "execution_count": 8,
   "outputs": [
    {
     "data": {
      "text/plain": "date            datetime64[ns]\ntime                    object\ncomp                    object\nround                   object\nday                     object\nvenue                   object\nresult                  object\ngf                     float64\nga                     float64\nopponent                object\nxg                     float64\nxga                    float64\nposs                   float64\nattendance             float64\ncaptain                 object\nformation               object\nreferee                 object\nmatch report            object\nnotes                  float64\nsh                     float64\nsot                    float64\ndist                   float64\nfk                     float64\npk                       int64\npkatt                    int64\nseason                   int64\nteam                    object\ndtype: object"
     },
     "execution_count": 8,
     "metadata": {},
     "output_type": "execute_result"
    }
   ],
   "source": [
    "matches['date'] = pd.to_datetime(matches['date'])\n",
    "matches.dtypes"
   ],
   "metadata": {
    "collapsed": false,
    "ExecuteTime": {
     "end_time": "2024-01-25T22:53:37.135353Z",
     "start_time": "2024-01-25T22:53:37.127503Z"
    }
   },
   "id": "10cfbac0f1ce43da"
  },
  {
   "cell_type": "markdown",
   "source": [
    "Binary Encoding 'venue',  0: Away | 1: Home"
   ],
   "metadata": {
    "collapsed": false
   },
   "id": "754eaabe291575db"
  },
  {
   "cell_type": "code",
   "execution_count": 12,
   "outputs": [],
   "source": [
    "matches['venue_code'] = matches['venue'].astype('category').cat.codes"
   ],
   "metadata": {
    "collapsed": false,
    "ExecuteTime": {
     "end_time": "2024-01-25T23:07:29.076498Z",
     "start_time": "2024-01-25T23:07:29.072073Z"
    }
   },
   "id": "9f0b072a2a1951a8"
  },
  {
   "cell_type": "markdown",
   "source": [
    "Encoding all Opponents"
   ],
   "metadata": {
    "collapsed": false
   },
   "id": "571452844028c091"
  },
  {
   "cell_type": "code",
   "execution_count": 13,
   "outputs": [],
   "source": [
    "matches['opp_code'] = matches['opponent'].astype('category').cat.codes"
   ],
   "metadata": {
    "collapsed": false,
    "ExecuteTime": {
     "end_time": "2024-01-25T23:07:32.841288Z",
     "start_time": "2024-01-25T23:07:32.834870Z"
    }
   },
   "id": "6f7f6eb9e26dd718"
  },
  {
   "cell_type": "markdown",
   "source": [
    "Encoding Hours"
   ],
   "metadata": {
    "collapsed": false
   },
   "id": "71d490b1743ad37b"
  },
  {
   "cell_type": "code",
   "execution_count": 14,
   "outputs": [],
   "source": [
    "matches['hour'] = matches['time'].str.replace(':.+',\"\",regex=True).astype('int')"
   ],
   "metadata": {
    "collapsed": false,
    "ExecuteTime": {
     "end_time": "2024-01-25T23:07:39.201224Z",
     "start_time": "2024-01-25T23:07:39.198178Z"
    }
   },
   "id": "e956d3ced0d551d1"
  },
  {
   "cell_type": "markdown",
   "source": [
    "Encoding Day of Week"
   ],
   "metadata": {
    "collapsed": false
   },
   "id": "7098a84f44452749"
  },
  {
   "cell_type": "code",
   "execution_count": 16,
   "outputs": [],
   "source": [
    "matches['day_code'] = matches['date'].dt.dayofweek"
   ],
   "metadata": {
    "collapsed": false,
    "ExecuteTime": {
     "end_time": "2024-01-25T23:09:47.062054Z",
     "start_time": "2024-01-25T23:09:47.041952Z"
    }
   },
   "id": "5f79af01ca478071"
  },
  {
   "cell_type": "markdown",
   "source": [
    "**Encoding Target Variable 'result',  0: Loss, Draw | 1: Win**"
   ],
   "metadata": {
    "collapsed": false
   },
   "id": "10489564cd77c3f"
  },
  {
   "cell_type": "code",
   "execution_count": 18,
   "outputs": [],
   "source": [
    "matches['target'] = (matches['result'] == 'W').astype('int')"
   ],
   "metadata": {
    "collapsed": false,
    "ExecuteTime": {
     "end_time": "2024-01-25T23:17:03.337447Z",
     "start_time": "2024-01-25T23:17:03.308641Z"
    }
   },
   "id": "7443dc7d7020b032"
  },
  {
   "cell_type": "markdown",
   "source": [
    "### 2.3 Creating Initial Machine Learning Model"
   ],
   "metadata": {
    "collapsed": false
   },
   "id": "fc2cd6c758e29d23"
  },
  {
   "cell_type": "code",
   "execution_count": 31,
   "outputs": [],
   "source": [
    "from sklearn.ensemble import RandomForestClassifier\n",
    "from sklearn.metrics import accuracy_score\n",
    "from sklearn.metrics import precision_score"
   ],
   "metadata": {
    "collapsed": false,
    "ExecuteTime": {
     "end_time": "2024-01-25T23:53:59.806316Z",
     "start_time": "2024-01-25T23:53:59.801903Z"
    }
   },
   "id": "a165e6d3008f92ff"
  },
  {
   "cell_type": "code",
   "execution_count": 21,
   "outputs": [],
   "source": [
    "# Experiment with different values for min_samples_leaf to decrease overfitting\n",
    "rf = RandomForestClassifier(n_estimators=50, min_samples_leaf=10, random_state=7)"
   ],
   "metadata": {
    "collapsed": false,
    "ExecuteTime": {
     "end_time": "2024-01-25T23:31:37.335027Z",
     "start_time": "2024-01-25T23:31:37.328613Z"
    }
   },
   "id": "f11b68c344505f5f"
  },
  {
   "cell_type": "markdown",
   "source": [
    "Test and Training Sets: Since this is time-series data, data in train set must precede test set"
   ],
   "metadata": {
    "collapsed": false
   },
   "id": "c567a0d50437e618"
  },
  {
   "cell_type": "code",
   "execution_count": 22,
   "outputs": [],
   "source": [
    "# Train data on every match between start of 2020 to end of 2023\n",
    "train = matches[matches['date'] < '2024-01-01']"
   ],
   "metadata": {
    "collapsed": false,
    "ExecuteTime": {
     "end_time": "2024-01-25T23:40:53.938503Z",
     "start_time": "2024-01-25T23:40:53.924042Z"
    }
   },
   "id": "9f1f1c1912e7745b"
  },
  {
   "cell_type": "code",
   "execution_count": 23,
   "outputs": [],
   "source": [
    "# Test data on all 2024 matches\n",
    "test = matches[matches['date'] >= '2023-01-01']"
   ],
   "metadata": {
    "collapsed": false,
    "ExecuteTime": {
     "end_time": "2024-01-25T23:41:59.285483Z",
     "start_time": "2024-01-25T23:41:59.268774Z"
    }
   },
   "id": "f7e57291afdfe0f5"
  },
  {
   "cell_type": "code",
   "execution_count": 24,
   "outputs": [
    {
     "data": {
      "text/plain": "RandomForestClassifier(min_samples_leaf=10, n_estimators=50, random_state=7)",
      "text/html": "<style>#sk-container-id-1 {color: black;}#sk-container-id-1 pre{padding: 0;}#sk-container-id-1 div.sk-toggleable {background-color: white;}#sk-container-id-1 label.sk-toggleable__label {cursor: pointer;display: block;width: 100%;margin-bottom: 0;padding: 0.3em;box-sizing: border-box;text-align: center;}#sk-container-id-1 label.sk-toggleable__label-arrow:before {content: \"▸\";float: left;margin-right: 0.25em;color: #696969;}#sk-container-id-1 label.sk-toggleable__label-arrow:hover:before {color: black;}#sk-container-id-1 div.sk-estimator:hover label.sk-toggleable__label-arrow:before {color: black;}#sk-container-id-1 div.sk-toggleable__content {max-height: 0;max-width: 0;overflow: hidden;text-align: left;background-color: #f0f8ff;}#sk-container-id-1 div.sk-toggleable__content pre {margin: 0.2em;color: black;border-radius: 0.25em;background-color: #f0f8ff;}#sk-container-id-1 input.sk-toggleable__control:checked~div.sk-toggleable__content {max-height: 200px;max-width: 100%;overflow: auto;}#sk-container-id-1 input.sk-toggleable__control:checked~label.sk-toggleable__label-arrow:before {content: \"▾\";}#sk-container-id-1 div.sk-estimator input.sk-toggleable__control:checked~label.sk-toggleable__label {background-color: #d4ebff;}#sk-container-id-1 div.sk-label input.sk-toggleable__control:checked~label.sk-toggleable__label {background-color: #d4ebff;}#sk-container-id-1 input.sk-hidden--visually {border: 0;clip: rect(1px 1px 1px 1px);clip: rect(1px, 1px, 1px, 1px);height: 1px;margin: -1px;overflow: hidden;padding: 0;position: absolute;width: 1px;}#sk-container-id-1 div.sk-estimator {font-family: monospace;background-color: #f0f8ff;border: 1px dotted black;border-radius: 0.25em;box-sizing: border-box;margin-bottom: 0.5em;}#sk-container-id-1 div.sk-estimator:hover {background-color: #d4ebff;}#sk-container-id-1 div.sk-parallel-item::after {content: \"\";width: 100%;border-bottom: 1px solid gray;flex-grow: 1;}#sk-container-id-1 div.sk-label:hover label.sk-toggleable__label {background-color: #d4ebff;}#sk-container-id-1 div.sk-serial::before {content: \"\";position: absolute;border-left: 1px solid gray;box-sizing: border-box;top: 0;bottom: 0;left: 50%;z-index: 0;}#sk-container-id-1 div.sk-serial {display: flex;flex-direction: column;align-items: center;background-color: white;padding-right: 0.2em;padding-left: 0.2em;position: relative;}#sk-container-id-1 div.sk-item {position: relative;z-index: 1;}#sk-container-id-1 div.sk-parallel {display: flex;align-items: stretch;justify-content: center;background-color: white;position: relative;}#sk-container-id-1 div.sk-item::before, #sk-container-id-1 div.sk-parallel-item::before {content: \"\";position: absolute;border-left: 1px solid gray;box-sizing: border-box;top: 0;bottom: 0;left: 50%;z-index: -1;}#sk-container-id-1 div.sk-parallel-item {display: flex;flex-direction: column;z-index: 1;position: relative;background-color: white;}#sk-container-id-1 div.sk-parallel-item:first-child::after {align-self: flex-end;width: 50%;}#sk-container-id-1 div.sk-parallel-item:last-child::after {align-self: flex-start;width: 50%;}#sk-container-id-1 div.sk-parallel-item:only-child::after {width: 0;}#sk-container-id-1 div.sk-dashed-wrapped {border: 1px dashed gray;margin: 0 0.4em 0.5em 0.4em;box-sizing: border-box;padding-bottom: 0.4em;background-color: white;}#sk-container-id-1 div.sk-label label {font-family: monospace;font-weight: bold;display: inline-block;line-height: 1.2em;}#sk-container-id-1 div.sk-label-container {text-align: center;}#sk-container-id-1 div.sk-container {/* jupyter's `normalize.less` sets `[hidden] { display: none; }` but bootstrap.min.css set `[hidden] { display: none !important; }` so we also need the `!important` here to be able to override the default hidden behavior on the sphinx rendered scikit-learn.org. See: https://github.com/scikit-learn/scikit-learn/issues/21755 */display: inline-block !important;position: relative;}#sk-container-id-1 div.sk-text-repr-fallback {display: none;}</style><div id=\"sk-container-id-1\" class=\"sk-top-container\"><div class=\"sk-text-repr-fallback\"><pre>RandomForestClassifier(min_samples_leaf=10, n_estimators=50, random_state=7)</pre><b>In a Jupyter environment, please rerun this cell to show the HTML representation or trust the notebook. <br />On GitHub, the HTML representation is unable to render, please try loading this page with nbviewer.org.</b></div><div class=\"sk-container\" hidden><div class=\"sk-item\"><div class=\"sk-estimator sk-toggleable\"><input class=\"sk-toggleable__control sk-hidden--visually\" id=\"sk-estimator-id-1\" type=\"checkbox\" checked><label for=\"sk-estimator-id-1\" class=\"sk-toggleable__label sk-toggleable__label-arrow\">RandomForestClassifier</label><div class=\"sk-toggleable__content\"><pre>RandomForestClassifier(min_samples_leaf=10, n_estimators=50, random_state=7)</pre></div></div></div></div></div>"
     },
     "execution_count": 24,
     "metadata": {},
     "output_type": "execute_result"
    }
   ],
   "source": [
    "predictors = ['venue_code', 'opp_code', 'hour', 'day_code']\n",
    "rf.fit(train[predictors], train['target'])"
   ],
   "metadata": {
    "collapsed": false,
    "ExecuteTime": {
     "end_time": "2024-01-25T23:43:36.812921Z",
     "start_time": "2024-01-25T23:43:36.652087Z"
    }
   },
   "id": "ad2afa57e7ec6d6"
  },
  {
   "cell_type": "code",
   "execution_count": 26,
   "outputs": [],
   "source": [
    "predictions = rf.predict(test[predictors])"
   ],
   "metadata": {
    "collapsed": false,
    "ExecuteTime": {
     "end_time": "2024-01-25T23:46:31.732093Z",
     "start_time": "2024-01-25T23:46:31.704786Z"
    }
   },
   "id": "246778a94c627389"
  },
  {
   "cell_type": "code",
   "execution_count": 27,
   "outputs": [
    {
     "data": {
      "text/plain": "0.6485849056603774"
     },
     "execution_count": 27,
     "metadata": {},
     "output_type": "execute_result"
    }
   ],
   "source": [
    "acc = accuracy_score(test['target'], predictions)\n",
    "acc "
   ],
   "metadata": {
    "collapsed": false,
    "ExecuteTime": {
     "end_time": "2024-01-25T23:46:45.439137Z",
     "start_time": "2024-01-25T23:46:45.431657Z"
    }
   },
   "id": "d1b5bf12ac0861ab"
  },
  {
   "cell_type": "markdown",
   "source": [
    "**Initial Model Accuracy Score: 64.86%**"
   ],
   "metadata": {
    "collapsed": false
   },
   "id": "c70a6293558cdf84"
  },
  {
   "cell_type": "code",
   "execution_count": 29,
   "outputs": [
    {
     "data": {
      "text/plain": "prediction    0    1\nactual              \n0           447   69\n1           229  103",
      "text/html": "<div>\n<style scoped>\n    .dataframe tbody tr th:only-of-type {\n        vertical-align: middle;\n    }\n\n    .dataframe tbody tr th {\n        vertical-align: top;\n    }\n\n    .dataframe thead th {\n        text-align: right;\n    }\n</style>\n<table border=\"1\" class=\"dataframe\">\n  <thead>\n    <tr style=\"text-align: right;\">\n      <th>prediction</th>\n      <th>0</th>\n      <th>1</th>\n    </tr>\n    <tr>\n      <th>actual</th>\n      <th></th>\n      <th></th>\n    </tr>\n  </thead>\n  <tbody>\n    <tr>\n      <th>0</th>\n      <td>447</td>\n      <td>69</td>\n    </tr>\n    <tr>\n      <th>1</th>\n      <td>229</td>\n      <td>103</td>\n    </tr>\n  </tbody>\n</table>\n</div>"
     },
     "execution_count": 29,
     "metadata": {},
     "output_type": "execute_result"
    }
   ],
   "source": [
    "combined = pd.DataFrame(dict(actual=test['target'], prediction=predictions))\n",
    "pd.crosstab(index=combined['actual'], columns=combined['prediction'])"
   ],
   "metadata": {
    "collapsed": false,
    "ExecuteTime": {
     "end_time": "2024-01-25T23:50:28.605954Z",
     "start_time": "2024-01-25T23:50:28.564019Z"
    }
   },
   "id": "ea4e4472ed77dd8c"
  },
  {
   "cell_type": "code",
   "execution_count": 32,
   "outputs": [
    {
     "data": {
      "text/plain": "0.5988372093023255"
     },
     "execution_count": 32,
     "metadata": {},
     "output_type": "execute_result"
    }
   ],
   "source": [
    "precision_score(test['target'], predictions)"
   ],
   "metadata": {
    "collapsed": false,
    "ExecuteTime": {
     "end_time": "2024-01-25T23:54:04.476759Z",
     "start_time": "2024-01-25T23:54:04.457874Z"
    }
   },
   "id": "53e6403d134a0b3a"
  },
  {
   "cell_type": "markdown",
   "source": [
    "**Initial Model Precision Score: 59.88%**  "
   ],
   "metadata": {
    "collapsed": false
   },
   "id": "903960b8a48825aa"
  }
 ],
 "metadata": {
  "kernelspec": {
   "display_name": "Python 3",
   "language": "python",
   "name": "python3"
  },
  "language_info": {
   "codemirror_mode": {
    "name": "ipython",
    "version": 2
   },
   "file_extension": ".py",
   "mimetype": "text/x-python",
   "name": "python",
   "nbconvert_exporter": "python",
   "pygments_lexer": "ipython2",
   "version": "2.7.6"
  }
 },
 "nbformat": 4,
 "nbformat_minor": 5
}
