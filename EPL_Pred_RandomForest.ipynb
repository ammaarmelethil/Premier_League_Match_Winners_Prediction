{
 "cells": [
  {
   "cell_type": "markdown",
   "source": [
    "# 2. Predicting Soccer Match Winners using ML"
   ],
   "metadata": {
    "collapsed": false
   },
   "id": "ebdcc3b68d3ccef5"
  },
  {
   "cell_type": "code",
   "execution_count": 2,
   "outputs": [],
   "source": [
    "import pandas as pd"
   ],
   "metadata": {
    "collapsed": true,
    "ExecuteTime": {
     "end_time": "2024-01-25T22:38:40.361832Z",
     "start_time": "2024-01-25T22:38:39.593051Z"
    }
   },
   "id": "initial_id"
  },
  {
   "cell_type": "code",
   "execution_count": 3,
   "outputs": [
    {
     "data": {
      "text/plain": "         date   time            comp        round  day venue result   gf   ga  \\\n0  2023-08-13  16:30  Premier League  Matchweek 1  Sun  Away      D  1.0  1.0   \n1  2023-08-19  15:00  Premier League  Matchweek 2  Sat  Home      W  3.0  1.0   \n2  2023-08-27  16:30  Premier League  Matchweek 3  Sun  Away      W  2.0  1.0   \n3  2023-09-03  14:00  Premier League  Matchweek 4  Sun  Home      W  3.0  0.0   \n4  2023-09-16  12:30  Premier League  Matchweek 5  Sat  Away      W  3.0  1.0   \n\n        opponent  ...  match report  notes    sh  sot  dist   fk pk pkatt  \\\n0        Chelsea  ...  Match Report    NaN  13.0  1.0  17.8  0.0  0     0   \n1    Bournemouth  ...  Match Report    NaN  25.0  9.0  16.8  1.0  0     1   \n2  Newcastle Utd  ...  Match Report    NaN   9.0  4.0  17.2  1.0  0     0   \n3    Aston Villa  ...  Match Report    NaN  17.0  4.0  14.7  0.0  0     0   \n4         Wolves  ...  Match Report    NaN  16.0  5.0  15.8  0.0  0     0   \n\n   season       team  \n0    2020  Liverpool  \n1    2020  Liverpool  \n2    2020  Liverpool  \n3    2020  Liverpool  \n4    2020  Liverpool  \n\n[5 rows x 27 columns]",
      "text/html": "<div>\n<style scoped>\n    .dataframe tbody tr th:only-of-type {\n        vertical-align: middle;\n    }\n\n    .dataframe tbody tr th {\n        vertical-align: top;\n    }\n\n    .dataframe thead th {\n        text-align: right;\n    }\n</style>\n<table border=\"1\" class=\"dataframe\">\n  <thead>\n    <tr style=\"text-align: right;\">\n      <th></th>\n      <th>date</th>\n      <th>time</th>\n      <th>comp</th>\n      <th>round</th>\n      <th>day</th>\n      <th>venue</th>\n      <th>result</th>\n      <th>gf</th>\n      <th>ga</th>\n      <th>opponent</th>\n      <th>...</th>\n      <th>match report</th>\n      <th>notes</th>\n      <th>sh</th>\n      <th>sot</th>\n      <th>dist</th>\n      <th>fk</th>\n      <th>pk</th>\n      <th>pkatt</th>\n      <th>season</th>\n      <th>team</th>\n    </tr>\n  </thead>\n  <tbody>\n    <tr>\n      <th>0</th>\n      <td>2023-08-13</td>\n      <td>16:30</td>\n      <td>Premier League</td>\n      <td>Matchweek 1</td>\n      <td>Sun</td>\n      <td>Away</td>\n      <td>D</td>\n      <td>1.0</td>\n      <td>1.0</td>\n      <td>Chelsea</td>\n      <td>...</td>\n      <td>Match Report</td>\n      <td>NaN</td>\n      <td>13.0</td>\n      <td>1.0</td>\n      <td>17.8</td>\n      <td>0.0</td>\n      <td>0</td>\n      <td>0</td>\n      <td>2020</td>\n      <td>Liverpool</td>\n    </tr>\n    <tr>\n      <th>1</th>\n      <td>2023-08-19</td>\n      <td>15:00</td>\n      <td>Premier League</td>\n      <td>Matchweek 2</td>\n      <td>Sat</td>\n      <td>Home</td>\n      <td>W</td>\n      <td>3.0</td>\n      <td>1.0</td>\n      <td>Bournemouth</td>\n      <td>...</td>\n      <td>Match Report</td>\n      <td>NaN</td>\n      <td>25.0</td>\n      <td>9.0</td>\n      <td>16.8</td>\n      <td>1.0</td>\n      <td>0</td>\n      <td>1</td>\n      <td>2020</td>\n      <td>Liverpool</td>\n    </tr>\n    <tr>\n      <th>2</th>\n      <td>2023-08-27</td>\n      <td>16:30</td>\n      <td>Premier League</td>\n      <td>Matchweek 3</td>\n      <td>Sun</td>\n      <td>Away</td>\n      <td>W</td>\n      <td>2.0</td>\n      <td>1.0</td>\n      <td>Newcastle Utd</td>\n      <td>...</td>\n      <td>Match Report</td>\n      <td>NaN</td>\n      <td>9.0</td>\n      <td>4.0</td>\n      <td>17.2</td>\n      <td>1.0</td>\n      <td>0</td>\n      <td>0</td>\n      <td>2020</td>\n      <td>Liverpool</td>\n    </tr>\n    <tr>\n      <th>3</th>\n      <td>2023-09-03</td>\n      <td>14:00</td>\n      <td>Premier League</td>\n      <td>Matchweek 4</td>\n      <td>Sun</td>\n      <td>Home</td>\n      <td>W</td>\n      <td>3.0</td>\n      <td>0.0</td>\n      <td>Aston Villa</td>\n      <td>...</td>\n      <td>Match Report</td>\n      <td>NaN</td>\n      <td>17.0</td>\n      <td>4.0</td>\n      <td>14.7</td>\n      <td>0.0</td>\n      <td>0</td>\n      <td>0</td>\n      <td>2020</td>\n      <td>Liverpool</td>\n    </tr>\n    <tr>\n      <th>4</th>\n      <td>2023-09-16</td>\n      <td>12:30</td>\n      <td>Premier League</td>\n      <td>Matchweek 5</td>\n      <td>Sat</td>\n      <td>Away</td>\n      <td>W</td>\n      <td>3.0</td>\n      <td>1.0</td>\n      <td>Wolves</td>\n      <td>...</td>\n      <td>Match Report</td>\n      <td>NaN</td>\n      <td>16.0</td>\n      <td>5.0</td>\n      <td>15.8</td>\n      <td>0.0</td>\n      <td>0</td>\n      <td>0</td>\n      <td>2020</td>\n      <td>Liverpool</td>\n    </tr>\n  </tbody>\n</table>\n<p>5 rows × 27 columns</p>\n</div>"
     },
     "execution_count": 3,
     "metadata": {},
     "output_type": "execute_result"
    }
   ],
   "source": [
    "matches = pd.read_csv('matches.csv')\n",
    "matches.head()"
   ],
   "metadata": {
    "collapsed": false,
    "ExecuteTime": {
     "end_time": "2024-01-25T22:38:40.416723Z",
     "start_time": "2024-01-25T22:38:40.362041Z"
    }
   },
   "id": "df4e6ff5fde57809"
  },
  {
   "cell_type": "code",
   "execution_count": 4,
   "outputs": [
    {
     "data": {
      "text/plain": "(3456, 27)"
     },
     "execution_count": 4,
     "metadata": {},
     "output_type": "execute_result"
    }
   ],
   "source": [
    "matches.shape"
   ],
   "metadata": {
    "collapsed": false,
    "ExecuteTime": {
     "end_time": "2024-01-25T22:39:16.011783Z",
     "start_time": "2024-01-25T22:39:16.010711Z"
    }
   },
   "id": "191f52d60e45e666"
  },
  {
   "cell_type": "markdown",
   "source": [],
   "metadata": {
    "collapsed": false
   },
   "id": "1a3a8c0c008865ea"
  },
  {
   "cell_type": "markdown",
   "source": [
    "### 2.1 Investigating missing data"
   ],
   "metadata": {
    "collapsed": false
   },
   "id": "e152ba1a505b6be8"
  },
  {
   "cell_type": "code",
   "execution_count": 5,
   "outputs": [
    {
     "data": {
      "text/plain": "team\nLiverpool                   173\nManchester United           173\nEverton                     173\nCrystal Palace              173\nWolverhampton Wanderers     173\nChelsea                     173\nNewcastle United            173\nBrighton and Hove Albion    173\nWest Ham United             173\nTottenham Hotspur           173\nAston Villa                 173\nArsenal                     173\nManchester City             172\nSouthampton                 152\nLeicester City              152\nBurnley                     135\nLeeds United                114\nSheffield United             97\nFulham                       97\nBrentford                    96\nBournemouth                  96\nWatford                      76\nNorwich City                 76\nNottingham Forest            59\nWest Bromwich Albion         38\nLuton Town                   20\nName: count, dtype: int64"
     },
     "execution_count": 5,
     "metadata": {},
     "output_type": "execute_result"
    }
   ],
   "source": [
    "matches['team'].value_counts()"
   ],
   "metadata": {
    "collapsed": false,
    "ExecuteTime": {
     "end_time": "2024-01-25T22:43:36.101314Z",
     "start_time": "2024-01-25T22:43:36.091822Z"
    }
   },
   "id": "ddcdf129e24f3134"
  },
  {
   "cell_type": "code",
   "execution_count": 6,
   "outputs": [
    {
     "data": {
      "text/plain": "round\nMatchweek 1     100\nMatchweek 11    100\nMatchweek 21    100\nMatchweek 2     100\nMatchweek 19    100\nMatchweek 16    100\nMatchweek 15    100\nMatchweek 14    100\nMatchweek 13    100\nMatchweek 12    100\nMatchweek 20    100\nMatchweek 10    100\nMatchweek 5     100\nMatchweek 9     100\nMatchweek 4     100\nMatchweek 3     100\nMatchweek 6     100\nMatchweek 7     100\nMatchweek 8     100\nMatchweek 17     98\nMatchweek 18     98\nMatchweek 31     80\nMatchweek 32     80\nMatchweek 37     80\nMatchweek 36     80\nMatchweek 35     80\nMatchweek 28     80\nMatchweek 34     80\nMatchweek 33     80\nMatchweek 25     80\nMatchweek 30     80\nMatchweek 29     80\nMatchweek 27     80\nMatchweek 26     80\nMatchweek 24     80\nMatchweek 23     80\nMatchweek 22     80\nMatchweek 38     80\nName: count, dtype: int64"
     },
     "execution_count": 6,
     "metadata": {},
     "output_type": "execute_result"
    }
   ],
   "source": [
    "matches['round'].value_counts()"
   ],
   "metadata": {
    "collapsed": false,
    "ExecuteTime": {
     "end_time": "2024-01-25T22:46:11.702998Z",
     "start_time": "2024-01-25T22:46:11.698300Z"
    }
   },
   "id": "67582c7c95a1fce4"
  },
  {
   "cell_type": "markdown",
   "source": [
    "### 2.2 Cleaning data for Machine Learning\n",
    "\n",
    "- Converting 'object' date column to 'datetime'\n",
    "- Binary encoding 'venue': very important predictor, home advantage, away disadvantage\n",
    "- Numerically encoding opponents \n",
    "- Converting each hour to int, possible that some teams play better at certain times\n",
    "- Numerically encoding day of week, teams might play better on certain days"
   ],
   "metadata": {
    "collapsed": false
   },
   "id": "df1ea4b4f277777f"
  },
  {
   "cell_type": "code",
   "execution_count": 8,
   "outputs": [
    {
     "data": {
      "text/plain": "date            datetime64[ns]\ntime                    object\ncomp                    object\nround                   object\nday                     object\nvenue                   object\nresult                  object\ngf                     float64\nga                     float64\nopponent                object\nxg                     float64\nxga                    float64\nposs                   float64\nattendance             float64\ncaptain                 object\nformation               object\nreferee                 object\nmatch report            object\nnotes                  float64\nsh                     float64\nsot                    float64\ndist                   float64\nfk                     float64\npk                       int64\npkatt                    int64\nseason                   int64\nteam                    object\ndtype: object"
     },
     "execution_count": 8,
     "metadata": {},
     "output_type": "execute_result"
    }
   ],
   "source": [
    "matches['date'] = pd.to_datetime(matches['date'])\n",
    "matches.dtypes"
   ],
   "metadata": {
    "collapsed": false,
    "ExecuteTime": {
     "end_time": "2024-01-25T22:53:37.135353Z",
     "start_time": "2024-01-25T22:53:37.127503Z"
    }
   },
   "id": "10cfbac0f1ce43da"
  },
  {
   "cell_type": "markdown",
   "source": [
    "Binary Encoding 'venue',  0: Away | 1: Home"
   ],
   "metadata": {
    "collapsed": false
   },
   "id": "754eaabe291575db"
  },
  {
   "cell_type": "code",
   "execution_count": 12,
   "outputs": [],
   "source": [
    "matches['venue_code'] = matches['venue'].astype('category').cat.codes"
   ],
   "metadata": {
    "collapsed": false,
    "ExecuteTime": {
     "end_time": "2024-01-25T23:07:29.076498Z",
     "start_time": "2024-01-25T23:07:29.072073Z"
    }
   },
   "id": "9f0b072a2a1951a8"
  },
  {
   "cell_type": "markdown",
   "source": [
    "Encoding all Opponents"
   ],
   "metadata": {
    "collapsed": false
   },
   "id": "571452844028c091"
  },
  {
   "cell_type": "code",
   "execution_count": 13,
   "outputs": [],
   "source": [
    "matches['opp_code'] = matches['opponent'].astype('category').cat.codes"
   ],
   "metadata": {
    "collapsed": false,
    "ExecuteTime": {
     "end_time": "2024-01-25T23:07:32.841288Z",
     "start_time": "2024-01-25T23:07:32.834870Z"
    }
   },
   "id": "6f7f6eb9e26dd718"
  },
  {
   "cell_type": "markdown",
   "source": [
    "Encoding Hours"
   ],
   "metadata": {
    "collapsed": false
   },
   "id": "71d490b1743ad37b"
  },
  {
   "cell_type": "code",
   "execution_count": 14,
   "outputs": [],
   "source": [
    "matches['hour'] = matches['time'].str.replace(':.+',\"\",regex=True).astype('int')"
   ],
   "metadata": {
    "collapsed": false,
    "ExecuteTime": {
     "end_time": "2024-01-25T23:07:39.201224Z",
     "start_time": "2024-01-25T23:07:39.198178Z"
    }
   },
   "id": "e956d3ced0d551d1"
  },
  {
   "cell_type": "markdown",
   "source": [
    "Encoding Day of Week"
   ],
   "metadata": {
    "collapsed": false
   },
   "id": "7098a84f44452749"
  },
  {
   "cell_type": "code",
   "execution_count": 16,
   "outputs": [],
   "source": [
    "matches['day_code'] = matches['date'].dt.dayofweek"
   ],
   "metadata": {
    "collapsed": false,
    "ExecuteTime": {
     "end_time": "2024-01-25T23:09:47.062054Z",
     "start_time": "2024-01-25T23:09:47.041952Z"
    }
   },
   "id": "5f79af01ca478071"
  },
  {
   "cell_type": "markdown",
   "source": [
    "**Encoding Target Variable 'result',  0: Loss, Draw | 1: Win**"
   ],
   "metadata": {
    "collapsed": false
   },
   "id": "10489564cd77c3f"
  },
  {
   "cell_type": "code",
   "execution_count": 18,
   "outputs": [],
   "source": [
    "matches['target'] = (matches['result'] == 'W').astype('int')"
   ],
   "metadata": {
    "collapsed": false,
    "ExecuteTime": {
     "end_time": "2024-01-25T23:17:03.337447Z",
     "start_time": "2024-01-25T23:17:03.308641Z"
    }
   },
   "id": "7443dc7d7020b032"
  }
 ],
 "metadata": {
  "kernelspec": {
   "display_name": "Python 3",
   "language": "python",
   "name": "python3"
  },
  "language_info": {
   "codemirror_mode": {
    "name": "ipython",
    "version": 2
   },
   "file_extension": ".py",
   "mimetype": "text/x-python",
   "name": "python",
   "nbconvert_exporter": "python",
   "pygments_lexer": "ipython2",
   "version": "2.7.6"
  }
 },
 "nbformat": 4,
 "nbformat_minor": 5
}
